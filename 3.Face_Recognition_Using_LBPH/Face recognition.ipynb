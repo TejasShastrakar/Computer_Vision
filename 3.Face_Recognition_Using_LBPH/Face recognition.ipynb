{
 "cells": [
  {
   "cell_type": "markdown",
   "metadata": {},
   "source": [
    "##Loading the dataset"
   ]
  },
  {
   "cell_type": "code",
   "execution_count": 1,
   "metadata": {},
   "outputs": [],
   "source": [
    "from PIL import Image\n",
    "import cv2\n",
    "import numpy as np"
   ]
  },
  {
   "cell_type": "code",
   "execution_count": 2,
   "metadata": {},
   "outputs": [],
   "source": [
    "import zipfile\n",
    "path = 'Datasets/yalefaces.zip'\n",
    "zip_object = zipfile.ZipFile(file=path, mode = 'r')\n",
    "zip_object.extractall('./')\n",
    "zip_object.close()"
   ]
  },
  {
   "cell_type": "markdown",
   "metadata": {},
   "source": [
    "##Pre-processing the images"
   ]
  },
  {
   "cell_type": "code",
   "execution_count": 3,
   "metadata": {},
   "outputs": [
    {
     "name": "stdout",
     "output_type": "stream",
     "text": [
      "['subject01.glasses.gif', 'subject01.leftlight.gif', 'subject01.noglasses.gif', 'subject01.normal.gif', 'subject01.rightlight.gif', 'subject01.sad.gif', 'subject01.sleepy.gif', 'subject01.surprised.gif', 'subject01.wink.gif', 'subject02.glasses.gif', 'subject02.happy.gif', 'subject02.noglasses.gif', 'subject02.normal.gif', 'subject02.rightlight.gif', 'subject02.sad.gif', 'subject02.sleepy.gif', 'subject02.surprised.gif', 'subject02.wink.gif', 'subject03.centerlight.gif', 'subject03.happy.gif', 'subject03.noglasses.gif', 'subject03.normal.gif', 'subject03.rightlight.gif', 'subject03.sad.gif', 'subject03.sleepy.gif', 'subject03.surprised.gif', 'subject03.wink.gif', 'subject04.centerlight.gif', 'subject04.glasses.gif', 'subject04.happy.gif', 'subject04.noglasses.gif', 'subject04.normal.gif', 'subject04.rightlight.gif', 'subject04.sad.gif', 'subject04.sleepy.gif', 'subject04.wink.gif', 'subject05.centerlight.gif', 'subject05.glasses.gif', 'subject05.happy.gif', 'subject05.leftlight.gif', 'subject05.noglasses.gif', 'subject05.normal.gif', 'subject05.rightlight.gif', 'subject05.sad.gif', 'subject05.wink.gif', 'subject06.centerlight.gif', 'subject06.glasses.gif', 'subject06.noglasses.gif', 'subject06.normal.gif', 'subject06.rightlight.gif', 'subject06.sad.gif', 'subject06.sleepy.gif', 'subject06.surprised.gif', 'subject06.wink.gif', 'subject07.centerlight.gif', 'subject07.glasses.gif', 'subject07.noglasses.gif', 'subject07.normal.gif', 'subject07.rightlight.gif', 'subject07.sad.gif', 'subject07.sleepy.gif', 'subject07.surprised.gif', 'subject07.wink.gif', 'subject08.centerlight.gif', 'subject08.glasses.gif', 'subject08.happy.gif', 'subject08.leftlight.gif', 'subject08.noglasses.gif', 'subject08.sad.gif', 'subject08.sleepy.gif', 'subject08.surprised.gif', 'subject08.wink.gif', 'subject09.centerlight.gif', 'subject09.glasses.gif', 'subject09.happy.gif', 'subject09.leftlight.gif', 'subject09.noglasses.gif', 'subject09.normal.gif', 'subject09.sleepy.gif', 'subject09.surprised.gif', 'subject09.wink.gif', 'subject10.glasses.gif', 'subject10.happy.gif', 'subject10.leftlight.gif', 'subject10.noglasses.gif', 'subject10.normal.gif', 'subject10.rightlight.gif', 'subject10.sleepy.gif', 'subject10.surprised.gif', 'subject10.wink.gif', 'subject11.centerlight.gif', 'subject11.leftlight.gif', 'subject11.noglasses.gif', 'subject11.normal.gif', 'subject11.rightlight.gif', 'subject11.sad.gif', 'subject11.sleepy.gif', 'subject11.surprised.gif', 'subject11.wink.gif', 'subject12.centerlight.gif', 'subject12.glasses.gif', 'subject12.happy.gif', 'subject12.leftlight.gif', 'subject12.noglasses.gif', 'subject12.sad.gif', 'subject12.sleepy.gif', 'subject12.surprised.gif', 'subject12.wink.gif', 'subject13.centerlight.gif', 'subject13.glasses.gif', 'subject13.happy.gif', 'subject13.leftlight.gif', 'subject13.noglasses.gif', 'subject13.normal.gif', 'subject13.rightlight.gif', 'subject13.surprised.gif', 'subject13.wink.gif', 'subject14.centerlight.gif', 'subject14.glasses.gif', 'subject14.happy.gif', 'subject14.leftlight.gif', 'subject14.noglasses.gif', 'subject14.rightlight.gif', 'subject14.sleepy.gif', 'subject14.surprised.gif', 'subject14.wink.gif', 'subject15.centerlight.gif', 'subject15.glasses.gif', 'subject15.happy.gif', 'subject15.leftlight.gif', 'subject15.noglasses.gif', 'subject15.normal.gif', 'subject15.sleepy.gif', 'subject15.surprised.gif', 'subject15.wink.gif']\n"
     ]
    }
   ],
   "source": [
    "import os\n",
    "print(os.listdir('yalefaces\\\\train'))"
   ]
  },
  {
   "cell_type": "code",
   "execution_count": 4,
   "metadata": {},
   "outputs": [],
   "source": [
    "def get_image_data():\n",
    "  paths = [os.path.join('yalefaces\\\\train', f) for f in os.listdir('yalefaces\\\\train')]\n",
    "  print(paths)\n",
    "  faces = []\n",
    "  ids = []\n",
    "  for path in paths:\n",
    "    #print(path)\n",
    "    image = Image.open(path).convert('L')\n",
    "    #print(type(image))\n",
    "    image_np = np.array(image, 'uint8')\n",
    "    #print(type(image_np))\n",
    "    id = int(os.path.split(path)[1].split('.')[0].replace('subject', ''))\n",
    "    #print(id)\n",
    "    ids.append(id)\n",
    "    faces.append(image_np)\n",
    "\n",
    "  return np.array(ids), faces"
   ]
  },
  {
   "cell_type": "code",
   "execution_count": 5,
   "metadata": {},
   "outputs": [
    {
     "name": "stdout",
     "output_type": "stream",
     "text": [
      "['yalefaces\\\\train\\\\subject01.glasses.gif', 'yalefaces\\\\train\\\\subject01.leftlight.gif', 'yalefaces\\\\train\\\\subject01.noglasses.gif', 'yalefaces\\\\train\\\\subject01.normal.gif', 'yalefaces\\\\train\\\\subject01.rightlight.gif', 'yalefaces\\\\train\\\\subject01.sad.gif', 'yalefaces\\\\train\\\\subject01.sleepy.gif', 'yalefaces\\\\train\\\\subject01.surprised.gif', 'yalefaces\\\\train\\\\subject01.wink.gif', 'yalefaces\\\\train\\\\subject02.glasses.gif', 'yalefaces\\\\train\\\\subject02.happy.gif', 'yalefaces\\\\train\\\\subject02.noglasses.gif', 'yalefaces\\\\train\\\\subject02.normal.gif', 'yalefaces\\\\train\\\\subject02.rightlight.gif', 'yalefaces\\\\train\\\\subject02.sad.gif', 'yalefaces\\\\train\\\\subject02.sleepy.gif', 'yalefaces\\\\train\\\\subject02.surprised.gif', 'yalefaces\\\\train\\\\subject02.wink.gif', 'yalefaces\\\\train\\\\subject03.centerlight.gif', 'yalefaces\\\\train\\\\subject03.happy.gif', 'yalefaces\\\\train\\\\subject03.noglasses.gif', 'yalefaces\\\\train\\\\subject03.normal.gif', 'yalefaces\\\\train\\\\subject03.rightlight.gif', 'yalefaces\\\\train\\\\subject03.sad.gif', 'yalefaces\\\\train\\\\subject03.sleepy.gif', 'yalefaces\\\\train\\\\subject03.surprised.gif', 'yalefaces\\\\train\\\\subject03.wink.gif', 'yalefaces\\\\train\\\\subject04.centerlight.gif', 'yalefaces\\\\train\\\\subject04.glasses.gif', 'yalefaces\\\\train\\\\subject04.happy.gif', 'yalefaces\\\\train\\\\subject04.noglasses.gif', 'yalefaces\\\\train\\\\subject04.normal.gif', 'yalefaces\\\\train\\\\subject04.rightlight.gif', 'yalefaces\\\\train\\\\subject04.sad.gif', 'yalefaces\\\\train\\\\subject04.sleepy.gif', 'yalefaces\\\\train\\\\subject04.wink.gif', 'yalefaces\\\\train\\\\subject05.centerlight.gif', 'yalefaces\\\\train\\\\subject05.glasses.gif', 'yalefaces\\\\train\\\\subject05.happy.gif', 'yalefaces\\\\train\\\\subject05.leftlight.gif', 'yalefaces\\\\train\\\\subject05.noglasses.gif', 'yalefaces\\\\train\\\\subject05.normal.gif', 'yalefaces\\\\train\\\\subject05.rightlight.gif', 'yalefaces\\\\train\\\\subject05.sad.gif', 'yalefaces\\\\train\\\\subject05.wink.gif', 'yalefaces\\\\train\\\\subject06.centerlight.gif', 'yalefaces\\\\train\\\\subject06.glasses.gif', 'yalefaces\\\\train\\\\subject06.noglasses.gif', 'yalefaces\\\\train\\\\subject06.normal.gif', 'yalefaces\\\\train\\\\subject06.rightlight.gif', 'yalefaces\\\\train\\\\subject06.sad.gif', 'yalefaces\\\\train\\\\subject06.sleepy.gif', 'yalefaces\\\\train\\\\subject06.surprised.gif', 'yalefaces\\\\train\\\\subject06.wink.gif', 'yalefaces\\\\train\\\\subject07.centerlight.gif', 'yalefaces\\\\train\\\\subject07.glasses.gif', 'yalefaces\\\\train\\\\subject07.noglasses.gif', 'yalefaces\\\\train\\\\subject07.normal.gif', 'yalefaces\\\\train\\\\subject07.rightlight.gif', 'yalefaces\\\\train\\\\subject07.sad.gif', 'yalefaces\\\\train\\\\subject07.sleepy.gif', 'yalefaces\\\\train\\\\subject07.surprised.gif', 'yalefaces\\\\train\\\\subject07.wink.gif', 'yalefaces\\\\train\\\\subject08.centerlight.gif', 'yalefaces\\\\train\\\\subject08.glasses.gif', 'yalefaces\\\\train\\\\subject08.happy.gif', 'yalefaces\\\\train\\\\subject08.leftlight.gif', 'yalefaces\\\\train\\\\subject08.noglasses.gif', 'yalefaces\\\\train\\\\subject08.sad.gif', 'yalefaces\\\\train\\\\subject08.sleepy.gif', 'yalefaces\\\\train\\\\subject08.surprised.gif', 'yalefaces\\\\train\\\\subject08.wink.gif', 'yalefaces\\\\train\\\\subject09.centerlight.gif', 'yalefaces\\\\train\\\\subject09.glasses.gif', 'yalefaces\\\\train\\\\subject09.happy.gif', 'yalefaces\\\\train\\\\subject09.leftlight.gif', 'yalefaces\\\\train\\\\subject09.noglasses.gif', 'yalefaces\\\\train\\\\subject09.normal.gif', 'yalefaces\\\\train\\\\subject09.sleepy.gif', 'yalefaces\\\\train\\\\subject09.surprised.gif', 'yalefaces\\\\train\\\\subject09.wink.gif', 'yalefaces\\\\train\\\\subject10.glasses.gif', 'yalefaces\\\\train\\\\subject10.happy.gif', 'yalefaces\\\\train\\\\subject10.leftlight.gif', 'yalefaces\\\\train\\\\subject10.noglasses.gif', 'yalefaces\\\\train\\\\subject10.normal.gif', 'yalefaces\\\\train\\\\subject10.rightlight.gif', 'yalefaces\\\\train\\\\subject10.sleepy.gif', 'yalefaces\\\\train\\\\subject10.surprised.gif', 'yalefaces\\\\train\\\\subject10.wink.gif', 'yalefaces\\\\train\\\\subject11.centerlight.gif', 'yalefaces\\\\train\\\\subject11.leftlight.gif', 'yalefaces\\\\train\\\\subject11.noglasses.gif', 'yalefaces\\\\train\\\\subject11.normal.gif', 'yalefaces\\\\train\\\\subject11.rightlight.gif', 'yalefaces\\\\train\\\\subject11.sad.gif', 'yalefaces\\\\train\\\\subject11.sleepy.gif', 'yalefaces\\\\train\\\\subject11.surprised.gif', 'yalefaces\\\\train\\\\subject11.wink.gif', 'yalefaces\\\\train\\\\subject12.centerlight.gif', 'yalefaces\\\\train\\\\subject12.glasses.gif', 'yalefaces\\\\train\\\\subject12.happy.gif', 'yalefaces\\\\train\\\\subject12.leftlight.gif', 'yalefaces\\\\train\\\\subject12.noglasses.gif', 'yalefaces\\\\train\\\\subject12.sad.gif', 'yalefaces\\\\train\\\\subject12.sleepy.gif', 'yalefaces\\\\train\\\\subject12.surprised.gif', 'yalefaces\\\\train\\\\subject12.wink.gif', 'yalefaces\\\\train\\\\subject13.centerlight.gif', 'yalefaces\\\\train\\\\subject13.glasses.gif', 'yalefaces\\\\train\\\\subject13.happy.gif', 'yalefaces\\\\train\\\\subject13.leftlight.gif', 'yalefaces\\\\train\\\\subject13.noglasses.gif', 'yalefaces\\\\train\\\\subject13.normal.gif', 'yalefaces\\\\train\\\\subject13.rightlight.gif', 'yalefaces\\\\train\\\\subject13.surprised.gif', 'yalefaces\\\\train\\\\subject13.wink.gif', 'yalefaces\\\\train\\\\subject14.centerlight.gif', 'yalefaces\\\\train\\\\subject14.glasses.gif', 'yalefaces\\\\train\\\\subject14.happy.gif', 'yalefaces\\\\train\\\\subject14.leftlight.gif', 'yalefaces\\\\train\\\\subject14.noglasses.gif', 'yalefaces\\\\train\\\\subject14.rightlight.gif', 'yalefaces\\\\train\\\\subject14.sleepy.gif', 'yalefaces\\\\train\\\\subject14.surprised.gif', 'yalefaces\\\\train\\\\subject14.wink.gif', 'yalefaces\\\\train\\\\subject15.centerlight.gif', 'yalefaces\\\\train\\\\subject15.glasses.gif', 'yalefaces\\\\train\\\\subject15.happy.gif', 'yalefaces\\\\train\\\\subject15.leftlight.gif', 'yalefaces\\\\train\\\\subject15.noglasses.gif', 'yalefaces\\\\train\\\\subject15.normal.gif', 'yalefaces\\\\train\\\\subject15.sleepy.gif', 'yalefaces\\\\train\\\\subject15.surprised.gif', 'yalefaces\\\\train\\\\subject15.wink.gif']\n"
     ]
    }
   ],
   "source": [
    "ids, faces = get_image_data()"
   ]
  },
  {
   "cell_type": "code",
   "execution_count": 6,
   "metadata": {},
   "outputs": [
    {
     "data": {
      "text/plain": [
       "array([ 1,  1,  1,  1,  1,  1,  1,  1,  1,  2,  2,  2,  2,  2,  2,  2,  2,\n",
       "        2,  3,  3,  3,  3,  3,  3,  3,  3,  3,  4,  4,  4,  4,  4,  4,  4,\n",
       "        4,  4,  5,  5,  5,  5,  5,  5,  5,  5,  5,  6,  6,  6,  6,  6,  6,\n",
       "        6,  6,  6,  7,  7,  7,  7,  7,  7,  7,  7,  7,  8,  8,  8,  8,  8,\n",
       "        8,  8,  8,  8,  9,  9,  9,  9,  9,  9,  9,  9,  9, 10, 10, 10, 10,\n",
       "       10, 10, 10, 10, 10, 11, 11, 11, 11, 11, 11, 11, 11, 11, 12, 12, 12,\n",
       "       12, 12, 12, 12, 12, 12, 13, 13, 13, 13, 13, 13, 13, 13, 13, 14, 14,\n",
       "       14, 14, 14, 14, 14, 14, 14, 15, 15, 15, 15, 15, 15, 15, 15, 15])"
      ]
     },
     "execution_count": 6,
     "metadata": {},
     "output_type": "execute_result"
    }
   ],
   "source": [
    "ids"
   ]
  },
  {
   "cell_type": "code",
   "execution_count": 7,
   "metadata": {},
   "outputs": [
    {
     "data": {
      "text/plain": [
       "135"
      ]
     },
     "execution_count": 7,
     "metadata": {},
     "output_type": "execute_result"
    }
   ],
   "source": [
    "len(ids)"
   ]
  },
  {
   "cell_type": "code",
   "execution_count": 8,
   "metadata": {},
   "outputs": [
    {
     "data": {
      "text/plain": [
       "135"
      ]
     },
     "execution_count": 8,
     "metadata": {},
     "output_type": "execute_result"
    }
   ],
   "source": [
    "len(faces)"
   ]
  },
  {
   "cell_type": "code",
   "execution_count": 9,
   "metadata": {},
   "outputs": [
    {
     "data": {
      "text/plain": [
       "(array([[130, 130, 130, ..., 255, 255, 255],\n",
       "        [255, 255, 255, ..., 255, 255, 255],\n",
       "        [255, 255, 255, ..., 255, 255, 255],\n",
       "        ...,\n",
       "        [255, 255, 255, ..., 252, 255, 255],\n",
       "        [255, 255, 255, ..., 255, 255, 255],\n",
       "        [ 68,  68,  68, ...,  68,  68,  68]], dtype=uint8),\n",
       " (243, 320))"
      ]
     },
     "execution_count": 9,
     "metadata": {},
     "output_type": "execute_result"
    }
   ],
   "source": [
    "faces[0], faces[0].shape"
   ]
  },
  {
   "cell_type": "code",
   "execution_count": 10,
   "metadata": {},
   "outputs": [
    {
     "data": {
      "text/plain": [
       "77760"
      ]
     },
     "execution_count": 10,
     "metadata": {},
     "output_type": "execute_result"
    }
   ],
   "source": [
    "243 * 320"
   ]
  },
  {
   "cell_type": "markdown",
   "metadata": {},
   "source": [
    "##Training the LBPH classifier"
   ]
  },
  {
   "cell_type": "code",
   "execution_count": 11,
   "metadata": {},
   "outputs": [],
   "source": [
    "# threshold: 1.7976931348623157e+308\n",
    "# radius: 1\n",
    "# neighbors: 8\n",
    "# grid_x: 8\n",
    "# grid_y: 8\n",
    "\n",
    "lbph_classifier = cv2.face.LBPHFaceRecognizer_create(radius = 4, neighbors=14, grid_x = 9, grid_y = 9)\n",
    "lbph_classifier.train(faces, ids)\n",
    "lbph_classifier.write('lbph_classifier.yml')"
   ]
  },
  {
   "cell_type": "markdown",
   "metadata": {},
   "source": [
    "##Recognizing faces"
   ]
  },
  {
   "cell_type": "code",
   "execution_count": 12,
   "metadata": {},
   "outputs": [],
   "source": [
    "lbph_face_classifier = cv2.face.LBPHFaceRecognizer_create()\n",
    "lbph_face_classifier.read('lbph_classifier.yml')"
   ]
  },
  {
   "cell_type": "code",
   "execution_count": 13,
   "metadata": {},
   "outputs": [],
   "source": [
    "test_image = 'yalefaces/test/subject09.sad.gif'"
   ]
  },
  {
   "cell_type": "code",
   "execution_count": 14,
   "metadata": {},
   "outputs": [
    {
     "data": {
      "text/plain": [
       "array([[130, 130, 130, ..., 255, 255, 255],\n",
       "       [255, 255, 255, ..., 255, 255, 255],\n",
       "       [255, 255, 255, ..., 255, 255, 255],\n",
       "       ...,\n",
       "       [255, 255, 255, ..., 255, 238, 237],\n",
       "       [255, 255, 255, ..., 255, 235, 237],\n",
       "       [ 68,  68,  68, ...,  68,  68,  68]], dtype=uint8)"
      ]
     },
     "execution_count": 14,
     "metadata": {},
     "output_type": "execute_result"
    }
   ],
   "source": [
    "image = Image.open(test_image).convert('L')\n",
    "image_np = np.array(image, 'uint8')\n",
    "image_np"
   ]
  },
  {
   "cell_type": "code",
   "execution_count": 15,
   "metadata": {},
   "outputs": [
    {
     "data": {
      "text/plain": [
       "(243, 320)"
      ]
     },
     "execution_count": 15,
     "metadata": {},
     "output_type": "execute_result"
    }
   ],
   "source": [
    "image_np.shape"
   ]
  },
  {
   "cell_type": "code",
   "execution_count": 16,
   "metadata": {},
   "outputs": [
    {
     "data": {
      "text/plain": [
       "(9, 63.38040010596866)"
      ]
     },
     "execution_count": 16,
     "metadata": {},
     "output_type": "execute_result"
    }
   ],
   "source": [
    "prediction = lbph_face_classifier.predict(image_np)\n",
    "prediction"
   ]
  },
  {
   "cell_type": "code",
   "execution_count": 17,
   "metadata": {},
   "outputs": [
    {
     "data": {
      "text/plain": [
       "9"
      ]
     },
     "execution_count": 17,
     "metadata": {},
     "output_type": "execute_result"
    }
   ],
   "source": [
    "prediction[0]"
   ]
  },
  {
   "cell_type": "code",
   "execution_count": 18,
   "metadata": {},
   "outputs": [
    {
     "data": {
      "text/plain": [
       "9"
      ]
     },
     "execution_count": 18,
     "metadata": {},
     "output_type": "execute_result"
    }
   ],
   "source": [
    "expected_output = int(os.path.split(test_image)[1].split('.')[0].replace('subject', ''))\n",
    "expected_output"
   ]
  },
  {
   "cell_type": "code",
   "execution_count": 19,
   "metadata": {},
   "outputs": [],
   "source": [
    "cv2.putText(image_np, 'Pred: ' + str(prediction[0]), (10, 30), cv2.FONT_HERSHEY_COMPLEX_SMALL, 1, (0,255,0))\n",
    "cv2.putText(image_np, 'Exp: ' + str(expected_output), (10, 50), cv2.FONT_HERSHEY_COMPLEX_SMALL, 1, (0,255,0))\n",
    "\n",
    "\n",
    "#To Display image\n",
    "if image is not None:\n",
    "    # Display the image\n",
    "    cv2.imshow('image', image_np)\n",
    "\n",
    "    # Wait for a key press and close the window\n",
    "    cv2.waitKey(0)\n",
    "    cv2.destroyAllWindows()\n",
    "else:\n",
    "    print(\"Error: Unable to read the image.\")"
   ]
  }
 ],
 "metadata": {
  "kernelspec": {
   "display_name": "Python 3",
   "language": "python",
   "name": "python3"
  },
  "language_info": {
   "codemirror_mode": {
    "name": "ipython",
    "version": 3
   },
   "file_extension": ".py",
   "mimetype": "text/x-python",
   "name": "python",
   "nbconvert_exporter": "python",
   "pygments_lexer": "ipython3",
   "version": "3.10.0"
  }
 },
 "nbformat": 4,
 "nbformat_minor": 2
}
