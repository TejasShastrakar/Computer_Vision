{
 "cells": [
  {
   "cell_type": "markdown",
   "metadata": {},
   "source": [
    "#####Neural network for image classification using Colour Feature Extractor"
   ]
  },
  {
   "cell_type": "code",
   "execution_count": 1,
   "metadata": {},
   "outputs": [
    {
     "name": "stdout",
     "output_type": "stream",
     "text": [
      "WARNING:tensorflow:From c:\\Users\\User\\AppData\\Local\\Programs\\Python\\Python310\\lib\\site-packages\\keras\\src\\losses.py:2976: The name tf.losses.sparse_softmax_cross_entropy is deprecated. Please use tf.compat.v1.losses.sparse_softmax_cross_entropy instead.\n",
      "\n"
     ]
    },
    {
     "data": {
      "text/plain": [
       "'2.15.0'"
      ]
     },
     "execution_count": 1,
     "metadata": {},
     "output_type": "execute_result"
    }
   ],
   "source": [
    "import cv2\n",
    "import numpy as np\n",
    "import os\n",
    "import zipfile\n",
    "#import cv2_imshow\n",
    "import tensorflow as tf\n",
    "import pandas as pd\n",
    "import seaborn as sns\n",
    "import matplotlib.pyplot as plt\n",
    "tf.__version__"
   ]
  },
  {
   "cell_type": "code",
   "execution_count": 3,
   "metadata": {},
   "outputs": [],
   "source": [
    "path = 'Computer_Vision_Masterclass_files\\Datasets\\homer_bart_1.zip'\n",
    "zip_object = zipfile.ZipFile(file = path, mode = 'r')\n",
    "zip_object.extractall('./')\n",
    "zip_object.close()"
   ]
  },
  {
   "cell_type": "code",
   "execution_count": 6,
   "metadata": {},
   "outputs": [],
   "source": [
    "directory = 'homer_bart_1'\n"
   ]
  },
  {
   "cell_type": "markdown",
   "metadata": {},
   "source": [
    "###Feature extraction\n"
   ]
  },
  {
   "cell_type": "code",
   "execution_count": 7,
   "metadata": {},
   "outputs": [
    {
     "name": "stdout",
     "output_type": "stream",
     "text": [
      "['homer_bart_1\\\\.DS_Store', 'homer_bart_1\\\\bart1.bmp', 'homer_bart_1\\\\bart10.bmp', 'homer_bart_1\\\\bart100.bmp', 'homer_bart_1\\\\bart101.bmp', 'homer_bart_1\\\\bart102.bmp', 'homer_bart_1\\\\bart103.bmp', 'homer_bart_1\\\\bart104.bmp', 'homer_bart_1\\\\bart105.bmp', 'homer_bart_1\\\\bart106.bmp', 'homer_bart_1\\\\bart108.bmp', 'homer_bart_1\\\\bart109.bmp', 'homer_bart_1\\\\bart11.bmp', 'homer_bart_1\\\\bart110.bmp', 'homer_bart_1\\\\bart111.bmp', 'homer_bart_1\\\\bart112.bmp', 'homer_bart_1\\\\bart113.bmp', 'homer_bart_1\\\\bart114.bmp', 'homer_bart_1\\\\bart115.bmp', 'homer_bart_1\\\\bart116.bmp', 'homer_bart_1\\\\bart117.bmp', 'homer_bart_1\\\\bart118.bmp', 'homer_bart_1\\\\bart119.bmp', 'homer_bart_1\\\\bart12.bmp', 'homer_bart_1\\\\bart120.bmp', 'homer_bart_1\\\\bart121.bmp', 'homer_bart_1\\\\bart122.bmp', 'homer_bart_1\\\\bart123.bmp', 'homer_bart_1\\\\bart124.bmp', 'homer_bart_1\\\\bart125.bmp', 'homer_bart_1\\\\bart126.bmp', 'homer_bart_1\\\\bart127.bmp', 'homer_bart_1\\\\bart128.bmp', 'homer_bart_1\\\\bart13.bmp', 'homer_bart_1\\\\bart130.bmp', 'homer_bart_1\\\\bart131.bmp', 'homer_bart_1\\\\bart132.bmp', 'homer_bart_1\\\\bart133.bmp', 'homer_bart_1\\\\bart134.bmp', 'homer_bart_1\\\\bart135.bmp', 'homer_bart_1\\\\bart136.bmp', 'homer_bart_1\\\\bart137.bmp', 'homer_bart_1\\\\bart138.bmp', 'homer_bart_1\\\\bart139.bmp', 'homer_bart_1\\\\bart14.bmp', 'homer_bart_1\\\\bart141.bmp', 'homer_bart_1\\\\bart142.bmp', 'homer_bart_1\\\\bart143.bmp', 'homer_bart_1\\\\bart144.bmp', 'homer_bart_1\\\\bart145.bmp', 'homer_bart_1\\\\bart146.bmp', 'homer_bart_1\\\\bart147.bmp', 'homer_bart_1\\\\bart148.bmp', 'homer_bart_1\\\\bart149.bmp', 'homer_bart_1\\\\bart15.bmp', 'homer_bart_1\\\\bart150.bmp', 'homer_bart_1\\\\bart151.bmp', 'homer_bart_1\\\\bart153.bmp', 'homer_bart_1\\\\bart154.bmp', 'homer_bart_1\\\\bart155.bmp', 'homer_bart_1\\\\bart156.bmp', 'homer_bart_1\\\\bart157.bmp', 'homer_bart_1\\\\bart158.bmp', 'homer_bart_1\\\\bart159.bmp', 'homer_bart_1\\\\bart16.bmp', 'homer_bart_1\\\\bart160.bmp', 'homer_bart_1\\\\bart161.bmp', 'homer_bart_1\\\\bart162.bmp', 'homer_bart_1\\\\bart164.bmp', 'homer_bart_1\\\\bart165.bmp', 'homer_bart_1\\\\bart166.bmp', 'homer_bart_1\\\\bart167.bmp', 'homer_bart_1\\\\bart168.bmp', 'homer_bart_1\\\\bart169.bmp', 'homer_bart_1\\\\bart17.bmp', 'homer_bart_1\\\\bart18.bmp', 'homer_bart_1\\\\bart19.bmp', 'homer_bart_1\\\\bart2.bmp', 'homer_bart_1\\\\bart20.bmp', 'homer_bart_1\\\\bart21.bmp', 'homer_bart_1\\\\bart22.bmp', 'homer_bart_1\\\\bart23.bmp', 'homer_bart_1\\\\bart24.bmp', 'homer_bart_1\\\\bart25.bmp', 'homer_bart_1\\\\bart26.bmp', 'homer_bart_1\\\\bart27.bmp', 'homer_bart_1\\\\bart28.bmp', 'homer_bart_1\\\\bart29.bmp', 'homer_bart_1\\\\bart3.bmp', 'homer_bart_1\\\\bart30.bmp', 'homer_bart_1\\\\bart31.bmp', 'homer_bart_1\\\\bart32.bmp', 'homer_bart_1\\\\bart34.bmp', 'homer_bart_1\\\\bart35.bmp', 'homer_bart_1\\\\bart36.bmp', 'homer_bart_1\\\\bart37.bmp', 'homer_bart_1\\\\bart38.bmp', 'homer_bart_1\\\\bart39.bmp', 'homer_bart_1\\\\bart4.bmp', 'homer_bart_1\\\\bart40.bmp', 'homer_bart_1\\\\bart42.bmp', 'homer_bart_1\\\\bart43.bmp', 'homer_bart_1\\\\bart44.bmp', 'homer_bart_1\\\\bart45.bmp', 'homer_bart_1\\\\bart46.bmp', 'homer_bart_1\\\\bart47.bmp', 'homer_bart_1\\\\bart48.bmp', 'homer_bart_1\\\\bart49.bmp', 'homer_bart_1\\\\bart5.bmp', 'homer_bart_1\\\\bart50.bmp', 'homer_bart_1\\\\bart51.bmp', 'homer_bart_1\\\\bart52.bmp', 'homer_bart_1\\\\bart53.bmp', 'homer_bart_1\\\\bart54.bmp', 'homer_bart_1\\\\bart55.bmp', 'homer_bart_1\\\\bart56.bmp', 'homer_bart_1\\\\bart57.bmp', 'homer_bart_1\\\\bart58.bmp', 'homer_bart_1\\\\bart59.bmp', 'homer_bart_1\\\\bart6.bmp', 'homer_bart_1\\\\bart60.bmp', 'homer_bart_1\\\\bart61.bmp', 'homer_bart_1\\\\bart62.bmp', 'homer_bart_1\\\\bart63.bmp', 'homer_bart_1\\\\bart64.bmp', 'homer_bart_1\\\\bart65.bmp', 'homer_bart_1\\\\bart66.bmp', 'homer_bart_1\\\\bart67.bmp', 'homer_bart_1\\\\bart68.bmp', 'homer_bart_1\\\\bart69.bmp', 'homer_bart_1\\\\bart7.bmp', 'homer_bart_1\\\\bart70.bmp', 'homer_bart_1\\\\bart71.bmp', 'homer_bart_1\\\\bart72.bmp', 'homer_bart_1\\\\bart73.bmp', 'homer_bart_1\\\\bart74.bmp', 'homer_bart_1\\\\bart75.bmp', 'homer_bart_1\\\\bart76.bmp', 'homer_bart_1\\\\bart77.bmp', 'homer_bart_1\\\\bart79.bmp', 'homer_bart_1\\\\bart8.bmp', 'homer_bart_1\\\\bart80.bmp', 'homer_bart_1\\\\bart81.bmp', 'homer_bart_1\\\\bart82.bmp', 'homer_bart_1\\\\bart83.bmp', 'homer_bart_1\\\\bart84.bmp', 'homer_bart_1\\\\bart85.bmp', 'homer_bart_1\\\\bart86.bmp', 'homer_bart_1\\\\bart87.bmp', 'homer_bart_1\\\\bart89.bmp', 'homer_bart_1\\\\bart9.bmp', 'homer_bart_1\\\\bart90.bmp', 'homer_bart_1\\\\bart91.bmp', 'homer_bart_1\\\\bart92.bmp', 'homer_bart_1\\\\bart93.bmp', 'homer_bart_1\\\\bart94.bmp', 'homer_bart_1\\\\bart95.bmp', 'homer_bart_1\\\\bart96.bmp', 'homer_bart_1\\\\bart97.bmp', 'homer_bart_1\\\\bart98.bmp', 'homer_bart_1\\\\bart99.bmp', 'homer_bart_1\\\\homer1.bmp', 'homer_bart_1\\\\homer10.bmp', 'homer_bart_1\\\\homer100.bmp', 'homer_bart_1\\\\homer101.bmp', 'homer_bart_1\\\\homer102.bmp', 'homer_bart_1\\\\homer103.bmp', 'homer_bart_1\\\\homer104.bmp', 'homer_bart_1\\\\homer105.bmp', 'homer_bart_1\\\\homer106.bmp', 'homer_bart_1\\\\homer107.bmp', 'homer_bart_1\\\\homer109.bmp', 'homer_bart_1\\\\homer110.bmp', 'homer_bart_1\\\\homer112.bmp', 'homer_bart_1\\\\homer113.bmp', 'homer_bart_1\\\\homer115.bmp', 'homer_bart_1\\\\homer116.bmp', 'homer_bart_1\\\\homer117.bmp', 'homer_bart_1\\\\homer119.bmp', 'homer_bart_1\\\\homer120.bmp', 'homer_bart_1\\\\homer121.bmp', 'homer_bart_1\\\\homer122.bmp', 'homer_bart_1\\\\homer123.bmp', 'homer_bart_1\\\\homer124.bmp', 'homer_bart_1\\\\homer13.bmp', 'homer_bart_1\\\\homer14.bmp', 'homer_bart_1\\\\homer15.bmp', 'homer_bart_1\\\\homer16.bmp', 'homer_bart_1\\\\homer17.bmp', 'homer_bart_1\\\\homer18.bmp', 'homer_bart_1\\\\homer2.bmp', 'homer_bart_1\\\\homer20.bmp', 'homer_bart_1\\\\homer21.bmp', 'homer_bart_1\\\\homer22.bmp', 'homer_bart_1\\\\homer23.bmp', 'homer_bart_1\\\\homer24.bmp', 'homer_bart_1\\\\homer26.bmp', 'homer_bart_1\\\\homer27.bmp', 'homer_bart_1\\\\homer28.bmp', 'homer_bart_1\\\\homer29.bmp', 'homer_bart_1\\\\homer3.bmp', 'homer_bart_1\\\\homer30.bmp', 'homer_bart_1\\\\homer31.bmp', 'homer_bart_1\\\\homer32.bmp', 'homer_bart_1\\\\homer33.bmp', 'homer_bart_1\\\\homer34.bmp', 'homer_bart_1\\\\homer35.bmp', 'homer_bart_1\\\\homer36.bmp', 'homer_bart_1\\\\homer37.bmp', 'homer_bart_1\\\\homer38.bmp', 'homer_bart_1\\\\homer4.bmp', 'homer_bart_1\\\\homer40.bmp', 'homer_bart_1\\\\homer41.bmp', 'homer_bart_1\\\\homer43.bmp', 'homer_bart_1\\\\homer44.bmp', 'homer_bart_1\\\\homer45.bmp', 'homer_bart_1\\\\homer46.bmp', 'homer_bart_1\\\\homer47.bmp', 'homer_bart_1\\\\homer48.bmp', 'homer_bart_1\\\\homer49.bmp', 'homer_bart_1\\\\homer5.bmp', 'homer_bart_1\\\\homer50.bmp', 'homer_bart_1\\\\homer51.bmp', 'homer_bart_1\\\\homer52.bmp', 'homer_bart_1\\\\homer54.bmp', 'homer_bart_1\\\\homer55.bmp', 'homer_bart_1\\\\homer56.bmp', 'homer_bart_1\\\\homer57.bmp', 'homer_bart_1\\\\homer58.bmp', 'homer_bart_1\\\\homer59.bmp', 'homer_bart_1\\\\homer6.bmp', 'homer_bart_1\\\\homer60.bmp', 'homer_bart_1\\\\homer61.bmp', 'homer_bart_1\\\\homer62.bmp', 'homer_bart_1\\\\homer63.bmp', 'homer_bart_1\\\\homer65.bmp', 'homer_bart_1\\\\homer66.bmp', 'homer_bart_1\\\\homer68.bmp', 'homer_bart_1\\\\homer69.bmp', 'homer_bart_1\\\\homer7.bmp', 'homer_bart_1\\\\homer70.bmp', 'homer_bart_1\\\\homer71.bmp', 'homer_bart_1\\\\homer72.bmp', 'homer_bart_1\\\\homer73.bmp', 'homer_bart_1\\\\homer74.bmp', 'homer_bart_1\\\\homer75.bmp', 'homer_bart_1\\\\homer76.bmp', 'homer_bart_1\\\\homer77.bmp', 'homer_bart_1\\\\homer78.bmp', 'homer_bart_1\\\\homer79.bmp', 'homer_bart_1\\\\homer8.bmp', 'homer_bart_1\\\\homer80.bmp', 'homer_bart_1\\\\homer81.bmp', 'homer_bart_1\\\\homer82.bmp', 'homer_bart_1\\\\homer83.bmp', 'homer_bart_1\\\\homer84.bmp', 'homer_bart_1\\\\homer85.bmp', 'homer_bart_1\\\\homer86.bmp', 'homer_bart_1\\\\homer87.bmp', 'homer_bart_1\\\\homer9.bmp', 'homer_bart_1\\\\homer90.bmp', 'homer_bart_1\\\\homer91.bmp', 'homer_bart_1\\\\homer92.bmp', 'homer_bart_1\\\\homer93.bmp', 'homer_bart_1\\\\homer94.bmp', 'homer_bart_1\\\\homer95.bmp', 'homer_bart_1\\\\homer96.bmp', 'homer_bart_1\\\\homer97.bmp', 'homer_bart_1\\\\homer98.bmp', 'homer_bart_1\\\\homer99.bmp']\n"
     ]
    }
   ],
   "source": [
    "files = [os.path.join(directory, f) for f in sorted(os.listdir(directory))]\n",
    "print(files)"
   ]
  },
  {
   "cell_type": "code",
   "execution_count": 8,
   "metadata": {},
   "outputs": [],
   "source": [
    "export = 'mouth,pants,shoes,tshirt,shorts,sneakers,class\\n'"
   ]
  },
  {
   "cell_type": "code",
   "execution_count": 9,
   "metadata": {},
   "outputs": [],
   "source": [
    "show_images = False\n",
    "features = []"
   ]
  },
  {
   "cell_type": "code",
   "execution_count": 10,
   "metadata": {},
   "outputs": [
    {
     "data": {
      "text/plain": [
       "20000"
      ]
     },
     "execution_count": 10,
     "metadata": {},
     "output_type": "execute_result"
    }
   ],
   "source": [
    "100 * 200"
   ]
  },
  {
   "cell_type": "code",
   "execution_count": 11,
   "metadata": {},
   "outputs": [
    {
     "data": {
      "text/plain": [
       "10.0"
      ]
     },
     "execution_count": 11,
     "metadata": {},
     "output_type": "execute_result"
    }
   ],
   "source": [
    "(2000 / 20000) * 100"
   ]
  },
  {
   "cell_type": "code",
   "execution_count": 12,
   "metadata": {},
   "outputs": [
    {
     "data": {
      "text/plain": [
       "50.0"
      ]
     },
     "execution_count": 12,
     "metadata": {},
     "output_type": "execute_result"
    }
   ],
   "source": [
    "100 / 2"
   ]
  },
  {
   "cell_type": "code",
   "execution_count": 13,
   "metadata": {},
   "outputs": [],
   "source": [
    "for image_path in files:\n",
    "  #print(image_path)\n",
    "  try:\n",
    "    original_image = cv2.imread(image_path)\n",
    "    (H, W) = original_image.shape[:2]\n",
    "  except:\n",
    "    continue\n",
    "\n",
    "  image = original_image.copy()\n",
    "  image_features = []\n",
    "  mouth = pants = shoes = 0\n",
    "  tshirt = shorts = sneakers = 0\n",
    "\n",
    "  image_name = os.path.basename(os.path.normpath(image_path))\n",
    "\n",
    "  if image_name.startswith('b'):\n",
    "    class_name = 0\n",
    "  else:\n",
    "    class_name = 1\n",
    "\n",
    "  for height in range(0, H):\n",
    "    for width in range(0, W):\n",
    "      blue = image.item(height, width, 0)\n",
    "      green = image.item(height, width, 1)\n",
    "      red = image.item(height, width, 2)\n",
    "\n",
    "      # Homer - brown mouth\n",
    "      if (blue >= 95 and blue <= 140 and green >= 160 and green <= 185 and red >= 175 and red <= 200):\n",
    "        image[height, width] = [0, 255, 255]\n",
    "        mouth += 1\n",
    "\n",
    "      # Homer - blue pants\n",
    "      if (blue >= 150 and blue <= 180 and green >= 98 and green <= 120 and red >= 0 and red <= 90):\n",
    "        image[height, width] = [0, 255, 255]\n",
    "        pants += 1\n",
    "\n",
    "      # Homer - gray shoes\n",
    "      if height > (H / 2):\n",
    "        if (blue >= 25 and blue <= 45 and green >= 25 and green <= 45 and red >= 25 and red <= 45):\n",
    "          image[height, width] = [0, 255, 255]\n",
    "          shoes += 1\n",
    "\n",
    "      # Bart - orange t-shirt\n",
    "      if (blue >= 11 and blue <= 22 and green >= 85 and green <= 105 and red >= 240 and red <= 255):\n",
    "        image[height, width] = [0, 255, 128]\n",
    "        tshirt += 1\n",
    "\n",
    "      # Bart - blue shorts\n",
    "      if (blue >= 125 and blue <= 170 and green >= 0 and green <= 12 and red >= 0 and red <= 20):\n",
    "        image[height, width] = [0, 255, 128]\n",
    "        shorts += 1\n",
    "\n",
    "      # Bart - blue sneakers\n",
    "      if height > (H / 2):\n",
    "        if (blue >= 125 and blue <= 170 and green >= 0 and green <= 12 and red >= 0 and red <= 20):\n",
    "          image[height, width] = [0, 255, 128]\n",
    "          sneakers += 1\n",
    "\n",
    "  mouth = round((mouth / (H * W)) * 100, 9)\n",
    "  pants = round((pants / (H * W)) * 100, 9)\n",
    "  shoes = round((shoes / (H * W)) * 100, 9)\n",
    "\n",
    "  tshirt = round((tshirt / (H * W)) * 100, 9)\n",
    "  shorts = round((shorts / (H * W)) * 100, 9)\n",
    "  sneakers = round((sneakers / (H * W)) * 100, 9)\n",
    "\n",
    "  image_features.append(mouth)\n",
    "  image_features.append(pants)\n",
    "  image_features.append(shoes)\n",
    "  image_features.append(tshirt)\n",
    "  image_features.append(shorts)\n",
    "  image_features.append(sneakers)\n",
    "  image_features.append(class_name)\n",
    "\n",
    "  features.append(image_features)\n",
    "\n",
    "  #print('Homer mouth: %s - Homer pants: %s - Homer shoes: %s' % (image_features[0], image_features[1], image_features[2]))\n",
    "  #print('Bart t-shirt: %s - Bart shorts: %s - Bart sneakers: %s' % (image_features[3], image_features[4], image_features[5]))\n",
    "\n",
    "  f = (\",\".join([str(item) for item in image_features]))\n",
    "  export += f + '\\n'\n",
    "  \n",
    "  \n",
    "\n",
    "  if show_images == True:\n",
    "    image = cv2.cvtColor(image, cv2.COLOR_BGR2RGB)\n",
    "    original_image = cv2.cvtColor(original_image, cv2.COLOR_BGR2RGB)\n",
    "    fig, im = plt.subplots(1, 2)\n",
    "    im[0].axis('off')\n",
    "    #im[0].imshow(original_image)\n",
    "    im[1].axis('off')\n",
    "    #im[1].imshow(image)\n",
    "    plt.show()"
   ]
  },
  {
   "cell_type": "code",
   "execution_count": 14,
   "metadata": {},
   "outputs": [
    {
     "data": {
      "text/plain": [
       "'mouth,pants,shoes,tshirt,shorts,sneakers,class\\n0.0,0.0,0.114799225,6.886101887,3.495204355,3.495204355,0\\n0.0,0.0,0.11007847,5.004901113,3.183888705,3.183888705,0\\n0.0,0.0,0.182518631,5.264620437,5.029682961,5.029682961,0\\n0.0,0.480168257,0.080028043,0.0,0.0,0.0,0\\n0.0,0.0,0.029707562,8.978929368,3.459119497,3.459119497,0\\n0.0,0.0,0.053304904,6.75432362,0.948827292,0.948827292,0\\n0.249585206,0.0,0.019853369,9.693407263,4.104683977,4.104683977,0\\n0.0,0.0,0.181208054,0.0,0.0,0.0,0\\n0.0,0.0,0.148868778,0.0,0.0,0.0,0\\n0.0,0.0,0.114762211,9.594752524,7.522715548,7.522715548,0\\n0.0,0.0,0.138655462,0.0,0.0,0.0,0\\n0.0,0.0,0.02400947,19.545383481,0.0,0.0,0\\n0.00307645,0.0,0.0,6.495154592,5.599138594,5.599138594,0\\n0.001317263,0.0,0.087817515,0.0,0.0,0.0,0\\n0.0,0.0,0.032184591,8.395721925,0.0,0.0,0\\n0.02105732,0.0,0.008503918,8.915750471,0.0,0.0,0\\n0.0,0.0,0.081055114,11.095816228,4.525111363,4.525111363,0\\n0.0,0.0,0.08757526,10.443349754,3.183296307,3.183296307,0\\n0.0,0.0,0.043806812,9.497408097,0.0,0.0,0\\n0.0,0.0,0.141247989,4.750581083,3.600482746,3.600482746,0\\n0.0,0.010463297,0.391691233,7.430305346,0.0,0.0,0\\n0.0,0.0,0.145441759,12.530766526,2.373417722,2.373417722,0\\n0.0,0.0,0.298828743,11.88730611,6.866729978,6.866729978,0\\n0.0,0.0,0.110318564,2.206749078,3.37340567,0.0,0\\n0.0,0.0,0.083622139,0.0,0.0,0.0,0\\n0.0,0.0,0.069784112,9.781371226,6.301652893,6.301652893,0\\n0.0,0.0,0.088388486,4.322113293,5.937642899,5.937642899,0\\n0.0,0.0,0.144211187,0.0,0.0,0.0,0\\n0.07,0.0,0.344285714,0.0,0.0,0.0,0\\n0.0,0.0,0.07980941,11.305241215,7.723942823,7.723942823,0\\n0.0,0.0,0.379403794,0.0,0.0,0.0,0\\n0.0,0.0,0.090175198,11.35992786,0.0,0.0,0\\n0.0,0.0,0.084393721,5.738773012,3.398924308,3.398924308,0\\n0.0,0.0,0.162677013,5.02834647,0.0,0.0,0\\n0.0,0.0,0.050130084,0.0,2.312329463,1.435370265,0\\n0.000832432,0.0,0.198951136,16.896695247,1.144593357,1.144593357,0\\n0.0,0.0,0.108054523,13.608921933,0.269640644,0.269640644,0\\n0.057218819,0.0,0.082649405,7.449427812,0.0,0.0,0\\n0.0,0.0,0.065466448,7.435477779,1.739896764,1.739896764,0\\n0.0,0.0,0.076230076,3.805959806,2.272349272,2.272349272,0\\n0.0,0.0,0.05304784,4.813762626,5.155285494,5.155285494,0\\n0.0,0.0,0.057656907,10.597756243,0.0,0.0,0\\n0.0,0.0,4.180478037,7.972817519,0.0,0.0,0\\n0.0,0.0,0.166613773,5.126150428,7.112821327,7.112821327,0\\n0.0,0.0,0.108311229,0.0,18.927203065,17.73135868,0\\n0.0,0.0,0.13699873,3.036351539,1.797919313,1.797919313,0\\n0.0,0.0,0.086580087,8.149012446,2.357954545,2.357954545,0\\n0.0,0.0,0.151135698,13.635152613,5.732015094,5.732015094,0\\n0.0,0.0,0.183020488,9.865659541,3.991215017,3.991215017,0\\n0.0,0.0,0.126150813,2.49238361,6.490779573,6.03685943,0\\n0.0,0.0,0.152807573,4.91155038,2.840773658,2.840773658,0\\n0.0,0.0,0.0,1.187012385,1.807232793,1.807232793,0\\n0.0,0.0,0.02433848,8.855312603,0.0,0.0,0\\n2.452787678,0.0,0.068104543,4.658248331,3.879910696,3.879910696,0\\n0.0,0.0,0.0,0.0,0.0,0.0,0\\n0.002290583,0.0,0.0,6.528926251,0.0,0.0,0\\n0.0,0.0,0.056179775,12.13282504,0.0,0.0,0\\n0.000888889,0.0,0.094222222,5.550222222,0.0,0.0,0\\n0.0,0.0,0.0,2.704001299,2.038146254,0.849606363,0\\n0.0,0.0,0.078947368,0.484892788,1.314814815,1.314814815,0\\n0.129449838,0.0,0.220989367,3.006010171,1.178455848,1.178455848,0\\n0.0,0.0,0.0,2.278061846,3.270189108,3.270189108,0\\n0.0,0.0,0.048163557,3.585693763,4.931366932,4.931366932,0\\n0.0,0.0,0.580333855,0.721749478,0.737235915,0.0,0\\n0.0,0.0,0.156095181,4.259996037,4.505419125,4.505419125,0\\n0.0,0.0,0.113855066,9.469978468,5.73372206,5.73372206,0\\n0.0,0.0,0.112589904,5.532449419,7.887174834,7.887174834,0\\n0.0,0.0,0.101010101,10.84387737,0.0,0.0,0\\n0.0,0.0,0.130730051,2.291680815,2.954499151,2.095755518,0\\n0.0,0.0,0.084417626,6.410571154,4.413835877,4.413835877,0\\n0.072235674,0.0,0.0,3.773204197,1.920500404,1.920500404,0\\n0.0,0.0,0.095862315,6.44172463,5.603486713,5.603486713,0\\n0.0,0.079648273,0.713011342,3.013253473,1.752262011,1.752262011,0\\n0.0,0.0,0.077600637,17.164367088,0.0,0.0,0\\n0.0,0.0,0.138044446,0.0,0.0,0.0,0\\n0.256359764,0.0,1.935279188,2.087344653,0.331116168,0.0189626,0\\n0.0,0.0,0.306571323,3.656376567,4.276107978,4.276107978,0\\n0.0,0.0,0.182729644,0.0,0.0,0.0,0\\n0.0,0.035811365,0.081114898,8.256461147,0.0,0.0,0\\n0.0,0.0,0.063650201,0.0,0.0,0.0,0\\n0.0,0.0,0.15935811,8.37577311,7.56728144,7.56728144,0\\n0.0,0.0,0.127103473,6.08575009,0.998925886,0.957303974,0\\n0.0,0.21020082,0.12724967,2.054235286,1.480091724,1.480091724,0\\n0.0,0.0,0.067023482,6.311297555,0.0,0.0,0\\n0.0,0.0,0.089739311,8.347980866,8.240442022,8.240442022,0\\n0.0,0.0,0.06409324,0.0,0.0,0.0,0\\n0.0,0.0,0.059352518,9.928507194,0.0,0.0,0\\n0.620192308,0.0,0.151442308,5.380608974,4.139423077,4.139423077,0\\n0.0,0.020169769,0.169082748,0.0,2.887281029,2.887281029,0\\n0.0,0.022174372,0.075276158,0.0,0.0,0.0,0\\n0.0,0.0,0.088223514,5.356195672,4.325658429,4.325658429,0\\n0.0,0.0,0.036128255,0.0,14.04862261,7.565858799,0\\n4.469270958,0.0,0.048356864,0.0,0.0,0.0,0\\n0.0,0.0,0.515769828,3.451480154,3.807950898,3.313264772,0\\n0.003738178,0.0,0.20746888,0.0,3.104556839,3.104556839,0\\n0.0,0.0,0.119900917,1.333403605,1.42563508,1.42563508,0\\n0.016800478,0.0,0.029723923,3.016978176,2.22412484,2.22412484,0\\n0.0,0.0,0.038138825,9.655055513,0.0,0.0,0\\n0.002855457,0.004283185,0.047115037,10.154480212,0.0,0.0,0\\n0.0,0.0,0.0,4.442616207,1.551764881,1.551764881,0\\n0.0,0.0,0.0,8.667226891,3.921848739,3.921848739,0\\n0.0,0.0,0.0,8.113564866,5.822234048,5.822234048,0\\n0.0,0.0,0.11212159,6.242393461,0.0,0.0,0\\n0.0,0.0,0.594795539,0.0,14.857215275,6.850287259,0\\n0.001554726,0.047419154,0.359919154,0.0,1.773165423,1.773165423,0\\n0.0,0.0,0.12787018,0.000919929,0.025758022,0.022998234,0\\n4.469270958,0.0,0.048356864,0.0,0.0,0.0,0\\n0.0,0.031103271,0.095440175,0.0,0.0,0.0,0\\n0.0,0.0,0.096296296,0.0,0.0,0.0,0\\n0.0,0.0,0.030959752,2.493227554,0.86880805,0.86880805,0\\n0.0,0.0,0.315630575,0.0,0.091487123,0.091487123,0\\n0.082892416,0.0,0.0,8.386243386,5.733686067,5.733686067,0\\n0.028748341,0.0,0.314020345,0.0,0.0,0.0,0\\n0.004464286,0.080357143,0.046875,0.064732143,0.0,0.0,0\\n0.0,0.0,0.162836426,0.0,0.0,0.0,0\\n0.0,0.0,0.047342881,0.0,0.0,0.0,0\\n0.002855457,0.004283185,0.047115037,10.154480212,0.0,0.0,0\\n0.0,0.0,0.0,11.901625849,0.436989778,0.436989778,0\\n0.0,0.0,0.06820873,0.0,7.009674726,7.009674726,0\\n0.0,0.0,0.0,2.423072216,3.600614606,1.095957467,0\\n0.0,0.0,0.048370171,0.0,0.0,0.0,0\\n0.046402056,0.0,0.0,0.0,0.0,0.0,0\\n0.0,0.0,0.125109894,0.0,0.0,0.0,0\\n0.0,0.0,0.495459566,12.964780955,0.997054853,0.026076819,0\\n0.024496995,0.0,0.169029266,3.695779984,0.013065064,0.004082833,0\\n0.126262626,0.0,0.089031339,0.178062678,0.0,0.0,0\\n0.0,0.0,0.342702852,4.158589495,1.07887935,1.07887935,0\\n0.0,0.0,0.009876543,0.540740741,3.417283951,3.417283951,0\\n0.0,0.0,0.093454492,7.286125887,5.362736407,5.362736407,0\\n0.001013274,0.061809707,0.194548586,4.348971527,4.550613031,4.550613031,0\\n0.0,0.0,0.069741492,12.124170851,0.0,0.0,0\\n0.0,0.0,0.173299101,8.090500642,0.118741977,0.118741977,0\\n0.0,0.0,0.562080987,2.018771789,0.0,0.0,0\\n0.0,0.0,0.0,8.474266319,5.609766802,5.609766802,0\\n0.0,0.076864807,0.0,0.0,0.0,0.0,0\\n0.0,0.0,0.366119137,3.460815357,0.0,0.0,0\\n0.0,0.0,0.235437937,10.429447853,0.0,0.0,0\\n0.0,0.0,0.694371751,0.0,0.0,0.0,0\\n0.039284559,0.0,0.233396497,8.228959652,6.133012895,6.133012895,0\\n0.0,0.0,0.101015515,5.829625995,2.764938958,2.764938958,0\\n0.0,0.0,0.1,0.0,0.0,0.0,0\\n0.0,0.0,0.140763817,1.193031037,0.0,0.0,0\\n0.0,0.0,0.137115161,4.095916838,0.0,0.0,0\\n0.0,0.0,0.076660132,9.58125974,6.173025687,6.173025687,0\\n0.0,0.0,0.101961416,2.589283319,0.0,0.0,0\\n0.0,0.0,0.32228575,4.400440044,0.0,0.0,0\\n0.0,0.0,0.49909064,6.990894315,4.090005498,4.090005498,0\\n0.0,0.0,0.122647849,0.0,0.0,0.0,0\\n0.0,0.0,0.145933977,0.0,0.0,0.0,0\\n0.0,0.0,0.179773057,7.88857369,5.175484892,5.175484892,0\\n0.0,0.0,0.024805103,0.0,0.0,0.0,0\\n0.0,0.0,0.159848485,0.0,0.0,0.0,0\\n0.002906977,0.0,0.149418605,6.029651163,0.0,0.0,0\\n0.0,0.0,0.701011074,3.420959718,0.0,0.0,0\\n0.0,0.0,0.3986195,0.0,0.0,0.0,0\\n0.006931208,0.0,0.072777682,0.0,0.0,0.0,0\\n0.001619433,0.0,0.136842105,9.861538462,8.660728745,8.660728745,0\\n0.0,0.0,0.058479532,4.980506823,0.072124756,0.0,0\\n0.0,0.0,0.167883747,9.668452534,1.034365711,1.034365711,0\\n0.0,0.0,0.041262818,10.734478157,5.981352718,5.981352718,0\\n0.979401078,16.958948664,2.404184248,2.48769339,0.0,0.0,1\\n0.058665773,15.566543748,0.64867583,0.0,0.0,0.0,1\\n1.829063147,14.074792961,2.1875,0.0,0.0,0.0,1\\n2.804717308,0.152271939,0.107180021,0.0,0.0,0.0,1\\n2.510348847,0.0,0.133630737,0.0,0.0,0.0,1\\n0.0,0.0,0.222503718,0.0,0.0,0.0,1\\n6.507196996,0.0,0.175231208,0.0,0.0,0.0,1\\n4.677915738,0.0,0.293961583,0.0,0.0,0.0,1\\n3.118380316,0.0,0.300431807,0.0,0.0,0.0,1\\n4.06671025,0.0,0.150645216,0.0,0.0,0.0,1\\n0.0,0.0,1.19478171,0.0,0.0,0.0,1\\n3.195100354,0.0,0.380755608,0.0,0.0,0.0,1\\n0.355610904,7.673539043,0.158664268,0.275356303,0.0,0.0,1\\n0.663501119,4.680165379,0.034754821,0.0,0.0,0.0,1\\n0.501514993,5.802685195,2.626423571,0.0,0.0,0.0,1\\n1.448672089,3.566102811,0.060380396,0.0,0.0,0.0,1\\n0.858062038,0.0,0.229520791,0.0,0.0,0.0,1\\n2.046468542,4.588248639,0.060496068,0.0,0.0,0.0,1\\n5.3241237,0.0,0.083744238,0.0,0.0,0.0,1\\n3.059849386,21.512485137,4.97238737,0.0,0.0,0.0,1\\n1.87017211,19.164520938,1.432443421,0.0,0.0,0.0,1\\n1.181676162,6.996385642,0.0,0.0,0.0,0.0,1\\n1.657903494,0.0,0.071214642,0.0,0.0,0.0,1\\n1.375206612,14.950413223,1.574380165,0.0,0.0,0.0,1\\n2.107477925,32.308912804,0.172461369,0.0,0.0,0.0,1\\n0.480936756,0.0,0.095098438,0.0,0.0,0.0,1\\n1.405737574,0.084906762,0.102418781,0.0,0.0,0.0,1\\n1.429483853,0.0,0.112570356,0.0,0.0,0.0,1\\n1.623553703,13.843546691,1.437531653,0.0,0.0,0.0,1\\n4.966005609,0.0,0.10440414,0.0,0.0,0.0,1\\n1.365418968,12.872923639,1.497854342,0.0,0.0,0.0,1\\n1.475956065,10.607126113,0.0,0.0,0.0,0.0,1\\n2.580283794,13.434466019,1.690627334,0.0,0.0,0.0,1\\n1.208582988,13.390433758,1.592026425,0.0,0.0,0.0,1\\n0.308702684,9.513506425,0.713021243,0.0,0.0,0.0,1\\n2.111849548,0.273614253,0.134332579,0.0,0.0,0.0,1\\n0.312468394,0.187906888,0.0,0.0,0.0,0.0,1\\n1.699590092,3.907748997,0.0,0.0,0.0,0.0,1\\n1.261645963,0.046760305,0.044995765,0.0,0.0,0.0,1\\n4.183953033,0.0,0.129158513,0.0,0.0,0.0,1\\n0.307761177,16.612575308,0.0,0.0,0.0,0.0,1\\n7.688952498,0.0,0.069515437,0.0,0.0,0.0,1\\n0.0,0.063628651,0.0,0.0,0.0,0.0,1\\n0.0,0.039908211,0.633542851,0.0,0.0,0.0,1\\n0.0,0.024797844,0.201617251,0.0,0.0,0.0,1\\n0.092525727,0.178281278,0.146687128,0.0,0.0,0.0,1\\n0.028179839,11.469194313,0.174202639,0.0,0.0,0.0,1\\n0.491803279,0.0,0.195081967,0.0,0.0,0.0,1\\n0.191131498,0.0,0.076452599,0.0,0.0,0.0,1\\n1.085376162,8.202874049,0.22541561,0.0,0.0,0.0,1\\n0.138848864,7.372088758,0.192554557,0.0,0.0,0.0,1\\n0.078528726,8.650825818,0.196321816,0.525635829,0.0,0.0,1\\n0.070499893,9.101044382,0.226255472,0.0,0.0,0.0,1\\n0.018296095,0.0,0.128072668,0.0,0.0,0.0,1\\n0.072990481,0.0,0.0304127,0.0,0.0,0.0,1\\n0.039355119,0.0,0.176419498,0.0,0.0,0.0,1\\n0.028068487,0.0,0.0,0.0,0.0,0.0,1\\n1.207367796,0.007130125,0.411170529,0.0,0.0,0.0,1\\n0.0,0.0,0.195828012,0.0,0.0,0.0,1\\n0.660317686,0.0,0.0,0.0,0.0,0.0,1\\n0.0,0.155041727,0.140366996,0.0,0.0,0.0,1\\n0.058665773,15.566543748,0.64867583,0.0,0.0,0.0,1\\n0.058696928,0.052827235,0.138916063,0.0,0.0,0.0,1\\n0.516451479,0.00666389,0.0,0.0,0.0,0.0,1\\n0.112978525,0.0,0.253034547,0.0,0.0,0.0,1\\n1.399440542,2.311739089,0.178804158,0.0,0.0,0.0,1\\n0.051243533,0.0,0.036502243,0.0,0.0,0.0,1\\n1.619217082,0.0,0.15658363,0.0,0.0,0.0,1\\n1.242105263,0.0,0.114127424,0.0,0.0,0.0,1\\n1.862687235,8.791415663,0.221833279,0.0,0.0,0.0,1\\n0.171260997,5.309090909,0.127859238,0.0,0.0,0.0,1\\n0.842998586,11.237623762,0.178217822,0.0,0.0,0.0,1\\n2.599648343,0.0,0.170742694,0.0,0.0,0.0,1\\n0.023988486,0.0,0.011423088,0.0,0.0,0.0,1\\n0.120609675,0.0,0.096090126,0.0,0.0,0.0,1\\n0.42369338,0.0,1.361207898,0.0,0.0,0.0,1\\n0.773406766,7.593233674,0.0,0.0,0.0,0.0,1\\n0.0,0.0,0.143328579,0.0,0.0,0.0,1\\n0.942271339,9.738548786,0.077940963,0.0,0.0,0.0,1\\n0.065261372,0.024146708,0.274097762,0.0,0.0,0.0,1\\n8.468309859,0.0,0.278755869,0.0,0.0,0.0,1\\n0.462344029,0.325868984,0.182895128,0.0,0.0,0.0,1\\n0.258885898,4.702521562,0.315195297,0.0,0.0,0.0,1\\n0.291149711,0.0,0.127377998,0.0,0.0,0.0,1\\n0.902278636,0.0,0.102879228,0.0,0.0,0.0,1\\n0.000558659,0.0,0.094413408,0.0,0.0,0.0,1\\n1.954776665,12.935145446,0.020664441,0.0,0.0,0.0,1\\n2.836879433,0.0,0.166272656,0.0,0.0,0.0,1\\n1.765465465,0.0,0.221021021,0.077177177,0.0,0.0,1\\n3.856391115,0.001529707,0.10402007,0.0,0.0,0.0,1\\n3.52862254,0.0,0.154541841,0.0,0.0,0.0,1\\n1.630342605,11.98906038,0.136391904,0.0,0.0,0.0,1\\n6.814814815,0.0,0.086140439,0.0,0.0,0.0,1\\n7.385644191,0.0,0.11119025,0.0,0.0,0.0,1\\n1.684732624,1.178557351,0.141242938,0.0,0.0,0.0,1\\n1.587927248,0.0,0.270285489,0.0,0.0,0.0,1\\n9.431089476,0.0,0.148923638,0.0,0.0,0.0,1\\n3.25017819,0.0,0.334348474,0.0,0.0,0.0,1\\n0.752833109,10.047759306,1.163529862,0.0,0.0,0.0,1\\n0.0,0.017687075,0.18877551,0.0,0.0,0.0,1\\n0.0,0.0,0.103598232,0.0,0.0,0.0,1\\n0.0,0.0,1.157139824,0.0,0.0,0.0,1\\n0.0,0.0,0.021648145,0.0,0.0,0.0,1\\n0.0,0.0,0.079567656,0.0,0.0,0.0,1\\n6.485411788,0.0,0.171984778,0.0,0.0,0.0,1\\n0.0,0.0,0.161636882,0.0,0.0,0.0,1\\n4.264975221,0.0,0.329939668,0.0,0.0,0.0,1\\n1.429133481,0.0,0.034558659,0.0,0.0,0.0,1\\n0.853902001,13.744247745,0.161778023,0.0,0.0,0.0,1\\n'"
      ]
     },
     "execution_count": 14,
     "metadata": {},
     "output_type": "execute_result"
    }
   ],
   "source": [
    "export"
   ]
  },
  {
   "cell_type": "code",
   "execution_count": 15,
   "metadata": {},
   "outputs": [
    {
     "data": {
      "text/plain": [
       "True"
      ]
     },
     "execution_count": 15,
     "metadata": {},
     "output_type": "execute_result"
    }
   ],
   "source": [
    "with open('features.csv', 'w') as file:\n",
    "  for l in export:\n",
    "    file.write(l)\n",
    "file.closed"
   ]
  },
  {
   "cell_type": "code",
   "execution_count": 16,
   "metadata": {},
   "outputs": [
    {
     "data": {
      "text/html": [
       "<div>\n",
       "<style scoped>\n",
       "    .dataframe tbody tr th:only-of-type {\n",
       "        vertical-align: middle;\n",
       "    }\n",
       "\n",
       "    .dataframe tbody tr th {\n",
       "        vertical-align: top;\n",
       "    }\n",
       "\n",
       "    .dataframe thead th {\n",
       "        text-align: right;\n",
       "    }\n",
       "</style>\n",
       "<table border=\"1\" class=\"dataframe\">\n",
       "  <thead>\n",
       "    <tr style=\"text-align: right;\">\n",
       "      <th></th>\n",
       "      <th>mouth</th>\n",
       "      <th>pants</th>\n",
       "      <th>shoes</th>\n",
       "      <th>tshirt</th>\n",
       "      <th>shorts</th>\n",
       "      <th>sneakers</th>\n",
       "      <th>class</th>\n",
       "    </tr>\n",
       "  </thead>\n",
       "  <tbody>\n",
       "    <tr>\n",
       "      <th>0</th>\n",
       "      <td>0.000000</td>\n",
       "      <td>0.000000</td>\n",
       "      <td>0.114799</td>\n",
       "      <td>6.886102</td>\n",
       "      <td>3.495204</td>\n",
       "      <td>3.495204</td>\n",
       "      <td>0</td>\n",
       "    </tr>\n",
       "    <tr>\n",
       "      <th>1</th>\n",
       "      <td>0.000000</td>\n",
       "      <td>0.000000</td>\n",
       "      <td>0.110078</td>\n",
       "      <td>5.004901</td>\n",
       "      <td>3.183889</td>\n",
       "      <td>3.183889</td>\n",
       "      <td>0</td>\n",
       "    </tr>\n",
       "    <tr>\n",
       "      <th>2</th>\n",
       "      <td>0.000000</td>\n",
       "      <td>0.000000</td>\n",
       "      <td>0.182519</td>\n",
       "      <td>5.264620</td>\n",
       "      <td>5.029683</td>\n",
       "      <td>5.029683</td>\n",
       "      <td>0</td>\n",
       "    </tr>\n",
       "    <tr>\n",
       "      <th>3</th>\n",
       "      <td>0.000000</td>\n",
       "      <td>0.480168</td>\n",
       "      <td>0.080028</td>\n",
       "      <td>0.000000</td>\n",
       "      <td>0.000000</td>\n",
       "      <td>0.000000</td>\n",
       "      <td>0</td>\n",
       "    </tr>\n",
       "    <tr>\n",
       "      <th>4</th>\n",
       "      <td>0.000000</td>\n",
       "      <td>0.000000</td>\n",
       "      <td>0.029708</td>\n",
       "      <td>8.978929</td>\n",
       "      <td>3.459119</td>\n",
       "      <td>3.459119</td>\n",
       "      <td>0</td>\n",
       "    </tr>\n",
       "    <tr>\n",
       "      <th>...</th>\n",
       "      <td>...</td>\n",
       "      <td>...</td>\n",
       "      <td>...</td>\n",
       "      <td>...</td>\n",
       "      <td>...</td>\n",
       "      <td>...</td>\n",
       "      <td>...</td>\n",
       "    </tr>\n",
       "    <tr>\n",
       "      <th>264</th>\n",
       "      <td>6.485412</td>\n",
       "      <td>0.000000</td>\n",
       "      <td>0.171985</td>\n",
       "      <td>0.000000</td>\n",
       "      <td>0.000000</td>\n",
       "      <td>0.000000</td>\n",
       "      <td>1</td>\n",
       "    </tr>\n",
       "    <tr>\n",
       "      <th>265</th>\n",
       "      <td>0.000000</td>\n",
       "      <td>0.000000</td>\n",
       "      <td>0.161637</td>\n",
       "      <td>0.000000</td>\n",
       "      <td>0.000000</td>\n",
       "      <td>0.000000</td>\n",
       "      <td>1</td>\n",
       "    </tr>\n",
       "    <tr>\n",
       "      <th>266</th>\n",
       "      <td>4.264975</td>\n",
       "      <td>0.000000</td>\n",
       "      <td>0.329940</td>\n",
       "      <td>0.000000</td>\n",
       "      <td>0.000000</td>\n",
       "      <td>0.000000</td>\n",
       "      <td>1</td>\n",
       "    </tr>\n",
       "    <tr>\n",
       "      <th>267</th>\n",
       "      <td>1.429133</td>\n",
       "      <td>0.000000</td>\n",
       "      <td>0.034559</td>\n",
       "      <td>0.000000</td>\n",
       "      <td>0.000000</td>\n",
       "      <td>0.000000</td>\n",
       "      <td>1</td>\n",
       "    </tr>\n",
       "    <tr>\n",
       "      <th>268</th>\n",
       "      <td>0.853902</td>\n",
       "      <td>13.744248</td>\n",
       "      <td>0.161778</td>\n",
       "      <td>0.000000</td>\n",
       "      <td>0.000000</td>\n",
       "      <td>0.000000</td>\n",
       "      <td>1</td>\n",
       "    </tr>\n",
       "  </tbody>\n",
       "</table>\n",
       "<p>269 rows × 7 columns</p>\n",
       "</div>"
      ],
      "text/plain": [
       "        mouth      pants     shoes    tshirt    shorts  sneakers  class\n",
       "0    0.000000   0.000000  0.114799  6.886102  3.495204  3.495204      0\n",
       "1    0.000000   0.000000  0.110078  5.004901  3.183889  3.183889      0\n",
       "2    0.000000   0.000000  0.182519  5.264620  5.029683  5.029683      0\n",
       "3    0.000000   0.480168  0.080028  0.000000  0.000000  0.000000      0\n",
       "4    0.000000   0.000000  0.029708  8.978929  3.459119  3.459119      0\n",
       "..        ...        ...       ...       ...       ...       ...    ...\n",
       "264  6.485412   0.000000  0.171985  0.000000  0.000000  0.000000      1\n",
       "265  0.000000   0.000000  0.161637  0.000000  0.000000  0.000000      1\n",
       "266  4.264975   0.000000  0.329940  0.000000  0.000000  0.000000      1\n",
       "267  1.429133   0.000000  0.034559  0.000000  0.000000  0.000000      1\n",
       "268  0.853902  13.744248  0.161778  0.000000  0.000000  0.000000      1\n",
       "\n",
       "[269 rows x 7 columns]"
      ]
     },
     "execution_count": 16,
     "metadata": {},
     "output_type": "execute_result"
    }
   ],
   "source": [
    "dataset = pd.read_csv('features.csv')\n",
    "dataset"
   ]
  },
  {
   "cell_type": "markdown",
   "metadata": {},
   "source": [
    "##Train and test sets"
   ]
  },
  {
   "cell_type": "code",
   "execution_count": 17,
   "metadata": {},
   "outputs": [
    {
     "data": {
      "text/plain": [
       "array([[ 0.        ,  0.        ,  0.11479923,  6.88610189,  3.49520435,\n",
       "         3.49520435],\n",
       "       [ 0.        ,  0.        ,  0.11007847,  5.00490111,  3.18388871,\n",
       "         3.18388871],\n",
       "       [ 0.        ,  0.        ,  0.18251863,  5.26462044,  5.02968296,\n",
       "         5.02968296],\n",
       "       ...,\n",
       "       [ 4.26497522,  0.        ,  0.32993967,  0.        ,  0.        ,\n",
       "         0.        ],\n",
       "       [ 1.42913348,  0.        ,  0.03455866,  0.        ,  0.        ,\n",
       "         0.        ],\n",
       "       [ 0.853902  , 13.74424774,  0.16177802,  0.        ,  0.        ,\n",
       "         0.        ]])"
      ]
     },
     "execution_count": 17,
     "metadata": {},
     "output_type": "execute_result"
    }
   ],
   "source": [
    "X = dataset.iloc[:, 0:6].values\n",
    "X"
   ]
  },
  {
   "cell_type": "code",
   "execution_count": 62,
   "metadata": {},
   "outputs": [
    {
     "data": {
      "text/plain": [
       "269"
      ]
     },
     "execution_count": 62,
     "metadata": {},
     "output_type": "execute_result"
    }
   ],
   "source": [
    "len(X)"
   ]
  },
  {
   "cell_type": "code",
   "execution_count": 18,
   "metadata": {},
   "outputs": [
    {
     "data": {
      "text/plain": [
       "array([0, 0, 0, 0, 0, 0, 0, 0, 0, 0, 0, 0, 0, 0, 0, 0, 0, 0, 0, 0, 0, 0,\n",
       "       0, 0, 0, 0, 0, 0, 0, 0, 0, 0, 0, 0, 0, 0, 0, 0, 0, 0, 0, 0, 0, 0,\n",
       "       0, 0, 0, 0, 0, 0, 0, 0, 0, 0, 0, 0, 0, 0, 0, 0, 0, 0, 0, 0, 0, 0,\n",
       "       0, 0, 0, 0, 0, 0, 0, 0, 0, 0, 0, 0, 0, 0, 0, 0, 0, 0, 0, 0, 0, 0,\n",
       "       0, 0, 0, 0, 0, 0, 0, 0, 0, 0, 0, 0, 0, 0, 0, 0, 0, 0, 0, 0, 0, 0,\n",
       "       0, 0, 0, 0, 0, 0, 0, 0, 0, 0, 0, 0, 0, 0, 0, 0, 0, 0, 0, 0, 0, 0,\n",
       "       0, 0, 0, 0, 0, 0, 0, 0, 0, 0, 0, 0, 0, 0, 0, 0, 0, 0, 0, 0, 0, 0,\n",
       "       0, 0, 0, 0, 0, 0, 1, 1, 1, 1, 1, 1, 1, 1, 1, 1, 1, 1, 1, 1, 1, 1,\n",
       "       1, 1, 1, 1, 1, 1, 1, 1, 1, 1, 1, 1, 1, 1, 1, 1, 1, 1, 1, 1, 1, 1,\n",
       "       1, 1, 1, 1, 1, 1, 1, 1, 1, 1, 1, 1, 1, 1, 1, 1, 1, 1, 1, 1, 1, 1,\n",
       "       1, 1, 1, 1, 1, 1, 1, 1, 1, 1, 1, 1, 1, 1, 1, 1, 1, 1, 1, 1, 1, 1,\n",
       "       1, 1, 1, 1, 1, 1, 1, 1, 1, 1, 1, 1, 1, 1, 1, 1, 1, 1, 1, 1, 1, 1,\n",
       "       1, 1, 1, 1, 1], dtype=int64)"
      ]
     },
     "execution_count": 18,
     "metadata": {},
     "output_type": "execute_result"
    }
   ],
   "source": [
    "y = dataset.iloc[:, 6].values\n",
    "y"
   ]
  },
  {
   "cell_type": "code",
   "execution_count": 63,
   "metadata": {},
   "outputs": [
    {
     "data": {
      "text/plain": [
       "269"
      ]
     },
     "execution_count": 63,
     "metadata": {},
     "output_type": "execute_result"
    }
   ],
   "source": [
    "len(y)"
   ]
  },
  {
   "cell_type": "code",
   "execution_count": 19,
   "metadata": {},
   "outputs": [],
   "source": [
    "from sklearn.model_selection import train_test_split\n",
    "X_train, X_test, y_train, y_test = train_test_split(X, y, test_size = 0.2, random_state = 1)"
   ]
  },
  {
   "cell_type": "code",
   "execution_count": 20,
   "metadata": {},
   "outputs": [
    {
     "data": {
      "text/plain": [
       "((215, 6), (215,))"
      ]
     },
     "execution_count": 20,
     "metadata": {},
     "output_type": "execute_result"
    }
   ],
   "source": [
    "X_train.shape, y_train.shape"
   ]
  },
  {
   "cell_type": "code",
   "execution_count": 21,
   "metadata": {},
   "outputs": [
    {
     "data": {
      "text/plain": [
       "((54, 6), (54,))"
      ]
     },
     "execution_count": 21,
     "metadata": {},
     "output_type": "execute_result"
    }
   ],
   "source": [
    "X_test.shape, y_test.shape"
   ]
  },
  {
   "cell_type": "markdown",
   "metadata": {},
   "source": [
    "##Building and training the neural network"
   ]
  },
  {
   "cell_type": "code",
   "execution_count": 22,
   "metadata": {},
   "outputs": [
    {
     "data": {
      "text/plain": [
       "4.0"
      ]
     },
     "execution_count": 22,
     "metadata": {},
     "output_type": "execute_result"
    }
   ],
   "source": [
    "(6 + 2) / 2"
   ]
  },
  {
   "cell_type": "code",
   "execution_count": 23,
   "metadata": {},
   "outputs": [
    {
     "name": "stdout",
     "output_type": "stream",
     "text": [
      "WARNING:tensorflow:From c:\\Users\\User\\AppData\\Local\\Programs\\Python\\Python310\\lib\\site-packages\\keras\\src\\backend.py:873: The name tf.get_default_graph is deprecated. Please use tf.compat.v1.get_default_graph instead.\n",
      "\n"
     ]
    }
   ],
   "source": [
    "# 6 -> 4 -> 4 -> 4 -> 1\n",
    "network2 = tf.keras.models.Sequential()\n",
    "network2.add(tf.keras.layers.Dense(input_shape = (6,), units = 4, activation='relu'))\n",
    "network2.add(tf.keras.layers.Dense(units = 4, activation='relu'))\n",
    "network2.add(tf.keras.layers.Dense(units = 4, activation='relu'))\n",
    "network2.add(tf.keras.layers.Dense(units = 1, activation='sigmoid'))"
   ]
  },
  {
   "cell_type": "code",
   "execution_count": 24,
   "metadata": {},
   "outputs": [
    {
     "name": "stdout",
     "output_type": "stream",
     "text": [
      "Model: \"sequential\"\n",
      "_________________________________________________________________\n",
      " Layer (type)                Output Shape              Param #   \n",
      "=================================================================\n",
      " dense (Dense)               (None, 4)                 28        \n",
      "                                                                 \n",
      " dense_1 (Dense)             (None, 4)                 20        \n",
      "                                                                 \n",
      " dense_2 (Dense)             (None, 4)                 20        \n",
      "                                                                 \n",
      " dense_3 (Dense)             (None, 1)                 5         \n",
      "                                                                 \n",
      "=================================================================\n",
      "Total params: 73 (292.00 Byte)\n",
      "Trainable params: 73 (292.00 Byte)\n",
      "Non-trainable params: 0 (0.00 Byte)\n",
      "_________________________________________________________________\n"
     ]
    }
   ],
   "source": [
    "network2.summary()"
   ]
  },
  {
   "cell_type": "code",
   "execution_count": 25,
   "metadata": {},
   "outputs": [
    {
     "name": "stdout",
     "output_type": "stream",
     "text": [
      "WARNING:tensorflow:From c:\\Users\\User\\AppData\\Local\\Programs\\Python\\Python310\\lib\\site-packages\\keras\\src\\optimizers\\__init__.py:309: The name tf.train.Optimizer is deprecated. Please use tf.compat.v1.train.Optimizer instead.\n",
      "\n"
     ]
    }
   ],
   "source": [
    "network2.compile(optimizer='Adam', loss='binary_crossentropy', metrics = ['accuracy'])"
   ]
  },
  {
   "cell_type": "code",
   "execution_count": 26,
   "metadata": {},
   "outputs": [
    {
     "name": "stdout",
     "output_type": "stream",
     "text": [
      "Epoch 1/50\n",
      "WARNING:tensorflow:From c:\\Users\\User\\AppData\\Local\\Programs\\Python\\Python310\\lib\\site-packages\\keras\\src\\utils\\tf_utils.py:492: The name tf.ragged.RaggedTensorValue is deprecated. Please use tf.compat.v1.ragged.RaggedTensorValue instead.\n",
      "\n",
      "WARNING:tensorflow:From c:\\Users\\User\\AppData\\Local\\Programs\\Python\\Python310\\lib\\site-packages\\keras\\src\\engine\\base_layer_utils.py:384: The name tf.executing_eagerly_outside_functions is deprecated. Please use tf.compat.v1.executing_eagerly_outside_functions instead.\n",
      "\n",
      "7/7 [==============================] - 1s 3ms/step - loss: 0.6663 - accuracy: 0.6140\n",
      "Epoch 2/50\n",
      "7/7 [==============================] - 0s 3ms/step - loss: 0.6579 - accuracy: 0.6140\n",
      "Epoch 3/50\n",
      "7/7 [==============================] - 0s 3ms/step - loss: 0.6497 - accuracy: 0.6140\n",
      "Epoch 4/50\n",
      "7/7 [==============================] - 0s 5ms/step - loss: 0.6405 - accuracy: 0.6140\n",
      "Epoch 5/50\n",
      "7/7 [==============================] - 0s 6ms/step - loss: 0.6314 - accuracy: 0.6140\n",
      "Epoch 6/50\n",
      "7/7 [==============================] - 0s 3ms/step - loss: 0.6218 - accuracy: 0.6140\n",
      "Epoch 7/50\n",
      "7/7 [==============================] - 0s 2ms/step - loss: 0.6120 - accuracy: 0.6140\n",
      "Epoch 8/50\n",
      "7/7 [==============================] - 0s 2ms/step - loss: 0.6013 - accuracy: 0.6140\n",
      "Epoch 9/50\n",
      "7/7 [==============================] - 0s 3ms/step - loss: 0.5913 - accuracy: 0.6140\n",
      "Epoch 10/50\n",
      "7/7 [==============================] - 0s 3ms/step - loss: 0.5805 - accuracy: 0.6140\n",
      "Epoch 11/50\n",
      "7/7 [==============================] - 0s 3ms/step - loss: 0.5701 - accuracy: 0.6140\n",
      "Epoch 12/50\n",
      "7/7 [==============================] - 0s 2ms/step - loss: 0.5594 - accuracy: 0.6140\n",
      "Epoch 13/50\n",
      "7/7 [==============================] - 0s 3ms/step - loss: 0.5490 - accuracy: 0.6140\n",
      "Epoch 14/50\n",
      "7/7 [==============================] - 0s 3ms/step - loss: 0.5385 - accuracy: 0.6140\n",
      "Epoch 15/50\n",
      "7/7 [==============================] - 0s 3ms/step - loss: 0.5284 - accuracy: 0.6558\n",
      "Epoch 16/50\n",
      "7/7 [==============================] - 0s 0s/step - loss: 0.5181 - accuracy: 0.6930\n",
      "Epoch 17/50\n",
      "7/7 [==============================] - 0s 697us/step - loss: 0.5085 - accuracy: 0.7070\n",
      "Epoch 18/50\n",
      "7/7 [==============================] - 0s 2ms/step - loss: 0.4992 - accuracy: 0.7070\n",
      "Epoch 19/50\n",
      "7/7 [==============================] - 0s 3ms/step - loss: 0.4896 - accuracy: 0.7070\n",
      "Epoch 20/50\n",
      "7/7 [==============================] - 0s 3ms/step - loss: 0.4806 - accuracy: 0.7116\n",
      "Epoch 21/50\n",
      "7/7 [==============================] - 0s 5ms/step - loss: 0.4714 - accuracy: 0.7163\n",
      "Epoch 22/50\n",
      "7/7 [==============================] - 0s 3ms/step - loss: 0.4627 - accuracy: 0.7163\n",
      "Epoch 23/50\n",
      "7/7 [==============================] - 0s 3ms/step - loss: 0.4538 - accuracy: 0.7209\n",
      "Epoch 24/50\n",
      "7/7 [==============================] - 0s 3ms/step - loss: 0.4450 - accuracy: 0.7256\n",
      "Epoch 25/50\n",
      "7/7 [==============================] - 0s 2ms/step - loss: 0.4356 - accuracy: 0.7535\n",
      "Epoch 26/50\n",
      "7/7 [==============================] - 0s 1ms/step - loss: 0.4263 - accuracy: 0.7395\n",
      "Epoch 27/50\n",
      "7/7 [==============================] - 0s 3ms/step - loss: 0.4174 - accuracy: 0.7302\n",
      "Epoch 28/50\n",
      "7/7 [==============================] - 0s 4ms/step - loss: 0.4089 - accuracy: 0.7535\n",
      "Epoch 29/50\n",
      "7/7 [==============================] - 0s 3ms/step - loss: 0.4001 - accuracy: 0.7581\n",
      "Epoch 30/50\n",
      "7/7 [==============================] - 0s 3ms/step - loss: 0.3919 - accuracy: 0.7767\n",
      "Epoch 31/50\n",
      "7/7 [==============================] - 0s 3ms/step - loss: 0.3838 - accuracy: 0.7907\n",
      "Epoch 32/50\n",
      "7/7 [==============================] - 0s 3ms/step - loss: 0.3761 - accuracy: 0.8093\n",
      "Epoch 33/50\n",
      "7/7 [==============================] - 0s 2ms/step - loss: 0.3681 - accuracy: 0.8419\n",
      "Epoch 34/50\n",
      "7/7 [==============================] - 0s 3ms/step - loss: 0.3607 - accuracy: 0.8512\n",
      "Epoch 35/50\n",
      "7/7 [==============================] - 0s 4ms/step - loss: 0.3537 - accuracy: 0.8512\n",
      "Epoch 36/50\n",
      "7/7 [==============================] - 0s 5ms/step - loss: 0.3470 - accuracy: 0.8512\n",
      "Epoch 37/50\n",
      "7/7 [==============================] - 0s 4ms/step - loss: 0.3403 - accuracy: 0.8512\n",
      "Epoch 38/50\n",
      "7/7 [==============================] - 0s 6ms/step - loss: 0.3339 - accuracy: 0.8512\n",
      "Epoch 39/50\n",
      "7/7 [==============================] - 0s 2ms/step - loss: 0.3282 - accuracy: 0.8512\n",
      "Epoch 40/50\n",
      "7/7 [==============================] - 0s 4ms/step - loss: 0.3223 - accuracy: 0.8512\n",
      "Epoch 41/50\n",
      "7/7 [==============================] - 0s 3ms/step - loss: 0.3168 - accuracy: 0.8512\n",
      "Epoch 42/50\n",
      "7/7 [==============================] - 0s 3ms/step - loss: 0.3116 - accuracy: 0.8512\n",
      "Epoch 43/50\n",
      "7/7 [==============================] - 0s 3ms/step - loss: 0.3069 - accuracy: 0.8512\n",
      "Epoch 44/50\n",
      "7/7 [==============================] - 0s 3ms/step - loss: 0.3020 - accuracy: 0.8512\n",
      "Epoch 45/50\n",
      "7/7 [==============================] - 0s 10ms/step - loss: 0.2975 - accuracy: 0.8512\n",
      "Epoch 46/50\n",
      "7/7 [==============================] - 0s 2ms/step - loss: 0.2935 - accuracy: 0.8512\n",
      "Epoch 47/50\n",
      "7/7 [==============================] - 0s 3ms/step - loss: 0.2896 - accuracy: 0.8512\n",
      "Epoch 48/50\n",
      "7/7 [==============================] - 0s 3ms/step - loss: 0.2856 - accuracy: 0.8512\n",
      "Epoch 49/50\n",
      "7/7 [==============================] - 0s 4ms/step - loss: 0.2822 - accuracy: 0.8512\n",
      "Epoch 50/50\n",
      "7/7 [==============================] - 0s 1ms/step - loss: 0.2786 - accuracy: 0.8512\n"
     ]
    }
   ],
   "source": [
    "history = network2.fit(X_train, y_train, epochs = 50)"
   ]
  },
  {
   "cell_type": "markdown",
   "metadata": {},
   "source": [
    "##Evaluating the neural network"
   ]
  },
  {
   "cell_type": "code",
   "execution_count": 27,
   "metadata": {},
   "outputs": [
    {
     "data": {
      "text/plain": [
       "dict_keys(['loss', 'accuracy'])"
      ]
     },
     "execution_count": 27,
     "metadata": {},
     "output_type": "execute_result"
    }
   ],
   "source": [
    "history.history.keys()"
   ]
  },
  {
   "cell_type": "code",
   "execution_count": 28,
   "metadata": {},
   "outputs": [
    {
     "data": {
      "image/png": "[encoded data removed]",
      "text/plain": [
       "<Figure size 640x480 with 1 Axes>"
      ]
     },
     "metadata": {},
     "output_type": "display_data"
    }
   ],
   "source": [
    "plt.plot(history.history['loss']);"
   ]
  },
  {
   "cell_type": "code",
   "execution_count": 29,
   "metadata": {},
   "outputs": [
    {
     "data": {
      "image/png": "[encoded data removed]",
      "text/plain": [
       "<Figure size 640x480 with 1 Axes>"
      ]
     },
     "metadata": {},
     "output_type": "display_data"
    }
   ],
   "source": [
    "plt.plot(history.history['accuracy']);"
   ]
  },
  {
   "cell_type": "code",
   "execution_count": 30,
   "metadata": {},
   "outputs": [
    {
     "data": {
      "text/plain": [
       "(54, 6)"
      ]
     },
     "execution_count": 30,
     "metadata": {},
     "output_type": "execute_result"
    }
   ],
   "source": [
    "X_test.shape"
   ]
  },
  {
   "cell_type": "code",
   "execution_count": 31,
   "metadata": {},
   "outputs": [
    {
     "name": "stdout",
     "output_type": "stream",
     "text": [
      "2/2 [==============================] - 0s 7ms/step\n"
     ]
    },
    {
     "data": {
      "text/plain": [
       "array([[2.23032874e-03],\n",
       "       [8.76815438e-01],\n",
       "       [1.65990993e-01],\n",
       "       [5.61145663e-01],\n",
       "       [1.17568567e-01],\n",
       "       [9.03551698e-01],\n",
       "       [1.97224887e-04],\n",
       "       [1.03923872e-01],\n",
       "       [4.58475985e-02],\n",
       "       [5.73572889e-02],\n",
       "       [2.68276870e-01],\n",
       "       [9.95572984e-01],\n",
       "       [6.66575372e-01],\n",
       "       [2.59737275e-03],\n",
       "       [5.61104655e-01],\n",
       "       [9.92805183e-01],\n",
       "       [5.97755849e-01],\n",
       "       [9.45786178e-01],\n",
       "       [5.57285428e-01],\n",
       "       [1.92021042e-01],\n",
       "       [3.30454859e-05],\n",
       "       [9.72424507e-01],\n",
       "       [7.49697685e-01],\n",
       "       [1.34126293e-02],\n",
       "       [5.48654934e-04],\n",
       "       [9.84336257e-01],\n",
       "       [5.69806576e-01],\n",
       "       [9.70031023e-02],\n",
       "       [8.85103047e-01],\n",
       "       [9.94764745e-01],\n",
       "       [7.37655818e-01],\n",
       "       [9.99713719e-01],\n",
       "       [9.89001989e-01],\n",
       "       [5.78295290e-01],\n",
       "       [9.99000132e-01],\n",
       "       [7.41105437e-01],\n",
       "       [5.28074875e-02],\n",
       "       [5.80583662e-02],\n",
       "       [5.61123013e-01],\n",
       "       [1.85354799e-01],\n",
       "       [7.40994632e-01],\n",
       "       [5.63819528e-01],\n",
       "       [2.38463487e-02],\n",
       "       [1.45360436e-02],\n",
       "       [7.47122290e-03],\n",
       "       [9.83406544e-01],\n",
       "       [6.53803527e-01],\n",
       "       [5.61223924e-01],\n",
       "       [4.02260665e-03],\n",
       "       [6.39790773e-01],\n",
       "       [1.14668505e-02],\n",
       "       [7.22589970e-01],\n",
       "       [9.32217240e-01],\n",
       "       [8.97376120e-01]], dtype=float32)"
      ]
     },
     "execution_count": 31,
     "metadata": {},
     "output_type": "execute_result"
    }
   ],
   "source": [
    "predictions = network2.predict(X_test)\n",
    "predictions"
   ]
  },
  {
   "cell_type": "code",
   "execution_count": 32,
   "metadata": {},
   "outputs": [
    {
     "data": {
      "text/plain": [
       "array([[False],\n",
       "       [ True],\n",
       "       [False],\n",
       "       [ True],\n",
       "       [False],\n",
       "       [ True],\n",
       "       [False],\n",
       "       [False],\n",
       "       [False],\n",
       "       [False],\n",
       "       [False],\n",
       "       [ True],\n",
       "       [ True],\n",
       "       [False],\n",
       "       [ True],\n",
       "       [ True],\n",
       "       [ True],\n",
       "       [ True],\n",
       "       [ True],\n",
       "       [False],\n",
       "       [False],\n",
       "       [ True],\n",
       "       [ True],\n",
       "       [False],\n",
       "       [False],\n",
       "       [ True],\n",
       "       [ True],\n",
       "       [False],\n",
       "       [ True],\n",
       "       [ True],\n",
       "       [ True],\n",
       "       [ True],\n",
       "       [ True],\n",
       "       [ True],\n",
       "       [ True],\n",
       "       [ True],\n",
       "       [False],\n",
       "       [False],\n",
       "       [ True],\n",
       "       [False],\n",
       "       [ True],\n",
       "       [ True],\n",
       "       [False],\n",
       "       [False],\n",
       "       [False],\n",
       "       [ True],\n",
       "       [ True],\n",
       "       [ True],\n",
       "       [False],\n",
       "       [ True],\n",
       "       [False],\n",
       "       [ True],\n",
       "       [ True],\n",
       "       [ True]])"
      ]
     },
     "execution_count": 32,
     "metadata": {},
     "output_type": "execute_result"
    }
   ],
   "source": [
    "predictions = (predictions > 0.5)\n",
    "predictions"
   ]
  },
  {
   "cell_type": "code",
   "execution_count": 33,
   "metadata": {},
   "outputs": [
    {
     "data": {
      "text/plain": [
       "array([0, 1, 0, 0, 0, 1, 0, 0, 0, 0, 0, 1, 1, 0, 1, 1, 1, 1, 0, 0, 0, 1,\n",
       "       0, 0, 0, 1, 0, 0, 1, 1, 1, 1, 1, 1, 1, 1, 0, 0, 0, 0, 1, 1, 0, 0,\n",
       "       0, 1, 1, 0, 0, 1, 0, 1, 1, 1], dtype=int64)"
      ]
     },
     "execution_count": 33,
     "metadata": {},
     "output_type": "execute_result"
    }
   ],
   "source": [
    "y_test"
   ]
  },
  {
   "cell_type": "code",
   "execution_count": 34,
   "metadata": {},
   "outputs": [
    {
     "data": {
      "text/plain": [
       "0.8888888888888888"
      ]
     },
     "execution_count": 34,
     "metadata": {},
     "output_type": "execute_result"
    }
   ],
   "source": [
    "from sklearn.metrics import accuracy_score\n",
    "accuracy_score(y_test, predictions) # 0.68"
   ]
  },
  {
   "cell_type": "code",
   "execution_count": 35,
   "metadata": {},
   "outputs": [
    {
     "data": {
      "text/plain": [
       "array([[22,  6],\n",
       "       [ 0, 26]], dtype=int64)"
      ]
     },
     "execution_count": 35,
     "metadata": {},
     "output_type": "execute_result"
    }
   ],
   "source": [
    "from sklearn.metrics import confusion_matrix\n",
    "cm = confusion_matrix(y_test, predictions)\n",
    "cm"
   ]
  },
  {
   "cell_type": "code",
   "execution_count": 36,
   "metadata": {},
   "outputs": [
    {
     "data": {
      "image/png": "[encoded data removed]",
      "text/plain": [
       "<Figure size 640x480 with 2 Axes>"
      ]
     },
     "metadata": {},
     "output_type": "display_data"
    }
   ],
   "source": [
    "sns.heatmap(cm, annot=True);"
   ]
  },
  {
   "cell_type": "code",
   "execution_count": 37,
   "metadata": {},
   "outputs": [
    {
     "name": "stdout",
     "output_type": "stream",
     "text": [
      "              precision    recall  f1-score   support\n",
      "\n",
      "           0       1.00      0.79      0.88        28\n",
      "           1       0.81      1.00      0.90        26\n",
      "\n",
      "    accuracy                           0.89        54\n",
      "   macro avg       0.91      0.89      0.89        54\n",
      "weighted avg       0.91      0.89      0.89        54\n",
      "\n"
     ]
    }
   ],
   "source": [
    "from sklearn.metrics import classification_report\n",
    "print(classification_report(y_test, predictions))"
   ]
  },
  {
   "cell_type": "markdown",
   "metadata": {},
   "source": [
    "##Saving, loading and classifying one single image"
   ]
  },
  {
   "cell_type": "code",
   "execution_count": 38,
   "metadata": {},
   "outputs": [],
   "source": [
    "model_json = network2.to_json()\n",
    "with open('network2.json','w') as json_file:\n",
    "  json_file.write(model_json)"
   ]
  },
  {
   "cell_type": "code",
   "execution_count": 39,
   "metadata": {},
   "outputs": [
    {
     "name": "stderr",
     "output_type": "stream",
     "text": [
      "C:\\Users\\User\\AppData\\Local\\Temp\\ipykernel_21880\\3691553161.py:2: UserWarning: You are saving your model as an HDF5 file via `model.save()`. This file format is considered legacy. We recommend using instead the native Keras format, e.g. `model.save('my_model.keras')`.\n",
      "  network2_saved = save_model(network2, 'weights2.hdf5')\n"
     ]
    }
   ],
   "source": [
    "from keras.models import save_model\n",
    "network2_saved = save_model(network2, 'weights2.hdf5')"
   ]
  },
  {
   "cell_type": "code",
   "execution_count": 40,
   "metadata": {},
   "outputs": [
    {
     "data": {
      "text/plain": [
       "'{\"class_name\": \"Sequential\", \"config\": {\"name\": \"sequential\", \"layers\": [{\"module\": \"keras.layers\", \"class_name\": \"InputLayer\", \"config\": {\"batch_input_shape\": [null, 6], \"dtype\": \"float32\", \"sparse\": false, \"ragged\": false, \"name\": \"dense_input\"}, \"registered_name\": null}, {\"module\": \"keras.layers\", \"class_name\": \"Dense\", \"config\": {\"name\": \"dense\", \"trainable\": true, \"dtype\": \"float32\", \"batch_input_shape\": [null, 6], \"units\": 4, \"activation\": \"relu\", \"use_bias\": true, \"kernel_initializer\": {\"module\": \"keras.initializers\", \"class_name\": \"GlorotUniform\", \"config\": {\"seed\": null}, \"registered_name\": null}, \"bias_initializer\": {\"module\": \"keras.initializers\", \"class_name\": \"Zeros\", \"config\": {}, \"registered_name\": null}, \"kernel_regularizer\": null, \"bias_regularizer\": null, \"activity_regularizer\": null, \"kernel_constraint\": null, \"bias_constraint\": null}, \"registered_name\": null, \"build_config\": {\"input_shape\": [null, 6]}}, {\"module\": \"keras.layers\", \"class_name\": \"Dense\", \"config\": {\"name\": \"dense_1\", \"trainable\": true, \"dtype\": \"float32\", \"units\": 4, \"activation\": \"relu\", \"use_bias\": true, \"kernel_initializer\": {\"module\": \"keras.initializers\", \"class_name\": \"GlorotUniform\", \"config\": {\"seed\": null}, \"registered_name\": null}, \"bias_initializer\": {\"module\": \"keras.initializers\", \"class_name\": \"Zeros\", \"config\": {}, \"registered_name\": null}, \"kernel_regularizer\": null, \"bias_regularizer\": null, \"activity_regularizer\": null, \"kernel_constraint\": null, \"bias_constraint\": null}, \"registered_name\": null, \"build_config\": {\"input_shape\": [null, 4]}}, {\"module\": \"keras.layers\", \"class_name\": \"Dense\", \"config\": {\"name\": \"dense_2\", \"trainable\": true, \"dtype\": \"float32\", \"units\": 4, \"activation\": \"relu\", \"use_bias\": true, \"kernel_initializer\": {\"module\": \"keras.initializers\", \"class_name\": \"GlorotUniform\", \"config\": {\"seed\": null}, \"registered_name\": null}, \"bias_initializer\": {\"module\": \"keras.initializers\", \"class_name\": \"Zeros\", \"config\": {}, \"registered_name\": null}, \"kernel_regularizer\": null, \"bias_regularizer\": null, \"activity_regularizer\": null, \"kernel_constraint\": null, \"bias_constraint\": null}, \"registered_name\": null, \"build_config\": {\"input_shape\": [null, 4]}}, {\"module\": \"keras.layers\", \"class_name\": \"Dense\", \"config\": {\"name\": \"dense_3\", \"trainable\": true, \"dtype\": \"float32\", \"units\": 1, \"activation\": \"sigmoid\", \"use_bias\": true, \"kernel_initializer\": {\"module\": \"keras.initializers\", \"class_name\": \"GlorotUniform\", \"config\": {\"seed\": null}, \"registered_name\": null}, \"bias_initializer\": {\"module\": \"keras.initializers\", \"class_name\": \"Zeros\", \"config\": {}, \"registered_name\": null}, \"kernel_regularizer\": null, \"bias_regularizer\": null, \"activity_regularizer\": null, \"kernel_constraint\": null, \"bias_constraint\": null}, \"registered_name\": null, \"build_config\": {\"input_shape\": [null, 4]}}]}, \"keras_version\": \"2.15.0\", \"backend\": \"tensorflow\"}'"
      ]
     },
     "execution_count": 40,
     "metadata": {},
     "output_type": "execute_result"
    }
   ],
   "source": [
    "with open('network2.json', 'r') as json_file:\n",
    "  json_saved_model = json_file.read()\n",
    "json_saved_model"
   ]
  },
  {
   "cell_type": "code",
   "execution_count": 41,
   "metadata": {},
   "outputs": [],
   "source": [
    "network2_loaded = tf.keras.models.model_from_json(json_saved_model)\n",
    "network2_loaded.load_weights('weights2.hdf5')\n",
    "network2_loaded.compile(loss = 'binary_crossentropy', optimizer='Adam', metrics=['accuracy'])"
   ]
  },
  {
   "cell_type": "code",
   "execution_count": 42,
   "metadata": {},
   "outputs": [
    {
     "name": "stdout",
     "output_type": "stream",
     "text": [
      "Model: \"sequential\"\n",
      "_________________________________________________________________\n",
      " Layer (type)                Output Shape              Param #   \n",
      "=================================================================\n",
      " dense (Dense)               (None, 4)                 28        \n",
      "                                                                 \n",
      " dense_1 (Dense)             (None, 4)                 20        \n",
      "                                                                 \n",
      " dense_2 (Dense)             (None, 4)                 20        \n",
      "                                                                 \n",
      " dense_3 (Dense)             (None, 1)                 5         \n",
      "                                                                 \n",
      "=================================================================\n",
      "Total params: 73 (292.00 Byte)\n",
      "Trainable params: 73 (292.00 Byte)\n",
      "Non-trainable params: 0 (0.00 Byte)\n",
      "_________________________________________________________________\n"
     ]
    }
   ],
   "source": [
    "network2_loaded.summary()"
   ]
  },
  {
   "cell_type": "code",
   "execution_count": 64,
   "metadata": {},
   "outputs": [
    {
     "data": {
      "text/plain": [
       "array([0.        , 0.15504173, 0.140367  , 0.        , 0.        ,\n",
       "       0.        ])"
      ]
     },
     "execution_count": 64,
     "metadata": {},
     "output_type": "execute_result"
    }
   ],
   "source": [
    "test_image = X_test[33]\n",
    "test_image"
   ]
  },
  {
   "cell_type": "code",
   "execution_count": 65,
   "metadata": {},
   "outputs": [
    {
     "data": {
      "text/plain": [
       "(6,)"
      ]
     },
     "execution_count": 65,
     "metadata": {},
     "output_type": "execute_result"
    }
   ],
   "source": [
    "test_image.shape"
   ]
  },
  {
   "cell_type": "code",
   "execution_count": 66,
   "metadata": {},
   "outputs": [
    {
     "data": {
      "text/plain": [
       "(1, 6)"
      ]
     },
     "execution_count": 66,
     "metadata": {},
     "output_type": "execute_result"
    }
   ],
   "source": [
    "test_image = test_image.reshape(1,-1)\n",
    "test_image.shape"
   ]
  },
  {
   "cell_type": "code",
   "execution_count": 67,
   "metadata": {},
   "outputs": [
    {
     "name": "stdout",
     "output_type": "stream",
     "text": [
      "1/1 [==============================] - 0s 47ms/step\n"
     ]
    },
    {
     "data": {
      "text/plain": [
       "0.5782953"
      ]
     },
     "execution_count": 67,
     "metadata": {},
     "output_type": "execute_result"
    }
   ],
   "source": [
    "network2_loaded.predict(test_image)[0][0]"
   ]
  },
  {
   "cell_type": "code",
   "execution_count": 68,
   "metadata": {},
   "outputs": [
    {
     "name": "stdout",
     "output_type": "stream",
     "text": [
      "1/1 [==============================] - 0s 112ms/step\n",
      "Homer\n"
     ]
    }
   ],
   "source": [
    "if network2_loaded.predict(test_image)[0][0] < 0.5:\n",
    "  print('Bart')\n",
    "else:\n",
    "  print('Homer')"
   ]
  }
 ],
 "metadata": {
  "kernelspec": {
   "display_name": "Python 3",
   "language": "python",
   "name": "python3"
  },
  "language_info": {
   "codemirror_mode": {
    "name": "ipython",
    "version": 3
   },
   "file_extension": ".py",
   "mimetype": "text/x-python",
   "name": "python",
   "nbconvert_exporter": "python",
   "pygments_lexer": "ipython3",
   "version": "3.10.0"
  }
 },
 "nbformat": 4,
 "nbformat_minor": 2
}
