{
 "cells": [
  {
   "cell_type": "markdown",
   "metadata": {},
   "source": [
    "##Dlib"
   ]
  },
  {
   "cell_type": "code",
   "execution_count": 5,
   "metadata": {},
   "outputs": [],
   "source": [
    "import dlib\n",
    "import cv2"
   ]
  },
  {
   "cell_type": "markdown",
   "metadata": {},
   "source": [
    "##Detecting faces with HOG"
   ]
  },
  {
   "cell_type": "code",
   "execution_count": 13,
   "metadata": {},
   "outputs": [],
   "source": [
    "image = cv2.imread('Images/istockphoto-1362120018-612x612.jpg')\n",
    "\n",
    "\n",
    "#To Display image\n",
    "if image is not None:\n",
    "    # Display the image\n",
    "    cv2.imshow('image', image)\n",
    "\n",
    "    # Wait for a key press and close the window\n",
    "    cv2.waitKey(0)\n",
    "    cv2.destroyAllWindows()\n",
    "else:\n",
    "    print(\"Error: Unable to read the image.\")"
   ]
  },
  {
   "cell_type": "code",
   "execution_count": 14,
   "metadata": {},
   "outputs": [],
   "source": [
    "face_detector_hog = dlib.get_frontal_face_detector()"
   ]
  },
  {
   "cell_type": "code",
   "execution_count": 15,
   "metadata": {},
   "outputs": [],
   "source": [
    "detections = face_detector_hog(image, 1)"
   ]
  },
  {
   "cell_type": "code",
   "execution_count": 16,
   "metadata": {},
   "outputs": [
    {
     "data": {
      "text/plain": [
       "(rectangles[[(417, 66) (453, 102)], [(101, 70) (137, 106)], [(277, 74) (313, 110)], [(477, 74) (513, 110)], [(365, 66) (401, 102)], [(209, 86) (245, 122)], [(153, 46) (189, 82)]],\n",
       " 7)"
      ]
     },
     "execution_count": 16,
     "metadata": {},
     "output_type": "execute_result"
    }
   ],
   "source": [
    "detections, len(detections)"
   ]
  },
  {
   "cell_type": "code",
   "execution_count": 17,
   "metadata": {},
   "outputs": [],
   "source": [
    "for face in detections:\n",
    "  #print(face)\n",
    "  #print(face.left())\n",
    "  #print(face.top())\n",
    "  #print(face.right())\n",
    "  #print(face.bottom())\n",
    "  l, t, r, b = face.left(), face.top(), face.right(), face.bottom()\n",
    "  cv2.rectangle(image, (l, t), (r, b), (0, 255, 0), 2)\n",
    "  \n",
    "  \n",
    "#To Display image\n",
    "if image is not None:\n",
    "    # Display the image\n",
    "    cv2.imshow('image', image)\n",
    "\n",
    "    # Wait for a key press and close the window\n",
    "    cv2.waitKey(0)\n",
    "    cv2.destroyAllWindows()\n",
    "else:\n",
    "    print(\"Error: Unable to read the image.\")\n"
   ]
  },
  {
   "cell_type": "markdown",
   "metadata": {},
   "source": [
    "##Detecting faces with CNN (Convolutional Neural Networks)"
   ]
  },
  {
   "cell_type": "code",
   "execution_count": 11,
   "metadata": {},
   "outputs": [],
   "source": [
    "image = cv2.imread('Images/istockphoto-1362120018-612x612.jpg')\n",
    "cnn_detector = dlib.cnn_face_detection_model_v1('Weights/mmod_human_face_detector.dat')"
   ]
  },
  {
   "cell_type": "code",
   "execution_count": 12,
   "metadata": {},
   "outputs": [
    {
     "name": "stdout",
     "output_type": "stream",
     "text": [
      "1.079403042793274\n",
      "1.0775902271270752\n",
      "1.0646686553955078\n",
      "1.0544697046279907\n",
      "1.0281636714935303\n",
      "0.9127198457717896\n",
      "0.5404972434043884\n"
     ]
    }
   ],
   "source": [
    "detections = cnn_detector(image, 1)\n",
    "for face in detections:\n",
    "  l, t, r, b, c = face.rect.left(), face.rect.top(), face.rect.right(), face.rect.bottom(), face.confidence\n",
    "  print(c)\n",
    "  cv2.rectangle(image, (l, t), (r, b), (255, 255, 0), 2)\n",
    "\n",
    "\n",
    "#To Display image\n",
    "if image is not None:\n",
    "    # Display the image\n",
    "    cv2.imshow('image', image)\n",
    "\n",
    "    # Wait for a key press and close the window\n",
    "    cv2.waitKey(0)\n",
    "    cv2.destroyAllWindows()\n",
    "else:\n",
    "    print(\"Error: Unable to read the image.\")"
   ]
  }
 ],
 "metadata": {
  "kernelspec": {
   "display_name": "base",
   "language": "python",
   "name": "python3"
  },
  "language_info": {
   "codemirror_mode": {
    "name": "ipython",
    "version": 3
   },
   "file_extension": ".py",
   "mimetype": "text/x-python",
   "name": "python",
   "nbconvert_exporter": "python",
   "pygments_lexer": "ipython3",
   "version": "3.10.0"
  }
 },
 "nbformat": 4,
 "nbformat_minor": 2
}
