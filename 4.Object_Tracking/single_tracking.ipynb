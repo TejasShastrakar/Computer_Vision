{
 "cells": [
  {
   "cell_type": "code",
   "execution_count": 1,
   "metadata": {},
   "outputs": [],
   "source": [
    "import cv2\n",
    "import sys\n",
    "from random import randint"
   ]
  },
  {
   "cell_type": "code",
   "execution_count": 2,
   "metadata": {},
   "outputs": [
    {
     "name": "stdout",
     "output_type": "stream",
     "text": [
      "CSRT\n",
      "< cv2.legacy.TrackerCSRT 0000016935B61610>\n"
     ]
    }
   ],
   "source": [
    "tracker_types = ['BOOSTING', 'MIL', 'KCF', 'TLD', 'MEDIANFLOW', 'MOSSE', 'CSRT']\n",
    "tracker_type = tracker_types[6]\n",
    "print(tracker_type)\n",
    "\n",
    "if tracker_type == 'BOOSTING':\n",
    "    tracker = cv2.legacy.TrackerBoosting_create()\n",
    "elif tracker_type == 'MIL':\n",
    "    tracker = cv2.legacy.TrackerMIL_create()\n",
    "elif tracker_type == 'KCF':\n",
    "    tracker = cv2.legacy.TrackerKCF_create()\n",
    "elif tracker_type == 'TLD':\n",
    "    tracker = cv2.legacy.TrackerTLD_create()\n",
    "elif tracker_type == 'MEDIANFLOW':\n",
    "    tracker = cv2.legacy.TrackerMedianFlow_create()\n",
    "elif tracker_type == 'MOSSE':\n",
    "    tracker = cv2.legacy.TrackerMOSSE_create()\n",
    "elif tracker_type == 'CSRT':\n",
    "    tracker = cv2.legacy.TrackerCSRT_create()\n",
    "    \n",
    "print(tracker)"
   ]
  },
  {
   "cell_type": "code",
   "execution_count": 3,
   "metadata": {},
   "outputs": [
    {
     "name": "stdout",
     "output_type": "stream",
     "text": [
      "True\n"
     ]
    }
   ],
   "source": [
    "video = cv2.VideoCapture('race.mp4')\n",
    "if not video.isOpened():\n",
    "    print('Error while loading the video!')\n",
    "    sys.exit()\n",
    "\n",
    "ok, frame = video.read()\n",
    "if not ok:\n",
    "    print('Erro while loading the frame!')\n",
    "    sys.exit()\n",
    "print(ok)"
   ]
  },
  {
   "cell_type": "code",
   "execution_count": 4,
   "metadata": {},
   "outputs": [
    {
     "name": "stdout",
     "output_type": "stream",
     "text": [
      "(644, 238, 110, 221)\n",
      "True\n",
      "(73, 114, 212)\n"
     ]
    },
    {
     "ename": "",
     "evalue": "",
     "output_type": "error",
     "traceback": [
      "\u001b[1;31mThe Kernel crashed while executing code in the current cell or a previous cell. \n",
      "\u001b[1;31mPlease review the code in the cell(s) to identify a possible cause of the failure. \n",
      "\u001b[1;31mClick <a href='https://aka.ms/vscodeJupyterKernelCrash'>here</a> for more info. \n",
      "\u001b[1;31mView Jupyter <a href='command:jupyter.viewOutput'>log</a> for further details."
     ]
    }
   ],
   "source": [
    "bbox = cv2.selectROI(frame) # region of interest\n",
    "print(bbox)\n",
    "\n",
    "ok = tracker.init(frame, bbox)\n",
    "print(ok)\n",
    "\n",
    "colors = (randint(0, 255), randint(0,255), randint(0, 255)) # RGB -> BGR\n",
    "print(colors)\n",
    "\n",
    "\n",
    "while True:\n",
    "    ok, frame = video.read()\n",
    "    #print(ok)\n",
    "    if not ok:\n",
    "        break\n",
    "\n",
    "    ok, bbox = tracker.update(frame)\n",
    "    #print(ok, bbox)\n",
    "    if ok == True:\n",
    "        (x, y, w, h) = [int(v) for v in bbox]\n",
    "        #print(x, y, w, h)\n",
    "        cv2.rectangle(frame, (x, y), (x + w, y + h), colors, 2)\n",
    "    else:\n",
    "        cv2.putText(frame, 'Tracking failure!', (100,80), cv2.FONT_HERSHEY_SIMPLEX, .75, (0,0,255))\n",
    "\n",
    "    cv2.putText(frame, tracker_type, (100, 20), cv2.FONT_HERSHEY_SIMPLEX, .75, (0, 0, 255))\n",
    "\n",
    "    cv2.imshow('Tracking', frame)\n",
    "    if cv2.waitKey(1) & 0XFF == 27: # esc\n",
    "        break"
   ]
  }
 ],
 "metadata": {
  "kernelspec": {
   "display_name": "Python 3",
   "language": "python",
   "name": "python3"
  },
  "language_info": {
   "codemirror_mode": {
    "name": "ipython",
    "version": 3
   },
   "file_extension": ".py",
   "mimetype": "text/x-python",
   "name": "python",
   "nbconvert_exporter": "python",
   "pygments_lexer": "ipython3",
   "version": "3.10.0"
  }
 },
 "nbformat": 4,
 "nbformat_minor": 2
}
