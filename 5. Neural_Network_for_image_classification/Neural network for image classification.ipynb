{
 "cells": [
  {
   "cell_type": "markdown",
   "metadata": {},
   "source": [
    "#####Neural network for image classification"
   ]
  },
  {
   "cell_type": "markdown",
   "metadata": {},
   "source": [
    "###Approach 1 - extract all the pixels"
   ]
  },
  {
   "cell_type": "code",
   "execution_count": 1,
   "metadata": {},
   "outputs": [
    {
     "name": "stdout",
     "output_type": "stream",
     "text": [
      "WARNING:tensorflow:From c:\\Users\\User\\AppData\\Local\\Programs\\Python\\Python310\\lib\\site-packages\\keras\\src\\losses.py:2976: The name tf.losses.sparse_softmax_cross_entropy is deprecated. Please use tf.compat.v1.losses.sparse_softmax_cross_entropy instead.\n",
      "\n"
     ]
    },
    {
     "data": {
      "text/plain": [
       "'2.15.0'"
      ]
     },
     "execution_count": 1,
     "metadata": {},
     "output_type": "execute_result"
    }
   ],
   "source": [
    "import cv2\n",
    "import numpy as np\n",
    "import os\n",
    "import zipfile\n",
    "#import cv2_imshow\n",
    "import tensorflow as tf\n",
    "import pandas as pd\n",
    "import seaborn as sns\n",
    "import matplotlib.pyplot as plt\n",
    "tf.__version__"
   ]
  },
  {
   "cell_type": "markdown",
   "metadata": {},
   "source": [
    "##Extracting pixels from images"
   ]
  },
  {
   "cell_type": "code",
   "execution_count": 2,
   "metadata": {},
   "outputs": [],
   "source": [
    "path = 'Computer_Vision_Masterclass_files\\Datasets\\homer_bart_1.zip'\n",
    "zip_object = zipfile.ZipFile(file = path, mode = 'r')\n",
    "zip_object.extractall('./')\n",
    "zip_object.close()"
   ]
  },
  {
   "cell_type": "code",
   "execution_count": 3,
   "metadata": {},
   "outputs": [
    {
     "name": "stdout",
     "output_type": "stream",
     "text": [
      "['homer_bart_1\\\\.DS_Store', 'homer_bart_1\\\\bart1.bmp', 'homer_bart_1\\\\bart10.bmp', 'homer_bart_1\\\\bart100.bmp', 'homer_bart_1\\\\bart101.bmp', 'homer_bart_1\\\\bart102.bmp', 'homer_bart_1\\\\bart103.bmp', 'homer_bart_1\\\\bart104.bmp', 'homer_bart_1\\\\bart105.bmp', 'homer_bart_1\\\\bart106.bmp', 'homer_bart_1\\\\bart108.bmp', 'homer_bart_1\\\\bart109.bmp', 'homer_bart_1\\\\bart11.bmp', 'homer_bart_1\\\\bart110.bmp', 'homer_bart_1\\\\bart111.bmp', 'homer_bart_1\\\\bart112.bmp', 'homer_bart_1\\\\bart113.bmp', 'homer_bart_1\\\\bart114.bmp', 'homer_bart_1\\\\bart115.bmp', 'homer_bart_1\\\\bart116.bmp', 'homer_bart_1\\\\bart117.bmp', 'homer_bart_1\\\\bart118.bmp', 'homer_bart_1\\\\bart119.bmp', 'homer_bart_1\\\\bart12.bmp', 'homer_bart_1\\\\bart120.bmp', 'homer_bart_1\\\\bart121.bmp', 'homer_bart_1\\\\bart122.bmp', 'homer_bart_1\\\\bart123.bmp', 'homer_bart_1\\\\bart124.bmp', 'homer_bart_1\\\\bart125.bmp', 'homer_bart_1\\\\bart126.bmp', 'homer_bart_1\\\\bart127.bmp', 'homer_bart_1\\\\bart128.bmp', 'homer_bart_1\\\\bart13.bmp', 'homer_bart_1\\\\bart130.bmp', 'homer_bart_1\\\\bart131.bmp', 'homer_bart_1\\\\bart132.bmp', 'homer_bart_1\\\\bart133.bmp', 'homer_bart_1\\\\bart134.bmp', 'homer_bart_1\\\\bart135.bmp', 'homer_bart_1\\\\bart136.bmp', 'homer_bart_1\\\\bart137.bmp', 'homer_bart_1\\\\bart138.bmp', 'homer_bart_1\\\\bart139.bmp', 'homer_bart_1\\\\bart14.bmp', 'homer_bart_1\\\\bart141.bmp', 'homer_bart_1\\\\bart142.bmp', 'homer_bart_1\\\\bart143.bmp', 'homer_bart_1\\\\bart144.bmp', 'homer_bart_1\\\\bart145.bmp', 'homer_bart_1\\\\bart146.bmp', 'homer_bart_1\\\\bart147.bmp', 'homer_bart_1\\\\bart148.bmp', 'homer_bart_1\\\\bart149.bmp', 'homer_bart_1\\\\bart15.bmp', 'homer_bart_1\\\\bart150.bmp', 'homer_bart_1\\\\bart151.bmp', 'homer_bart_1\\\\bart153.bmp', 'homer_bart_1\\\\bart154.bmp', 'homer_bart_1\\\\bart155.bmp', 'homer_bart_1\\\\bart156.bmp', 'homer_bart_1\\\\bart157.bmp', 'homer_bart_1\\\\bart158.bmp', 'homer_bart_1\\\\bart159.bmp', 'homer_bart_1\\\\bart16.bmp', 'homer_bart_1\\\\bart160.bmp', 'homer_bart_1\\\\bart161.bmp', 'homer_bart_1\\\\bart162.bmp', 'homer_bart_1\\\\bart164.bmp', 'homer_bart_1\\\\bart165.bmp', 'homer_bart_1\\\\bart166.bmp', 'homer_bart_1\\\\bart167.bmp', 'homer_bart_1\\\\bart168.bmp', 'homer_bart_1\\\\bart169.bmp', 'homer_bart_1\\\\bart17.bmp', 'homer_bart_1\\\\bart18.bmp', 'homer_bart_1\\\\bart19.bmp', 'homer_bart_1\\\\bart2.bmp', 'homer_bart_1\\\\bart20.bmp', 'homer_bart_1\\\\bart21.bmp', 'homer_bart_1\\\\bart22.bmp', 'homer_bart_1\\\\bart23.bmp', 'homer_bart_1\\\\bart24.bmp', 'homer_bart_1\\\\bart25.bmp', 'homer_bart_1\\\\bart26.bmp', 'homer_bart_1\\\\bart27.bmp', 'homer_bart_1\\\\bart28.bmp', 'homer_bart_1\\\\bart29.bmp', 'homer_bart_1\\\\bart3.bmp', 'homer_bart_1\\\\bart30.bmp', 'homer_bart_1\\\\bart31.bmp', 'homer_bart_1\\\\bart32.bmp', 'homer_bart_1\\\\bart34.bmp', 'homer_bart_1\\\\bart35.bmp', 'homer_bart_1\\\\bart36.bmp', 'homer_bart_1\\\\bart37.bmp', 'homer_bart_1\\\\bart38.bmp', 'homer_bart_1\\\\bart39.bmp', 'homer_bart_1\\\\bart4.bmp', 'homer_bart_1\\\\bart40.bmp', 'homer_bart_1\\\\bart42.bmp', 'homer_bart_1\\\\bart43.bmp', 'homer_bart_1\\\\bart44.bmp', 'homer_bart_1\\\\bart45.bmp', 'homer_bart_1\\\\bart46.bmp', 'homer_bart_1\\\\bart47.bmp', 'homer_bart_1\\\\bart48.bmp', 'homer_bart_1\\\\bart49.bmp', 'homer_bart_1\\\\bart5.bmp', 'homer_bart_1\\\\bart50.bmp', 'homer_bart_1\\\\bart51.bmp', 'homer_bart_1\\\\bart52.bmp', 'homer_bart_1\\\\bart53.bmp', 'homer_bart_1\\\\bart54.bmp', 'homer_bart_1\\\\bart55.bmp', 'homer_bart_1\\\\bart56.bmp', 'homer_bart_1\\\\bart57.bmp', 'homer_bart_1\\\\bart58.bmp', 'homer_bart_1\\\\bart59.bmp', 'homer_bart_1\\\\bart6.bmp', 'homer_bart_1\\\\bart60.bmp', 'homer_bart_1\\\\bart61.bmp', 'homer_bart_1\\\\bart62.bmp', 'homer_bart_1\\\\bart63.bmp', 'homer_bart_1\\\\bart64.bmp', 'homer_bart_1\\\\bart65.bmp', 'homer_bart_1\\\\bart66.bmp', 'homer_bart_1\\\\bart67.bmp', 'homer_bart_1\\\\bart68.bmp', 'homer_bart_1\\\\bart69.bmp', 'homer_bart_1\\\\bart7.bmp', 'homer_bart_1\\\\bart70.bmp', 'homer_bart_1\\\\bart71.bmp', 'homer_bart_1\\\\bart72.bmp', 'homer_bart_1\\\\bart73.bmp', 'homer_bart_1\\\\bart74.bmp', 'homer_bart_1\\\\bart75.bmp', 'homer_bart_1\\\\bart76.bmp', 'homer_bart_1\\\\bart77.bmp', 'homer_bart_1\\\\bart79.bmp', 'homer_bart_1\\\\bart8.bmp', 'homer_bart_1\\\\bart80.bmp', 'homer_bart_1\\\\bart81.bmp', 'homer_bart_1\\\\bart82.bmp', 'homer_bart_1\\\\bart83.bmp', 'homer_bart_1\\\\bart84.bmp', 'homer_bart_1\\\\bart85.bmp', 'homer_bart_1\\\\bart86.bmp', 'homer_bart_1\\\\bart87.bmp', 'homer_bart_1\\\\bart89.bmp', 'homer_bart_1\\\\bart9.bmp', 'homer_bart_1\\\\bart90.bmp', 'homer_bart_1\\\\bart91.bmp', 'homer_bart_1\\\\bart92.bmp', 'homer_bart_1\\\\bart93.bmp', 'homer_bart_1\\\\bart94.bmp', 'homer_bart_1\\\\bart95.bmp', 'homer_bart_1\\\\bart96.bmp', 'homer_bart_1\\\\bart97.bmp', 'homer_bart_1\\\\bart98.bmp', 'homer_bart_1\\\\bart99.bmp', 'homer_bart_1\\\\homer1.bmp', 'homer_bart_1\\\\homer10.bmp', 'homer_bart_1\\\\homer100.bmp', 'homer_bart_1\\\\homer101.bmp', 'homer_bart_1\\\\homer102.bmp', 'homer_bart_1\\\\homer103.bmp', 'homer_bart_1\\\\homer104.bmp', 'homer_bart_1\\\\homer105.bmp', 'homer_bart_1\\\\homer106.bmp', 'homer_bart_1\\\\homer107.bmp', 'homer_bart_1\\\\homer109.bmp', 'homer_bart_1\\\\homer110.bmp', 'homer_bart_1\\\\homer112.bmp', 'homer_bart_1\\\\homer113.bmp', 'homer_bart_1\\\\homer115.bmp', 'homer_bart_1\\\\homer116.bmp', 'homer_bart_1\\\\homer117.bmp', 'homer_bart_1\\\\homer119.bmp', 'homer_bart_1\\\\homer120.bmp', 'homer_bart_1\\\\homer121.bmp', 'homer_bart_1\\\\homer122.bmp', 'homer_bart_1\\\\homer123.bmp', 'homer_bart_1\\\\homer124.bmp', 'homer_bart_1\\\\homer13.bmp', 'homer_bart_1\\\\homer14.bmp', 'homer_bart_1\\\\homer15.bmp', 'homer_bart_1\\\\homer16.bmp', 'homer_bart_1\\\\homer17.bmp', 'homer_bart_1\\\\homer18.bmp', 'homer_bart_1\\\\homer2.bmp', 'homer_bart_1\\\\homer20.bmp', 'homer_bart_1\\\\homer21.bmp', 'homer_bart_1\\\\homer22.bmp', 'homer_bart_1\\\\homer23.bmp', 'homer_bart_1\\\\homer24.bmp', 'homer_bart_1\\\\homer26.bmp', 'homer_bart_1\\\\homer27.bmp', 'homer_bart_1\\\\homer28.bmp', 'homer_bart_1\\\\homer29.bmp', 'homer_bart_1\\\\homer3.bmp', 'homer_bart_1\\\\homer30.bmp', 'homer_bart_1\\\\homer31.bmp', 'homer_bart_1\\\\homer32.bmp', 'homer_bart_1\\\\homer33.bmp', 'homer_bart_1\\\\homer34.bmp', 'homer_bart_1\\\\homer35.bmp', 'homer_bart_1\\\\homer36.bmp', 'homer_bart_1\\\\homer37.bmp', 'homer_bart_1\\\\homer38.bmp', 'homer_bart_1\\\\homer4.bmp', 'homer_bart_1\\\\homer40.bmp', 'homer_bart_1\\\\homer41.bmp', 'homer_bart_1\\\\homer43.bmp', 'homer_bart_1\\\\homer44.bmp', 'homer_bart_1\\\\homer45.bmp', 'homer_bart_1\\\\homer46.bmp', 'homer_bart_1\\\\homer47.bmp', 'homer_bart_1\\\\homer48.bmp', 'homer_bart_1\\\\homer49.bmp', 'homer_bart_1\\\\homer5.bmp', 'homer_bart_1\\\\homer50.bmp', 'homer_bart_1\\\\homer51.bmp', 'homer_bart_1\\\\homer52.bmp', 'homer_bart_1\\\\homer54.bmp', 'homer_bart_1\\\\homer55.bmp', 'homer_bart_1\\\\homer56.bmp', 'homer_bart_1\\\\homer57.bmp', 'homer_bart_1\\\\homer58.bmp', 'homer_bart_1\\\\homer59.bmp', 'homer_bart_1\\\\homer6.bmp', 'homer_bart_1\\\\homer60.bmp', 'homer_bart_1\\\\homer61.bmp', 'homer_bart_1\\\\homer62.bmp', 'homer_bart_1\\\\homer63.bmp', 'homer_bart_1\\\\homer65.bmp', 'homer_bart_1\\\\homer66.bmp', 'homer_bart_1\\\\homer68.bmp', 'homer_bart_1\\\\homer69.bmp', 'homer_bart_1\\\\homer7.bmp', 'homer_bart_1\\\\homer70.bmp', 'homer_bart_1\\\\homer71.bmp', 'homer_bart_1\\\\homer72.bmp', 'homer_bart_1\\\\homer73.bmp', 'homer_bart_1\\\\homer74.bmp', 'homer_bart_1\\\\homer75.bmp', 'homer_bart_1\\\\homer76.bmp', 'homer_bart_1\\\\homer77.bmp', 'homer_bart_1\\\\homer78.bmp', 'homer_bart_1\\\\homer79.bmp', 'homer_bart_1\\\\homer8.bmp', 'homer_bart_1\\\\homer80.bmp', 'homer_bart_1\\\\homer81.bmp', 'homer_bart_1\\\\homer82.bmp', 'homer_bart_1\\\\homer83.bmp', 'homer_bart_1\\\\homer84.bmp', 'homer_bart_1\\\\homer85.bmp', 'homer_bart_1\\\\homer86.bmp', 'homer_bart_1\\\\homer87.bmp', 'homer_bart_1\\\\homer9.bmp', 'homer_bart_1\\\\homer90.bmp', 'homer_bart_1\\\\homer91.bmp', 'homer_bart_1\\\\homer92.bmp', 'homer_bart_1\\\\homer93.bmp', 'homer_bart_1\\\\homer94.bmp', 'homer_bart_1\\\\homer95.bmp', 'homer_bart_1\\\\homer96.bmp', 'homer_bart_1\\\\homer97.bmp', 'homer_bart_1\\\\homer98.bmp', 'homer_bart_1\\\\homer99.bmp']\n"
     ]
    }
   ],
   "source": [
    "directory = 'homer_bart_1'\n",
    "files = [os.path.join(directory, f) for f in sorted(os.listdir(directory))]\n",
    "print(files)"
   ]
  },
  {
   "cell_type": "code",
   "execution_count": 4,
   "metadata": {},
   "outputs": [
    {
     "data": {
      "text/plain": [
       "list"
      ]
     },
     "execution_count": 4,
     "metadata": {},
     "output_type": "execute_result"
    }
   ],
   "source": [
    "type(files)"
   ]
  },
  {
   "cell_type": "code",
   "execution_count": 5,
   "metadata": {},
   "outputs": [],
   "source": [
    "height, width = 128, 128"
   ]
  },
  {
   "cell_type": "code",
   "execution_count": 6,
   "metadata": {},
   "outputs": [],
   "source": [
    "images = []\n",
    "classes = []"
   ]
  },
  {
   "cell_type": "code",
   "execution_count": 7,
   "metadata": {},
   "outputs": [
    {
     "name": "stdout",
     "output_type": "stream",
     "text": [
      "(16384,)\n",
      "0\n",
      "(16384,)\n",
      "0\n",
      "(16384,)\n",
      "0\n",
      "(16384,)\n",
      "0\n"
     ]
    },
    {
     "name": "stdout",
     "output_type": "stream",
     "text": [
      "(16384,)\n",
      "0\n",
      "(16384,)\n",
      "0\n",
      "(16384,)\n",
      "0\n",
      "(16384,)\n",
      "0\n",
      "(16384,)\n",
      "0\n",
      "(16384,)\n",
      "0\n",
      "(16384,)\n",
      "0\n",
      "(16384,)\n",
      "0\n",
      "(16384,)\n",
      "0\n",
      "(16384,)\n",
      "0\n",
      "(16384,)\n",
      "0\n",
      "(16384,)\n",
      "0\n",
      "(16384,)\n",
      "0\n",
      "(16384,)\n",
      "0\n",
      "(16384,)\n",
      "0\n",
      "(16384,)\n",
      "0\n",
      "(16384,)\n",
      "0\n",
      "(16384,)\n",
      "0\n",
      "(16384,)\n",
      "0\n",
      "(16384,)\n",
      "0\n",
      "(16384,)\n",
      "0\n",
      "(16384,)\n",
      "0\n",
      "(16384,)\n",
      "0\n",
      "(16384,)\n",
      "0\n",
      "(16384,)\n",
      "0\n",
      "(16384,)\n",
      "0\n",
      "(16384,)\n",
      "0\n",
      "(16384,)\n",
      "0\n",
      "(16384,)\n",
      "0\n",
      "(16384,)\n",
      "0\n",
      "(16384,)\n",
      "0\n",
      "(16384,)\n",
      "0\n",
      "(16384,)\n",
      "0\n",
      "(16384,)\n",
      "0\n",
      "(16384,)\n",
      "0\n",
      "(16384,)\n",
      "0\n",
      "(16384,)\n",
      "0\n",
      "(16384,)\n",
      "0\n",
      "(16384,)\n",
      "0\n",
      "(16384,)\n",
      "0\n",
      "(16384,)\n",
      "0\n",
      "(16384,)\n",
      "0\n",
      "(16384,)\n",
      "0\n",
      "(16384,)\n",
      "0\n",
      "(16384,)\n",
      "0\n",
      "(16384,)\n",
      "0\n",
      "(16384,)\n",
      "0\n",
      "(16384,)\n",
      "0\n",
      "(16384,)\n",
      "0\n",
      "(16384,)\n",
      "0\n",
      "(16384,)\n",
      "0\n",
      "(16384,)\n",
      "0\n",
      "(16384,)\n",
      "0\n",
      "(16384,)\n",
      "0\n",
      "(16384,)\n",
      "0\n",
      "(16384,)\n",
      "0\n",
      "(16384,)\n",
      "0\n",
      "(16384,)\n",
      "0\n",
      "(16384,)\n",
      "0\n",
      "(16384,)\n",
      "0\n",
      "(16384,)\n",
      "0\n",
      "(16384,)\n",
      "0\n",
      "(16384,)\n",
      "0\n",
      "(16384,)\n",
      "0\n",
      "(16384,)\n",
      "0\n",
      "(16384,)\n",
      "0\n",
      "(16384,)\n",
      "0\n",
      "(16384,)\n",
      "0\n",
      "(16384,)\n",
      "0\n",
      "(16384,)\n",
      "0\n",
      "(16384,)\n",
      "0\n",
      "(16384,)\n",
      "0\n",
      "(16384,)\n",
      "0\n",
      "(16384,)\n",
      "0\n",
      "(16384,)\n",
      "0\n",
      "(16384,)\n",
      "0\n",
      "(16384,)\n",
      "0\n",
      "(16384,)\n",
      "0\n",
      "(16384,)\n",
      "0\n",
      "(16384,)\n",
      "0\n",
      "(16384,)\n",
      "0\n",
      "(16384,)\n",
      "0\n",
      "(16384,)\n",
      "0\n",
      "(16384,)\n",
      "0\n",
      "(16384,)\n",
      "0\n",
      "(16384,)\n",
      "0\n",
      "(16384,)\n",
      "0\n",
      "(16384,)\n",
      "0\n",
      "(16384,)\n",
      "0\n",
      "(16384,)\n",
      "0\n",
      "(16384,)\n",
      "0\n",
      "(16384,)\n",
      "0\n",
      "(16384,)\n",
      "0\n",
      "(16384,)\n",
      "0\n",
      "(16384,)\n",
      "0\n",
      "(16384,)\n",
      "0\n",
      "(16384,)\n",
      "0\n",
      "(16384,)\n",
      "0\n",
      "(16384,)\n",
      "0\n",
      "(16384,)\n",
      "0\n",
      "(16384,)\n",
      "0\n",
      "(16384,)\n",
      "0\n",
      "(16384,)\n",
      "0\n",
      "(16384,)\n",
      "0\n",
      "(16384,)\n",
      "0\n",
      "(16384,)\n",
      "0\n",
      "(16384,)\n",
      "0\n",
      "(16384,)\n",
      "0\n",
      "(16384,)\n",
      "0\n",
      "(16384,)\n",
      "0\n",
      "(16384,)\n",
      "0\n",
      "(16384,)\n",
      "0\n",
      "(16384,)\n",
      "0\n",
      "(16384,)\n",
      "0\n",
      "(16384,)\n",
      "0\n",
      "(16384,)\n",
      "0\n",
      "(16384,)\n",
      "0\n",
      "(16384,)\n",
      "0\n",
      "(16384,)\n",
      "0\n",
      "(16384,)\n",
      "0\n",
      "(16384,)\n",
      "0\n",
      "(16384,)\n",
      "0\n",
      "(16384,)\n",
      "0\n",
      "(16384,)\n",
      "0\n",
      "(16384,)\n",
      "0\n",
      "(16384,)\n",
      "0\n",
      "(16384,)\n",
      "0\n",
      "(16384,)\n",
      "0\n",
      "(16384,)\n",
      "0\n",
      "(16384,)\n",
      "0\n",
      "(16384,)\n",
      "0\n",
      "(16384,)\n",
      "0\n",
      "(16384,)\n",
      "0\n",
      "(16384,)\n",
      "0\n",
      "(16384,)\n",
      "0\n",
      "(16384,)\n",
      "0\n",
      "(16384,)\n",
      "0\n",
      "(16384,)\n",
      "0\n",
      "(16384,)\n",
      "0\n",
      "(16384,)\n",
      "0\n",
      "(16384,)\n",
      "0\n",
      "(16384,)\n",
      "0\n",
      "(16384,)\n",
      "0\n",
      "(16384,)\n",
      "0\n",
      "(16384,)\n",
      "0\n",
      "(16384,)\n",
      "0\n",
      "(16384,)\n",
      "0\n",
      "(16384,)\n",
      "0\n",
      "(16384,)\n",
      "0\n",
      "(16384,)\n",
      "0\n",
      "(16384,)\n",
      "0\n",
      "(16384,)\n",
      "0\n",
      "(16384,)\n",
      "0\n",
      "(16384,)\n",
      "0\n",
      "(16384,)\n",
      "0\n",
      "(16384,)\n",
      "0\n",
      "(16384,)\n",
      "1\n",
      "(16384,)\n",
      "1\n",
      "(16384,)\n",
      "1\n",
      "(16384,)\n",
      "1\n",
      "(16384,)\n",
      "1\n",
      "(16384,)\n",
      "1\n",
      "(16384,)\n",
      "1\n",
      "(16384,)\n",
      "1\n",
      "(16384,)\n",
      "1\n",
      "(16384,)\n",
      "1\n",
      "(16384,)\n",
      "1\n",
      "(16384,)\n",
      "1\n",
      "(16384,)\n",
      "1\n",
      "(16384,)\n",
      "1\n",
      "(16384,)\n",
      "1\n",
      "(16384,)\n",
      "1\n",
      "(16384,)\n",
      "1\n",
      "(16384,)\n",
      "1\n",
      "(16384,)\n",
      "1\n",
      "(16384,)\n",
      "1\n",
      "(16384,)\n",
      "1\n",
      "(16384,)\n",
      "1\n",
      "(16384,)\n",
      "1\n",
      "(16384,)\n",
      "1\n",
      "(16384,)\n",
      "1\n",
      "(16384,)\n",
      "1\n",
      "(16384,)\n",
      "1\n",
      "(16384,)\n",
      "1\n",
      "(16384,)\n",
      "1\n",
      "(16384,)\n",
      "1\n",
      "(16384,)\n",
      "1\n",
      "(16384,)\n",
      "1\n",
      "(16384,)\n",
      "1\n",
      "(16384,)\n",
      "1\n",
      "(16384,)\n",
      "1\n",
      "(16384,)\n",
      "1\n",
      "(16384,)\n",
      "1\n",
      "(16384,)\n",
      "1\n",
      "(16384,)\n",
      "1\n",
      "(16384,)\n",
      "1\n",
      "(16384,)\n",
      "1\n",
      "(16384,)\n",
      "1\n",
      "(16384,)\n",
      "1\n",
      "(16384,)\n",
      "1\n",
      "(16384,)\n",
      "1\n",
      "(16384,)\n",
      "1\n",
      "(16384,)\n",
      "1\n",
      "(16384,)\n",
      "1\n",
      "(16384,)\n",
      "1\n",
      "(16384,)\n",
      "1\n",
      "(16384,)\n",
      "1\n",
      "(16384,)\n",
      "1\n",
      "(16384,)\n",
      "1\n",
      "(16384,)\n",
      "1\n",
      "(16384,)\n",
      "1\n",
      "(16384,)\n",
      "1\n",
      "(16384,)\n",
      "1\n",
      "(16384,)\n",
      "1\n",
      "(16384,)\n",
      "1\n",
      "(16384,)\n",
      "1\n",
      "(16384,)\n",
      "1\n",
      "(16384,)\n",
      "1\n",
      "(16384,)\n",
      "1\n",
      "(16384,)\n",
      "1\n",
      "(16384,)\n",
      "1\n",
      "(16384,)\n",
      "1\n",
      "(16384,)\n",
      "1\n",
      "(16384,)\n",
      "1\n",
      "(16384,)\n",
      "1\n",
      "(16384,)\n",
      "1\n",
      "(16384,)\n",
      "1\n",
      "(16384,)\n",
      "1\n",
      "(16384,)\n",
      "1\n",
      "(16384,)\n",
      "1\n",
      "(16384,)\n",
      "1\n",
      "(16384,)\n",
      "1\n",
      "(16384,)\n",
      "1\n",
      "(16384,)\n",
      "1\n",
      "(16384,)\n",
      "1\n",
      "(16384,)\n",
      "1\n",
      "(16384,)\n",
      "1\n",
      "(16384,)\n",
      "1\n",
      "(16384,)\n",
      "1\n",
      "(16384,)\n",
      "1\n",
      "(16384,)\n",
      "1\n",
      "(16384,)\n",
      "1\n",
      "(16384,)\n",
      "1\n",
      "(16384,)\n",
      "1\n",
      "(16384,)\n",
      "1\n",
      "(16384,)\n",
      "1\n",
      "(16384,)\n",
      "1\n",
      "(16384,)\n",
      "1\n",
      "(16384,)\n",
      "1\n",
      "(16384,)\n",
      "1\n",
      "(16384,)\n",
      "1\n",
      "(16384,)\n",
      "1\n",
      "(16384,)\n",
      "1\n",
      "(16384,)\n",
      "1\n",
      "(16384,)\n",
      "1\n",
      "(16384,)\n",
      "1\n",
      "(16384,)\n",
      "1\n",
      "(16384,)\n",
      "1\n",
      "(16384,)\n",
      "1\n",
      "(16384,)\n",
      "1\n",
      "(16384,)\n",
      "1\n",
      "(16384,)\n",
      "1\n",
      "(16384,)\n",
      "1\n",
      "(16384,)\n",
      "1\n",
      "(16384,)\n",
      "1\n"
     ]
    }
   ],
   "source": [
    "for image_path in files:\n",
    "  #print(image_path)\n",
    "  try:\n",
    "    image = cv2.imread(image_path)\n",
    "    (H, W) = image.shape[:2]\n",
    "  except:\n",
    "    continue\n",
    "\n",
    "  image = cv2.resize(image, (width, height))\n",
    "  image = cv2.cvtColor(image, cv2.COLOR_BGR2GRAY)\n",
    "\n",
    "  '''\n",
    "  #To Display image\n",
    "  if image is not None:\n",
    "    # Display the image\n",
    "    cv2.imshow('image', image)\n",
    "\n",
    "    # Wait for a key press and close the window\n",
    "    cv2.waitKey(0)\n",
    "    cv2.destroyAllWindows()\n",
    "  else:\n",
    "    print(\"Error: Unable to read the image.\")\n",
    "  '''\n",
    "\n",
    "  image = image.ravel()\n",
    "  print(image.shape)\n",
    "\n",
    "  images.append(image)\n",
    "\n",
    "  image_name = os.path.basename(os.path.normpath(image_path))\n",
    "  if image_name.startswith('b'):\n",
    "    class_name = 0\n",
    "  else:\n",
    "    class_name = 1\n",
    "\n",
    "  classes.append(class_name)\n",
    "  print(class_name)"
   ]
  },
  {
   "cell_type": "code",
   "execution_count": 8,
   "metadata": {},
   "outputs": [
    {
     "data": {
      "text/plain": [
       "[array([255, 255, 255, ..., 255, 255, 255], dtype=uint8),\n",
       " array([254, 254, 254, ..., 254, 254, 254], dtype=uint8),\n",
       " array([255, 255, 255, ..., 255, 255, 255], dtype=uint8),\n",
       " array([255, 255, 255, ..., 128, 123, 124], dtype=uint8),\n",
       " array([255, 255, 255, ..., 255, 255, 255], dtype=uint8),\n",
       " array([255, 255, 255, ..., 255, 255, 255], dtype=uint8),\n",
       " array([255, 255, 255, ..., 255, 255, 255], dtype=uint8),\n",
       " array([255, 255, 255, ..., 255, 255, 255], dtype=uint8),\n",
       " array([255, 255, 255, ..., 255, 255, 255], dtype=uint8),\n",
       " array([255, 255, 255, ..., 255, 255, 255], dtype=uint8),\n",
       " array([255, 255, 255, ..., 255, 255, 255], dtype=uint8),\n",
       " array([254, 254, 254, ..., 254, 254, 254], dtype=uint8),\n",
       " array([255, 255, 255, ..., 255, 255, 255], dtype=uint8),\n",
       " array([255, 255, 255, ..., 255, 255, 255], dtype=uint8),\n",
       " array([255, 255, 255, ..., 255, 255, 255], dtype=uint8),\n",
       " array([255, 255, 255, ..., 255, 255, 255], dtype=uint8),\n",
       " array([255, 255, 255, ..., 255, 255, 255], dtype=uint8),\n",
       " array([255, 255, 255, ..., 255, 255, 255], dtype=uint8),\n",
       " array([255, 255, 255, ..., 255, 255, 255], dtype=uint8),\n",
       " array([255, 255, 255, ..., 255, 255, 255], dtype=uint8),\n",
       " array([255, 255, 255, ..., 252, 255, 255], dtype=uint8),\n",
       " array([255, 255, 255, ..., 255, 255, 255], dtype=uint8),\n",
       " array([255, 255, 255, ..., 255, 255, 255], dtype=uint8),\n",
       " array([255, 255, 255, ..., 255, 255, 255], dtype=uint8),\n",
       " array([255, 255, 255, ..., 255, 255, 255], dtype=uint8),\n",
       " array([255, 255, 255, ..., 255, 255, 255], dtype=uint8),\n",
       " array([255, 255, 255, ..., 255, 255, 255], dtype=uint8),\n",
       " array([255, 255, 255, ..., 255, 255, 255], dtype=uint8),\n",
       " array([255, 255, 255, ..., 255, 255, 255], dtype=uint8),\n",
       " array([255, 255, 255, ..., 255, 255, 255], dtype=uint8),\n",
       " array([255, 255, 255, ..., 255, 255, 255], dtype=uint8),\n",
       " array([255, 255, 255, ..., 255, 255, 255], dtype=uint8),\n",
       " array([255, 255, 255, ..., 255, 255, 255], dtype=uint8),\n",
       " array([255, 255, 255, ..., 255, 255, 255], dtype=uint8),\n",
       " array([255, 255, 255, ..., 253, 252, 253], dtype=uint8),\n",
       " array([255, 255, 255, ..., 255, 255, 255], dtype=uint8),\n",
       " array([255, 255, 255, ..., 255, 255, 255], dtype=uint8),\n",
       " array([255, 255, 255, ..., 255, 255, 255], dtype=uint8),\n",
       " array([255, 255, 255, ..., 255, 255, 255], dtype=uint8),\n",
       " array([255, 255, 255, ..., 255, 255, 255], dtype=uint8),\n",
       " array([255, 255, 255, ..., 255, 255, 255], dtype=uint8),\n",
       " array([255, 255, 255, ..., 255, 255, 255], dtype=uint8),\n",
       " array([255, 255, 255, ..., 255, 255, 255], dtype=uint8),\n",
       " array([255, 255, 255, ..., 255, 255, 255], dtype=uint8),\n",
       " array([255, 255, 255, ..., 255, 255, 254], dtype=uint8),\n",
       " array([255, 255, 255, ..., 255, 255, 255], dtype=uint8),\n",
       " array([255, 255, 255, ..., 254, 255, 255], dtype=uint8),\n",
       " array([255, 255, 255, ..., 255, 255, 255], dtype=uint8),\n",
       " array([254, 255, 254, ..., 255, 254, 255], dtype=uint8),\n",
       " array([255, 255, 255, ..., 255, 255, 255], dtype=uint8),\n",
       " array([255, 255, 255, ..., 255, 255, 255], dtype=uint8),\n",
       " array([255, 255, 255, ..., 255, 255, 255], dtype=uint8),\n",
       " array([255, 255, 252, ..., 252, 255, 255], dtype=uint8),\n",
       " array([254, 254, 254, ..., 254, 254, 254], dtype=uint8),\n",
       " array([255, 255, 255, ..., 255, 255, 255], dtype=uint8),\n",
       " array([255, 255, 255, ..., 255, 255, 255], dtype=uint8),\n",
       " array([255, 255, 255, ..., 255, 255, 255], dtype=uint8),\n",
       " array([255, 255, 255, ..., 255, 255, 255], dtype=uint8),\n",
       " array([255, 255, 255, ..., 255, 255, 255], dtype=uint8),\n",
       " array([255, 255, 255, ..., 255, 255, 255], dtype=uint8),\n",
       " array([255, 255, 255, ..., 255, 255, 255], dtype=uint8),\n",
       " array([255, 255, 255, ..., 255, 255, 255], dtype=uint8),\n",
       " array([255, 255, 255, ..., 255, 255, 255], dtype=uint8),\n",
       " array([254, 254, 254, ..., 254, 254, 254], dtype=uint8),\n",
       " array([255, 255, 255, ..., 255, 255, 255], dtype=uint8),\n",
       " array([255, 255, 255, ..., 255, 255, 255], dtype=uint8),\n",
       " array([255, 255, 255, ..., 255, 255, 255], dtype=uint8),\n",
       " array([255, 255, 255, ..., 255, 255, 255], dtype=uint8),\n",
       " array([255, 255, 255, ..., 255, 255, 255], dtype=uint8),\n",
       " array([255, 255, 255, ..., 255, 255, 255], dtype=uint8),\n",
       " array([255, 255, 255, ..., 255, 255, 255], dtype=uint8),\n",
       " array([255, 255, 255, ..., 255, 255, 255], dtype=uint8),\n",
       " array([255, 255, 255, ..., 255, 255, 255], dtype=uint8),\n",
       " array([254, 254, 254, ..., 254, 254, 254], dtype=uint8),\n",
       " array([254, 254, 254, ..., 254, 254, 254], dtype=uint8),\n",
       " array([254, 254, 254, ..., 254, 254, 254], dtype=uint8),\n",
       " array([254, 254, 254, ..., 254, 254, 254], dtype=uint8),\n",
       " array([254, 254, 254, ..., 254, 254, 254], dtype=uint8),\n",
       " array([254, 254, 254, ..., 254, 254, 254], dtype=uint8),\n",
       " array([254, 254, 254, ..., 254, 254, 254], dtype=uint8),\n",
       " array([255, 255, 255, ..., 255, 255, 255], dtype=uint8),\n",
       " array([255, 255, 255, ..., 255, 255, 255], dtype=uint8),\n",
       " array([255, 255, 255, ..., 255, 255, 255], dtype=uint8),\n",
       " array([255, 255, 255, ..., 255, 255, 255], dtype=uint8),\n",
       " array([255, 255, 255, ..., 255, 255, 255], dtype=uint8),\n",
       " array([255, 255, 255, ..., 255, 255, 255], dtype=uint8),\n",
       " array([254, 254, 254, ..., 254, 254, 254], dtype=uint8),\n",
       " array([255, 255, 255, ..., 255, 255, 255], dtype=uint8),\n",
       " array([254, 254, 254, ..., 254, 254, 254], dtype=uint8),\n",
       " array([254, 254, 254, ..., 254, 254, 254], dtype=uint8),\n",
       " array([255, 254, 255, ..., 255, 255, 255], dtype=uint8),\n",
       " array([255, 255, 255, ..., 255, 255, 255], dtype=uint8),\n",
       " array([255, 255, 255, ..., 255, 255, 255], dtype=uint8),\n",
       " array([255, 255, 255, ..., 255, 255, 255], dtype=uint8),\n",
       " array([255, 255, 255, ..., 255, 255, 255], dtype=uint8),\n",
       " array([255, 255, 255, ..., 255, 255, 255], dtype=uint8),\n",
       " array([255, 255, 255, ..., 254, 255, 255], dtype=uint8),\n",
       " array([255, 255, 255, ..., 255, 255, 255], dtype=uint8),\n",
       " array([255, 255, 255, ..., 255, 255, 255], dtype=uint8),\n",
       " array([255, 255, 255, ..., 255, 255, 255], dtype=uint8),\n",
       " array([255, 255, 255, ..., 255, 255, 255], dtype=uint8),\n",
       " array([255, 255, 255, ..., 255, 255, 255], dtype=uint8),\n",
       " array([255, 255, 255, ..., 255, 255, 255], dtype=uint8),\n",
       " array([255, 255, 255, ..., 255, 255, 255], dtype=uint8),\n",
       " array([255, 255, 255, ..., 255, 255, 255], dtype=uint8),\n",
       " array([255, 255, 255, ..., 255, 255, 255], dtype=uint8),\n",
       " array([255, 255, 255, ..., 255, 255, 255], dtype=uint8),\n",
       " array([255, 255, 255, ..., 255, 255, 255], dtype=uint8),\n",
       " array([255, 255, 255, ..., 255, 255, 255], dtype=uint8),\n",
       " array([255, 255, 255, ..., 255, 255, 255], dtype=uint8),\n",
       " array([255, 255, 255, ..., 255, 255, 255], dtype=uint8),\n",
       " array([255, 255, 255, ..., 255, 255, 255], dtype=uint8),\n",
       " array([252, 251, 249, ..., 245, 249, 252], dtype=uint8),\n",
       " array([255, 255, 254, ..., 255, 255, 255], dtype=uint8),\n",
       " array([255, 254, 252, ..., 252, 255, 253], dtype=uint8),\n",
       " array([255, 254, 255, ..., 252, 255, 254], dtype=uint8),\n",
       " array([255, 255, 255, ..., 255, 255, 255], dtype=uint8),\n",
       " array([255, 255, 255, ..., 255, 255, 255], dtype=uint8),\n",
       " array([255, 255, 255, ..., 255, 255, 255], dtype=uint8),\n",
       " array([255, 255, 255, ..., 255, 255, 255], dtype=uint8),\n",
       " array([255, 255, 255, ..., 255, 255, 255], dtype=uint8),\n",
       " array([255, 255, 255, ..., 255, 255, 255], dtype=uint8),\n",
       " array([255, 255, 255, ..., 255, 255, 255], dtype=uint8),\n",
       " array([255, 255, 255, ..., 255, 255, 255], dtype=uint8),\n",
       " array([255, 255, 255, ..., 255, 255, 255], dtype=uint8),\n",
       " array([255, 255, 255, ..., 255, 255, 255], dtype=uint8),\n",
       " array([255, 255, 255, ..., 255, 255, 255], dtype=uint8),\n",
       " array([255, 255, 255, ..., 255, 255, 255], dtype=uint8),\n",
       " array([255, 255, 255, ..., 255, 255, 255], dtype=uint8),\n",
       " array([255, 255, 255, ..., 255, 255, 255], dtype=uint8),\n",
       " array([255, 255, 255, ..., 255, 255, 255], dtype=uint8),\n",
       " array([255, 255, 255, ..., 255, 255, 255], dtype=uint8),\n",
       " array([255, 255, 255, ..., 255, 255, 255], dtype=uint8),\n",
       " array([255, 255, 255, ..., 255, 255, 255], dtype=uint8),\n",
       " array([255, 255, 255, ..., 255, 255, 255], dtype=uint8),\n",
       " array([176, 176, 176, ..., 255, 255, 255], dtype=uint8),\n",
       " array([255, 255, 255, ..., 255, 255, 255], dtype=uint8),\n",
       " array([255, 255, 255, ..., 255, 255, 255], dtype=uint8),\n",
       " array([255, 255, 255, ..., 255, 255, 255], dtype=uint8),\n",
       " array([255, 255, 255, ..., 255, 255, 255], dtype=uint8),\n",
       " array([255, 255, 255, ..., 255, 255, 255], dtype=uint8),\n",
       " array([255, 255, 255, ..., 255, 255, 255], dtype=uint8),\n",
       " array([255, 255, 255, ..., 255, 255, 255], dtype=uint8),\n",
       " array([255, 255, 255, ..., 255, 255, 255], dtype=uint8),\n",
       " array([255, 255, 255, ..., 255, 255, 255], dtype=uint8),\n",
       " array([255, 255, 255, ..., 255, 255, 255], dtype=uint8),\n",
       " array([255, 255, 255, ..., 255, 255, 255], dtype=uint8),\n",
       " array([255, 255, 255, ..., 255, 255, 255], dtype=uint8),\n",
       " array([255, 255, 255, ..., 255, 255, 255], dtype=uint8),\n",
       " array([254, 254, 254, ..., 254, 254, 254], dtype=uint8),\n",
       " array([255, 255, 255, ..., 255, 253, 251], dtype=uint8),\n",
       " array([255, 255, 255, ..., 255, 255, 255], dtype=uint8),\n",
       " array([255, 255, 255, ..., 255, 255, 255], dtype=uint8),\n",
       " array([255, 255, 255, ..., 252, 253, 251], dtype=uint8),\n",
       " array([255, 255, 255, ..., 255, 255, 255], dtype=uint8),\n",
       " array([255, 255, 255, ..., 255, 255, 255], dtype=uint8),\n",
       " array([255, 255, 255, ..., 255, 255, 255], dtype=uint8),\n",
       " array([255, 255, 255, ..., 255, 255, 255], dtype=uint8),\n",
       " array([255, 255, 255, ..., 255, 255, 255], dtype=uint8),\n",
       " array([255, 255, 255, ..., 255, 255, 255], dtype=uint8),\n",
       " array([254, 254, 254, ..., 254, 254, 254], dtype=uint8),\n",
       " array([255, 255, 255, ..., 255, 255, 255], dtype=uint8),\n",
       " array([255, 255, 255, ..., 255, 255, 255], dtype=uint8),\n",
       " array([255, 255, 255, ..., 255, 255, 255], dtype=uint8),\n",
       " array([255, 255, 255, ..., 255, 255, 255], dtype=uint8),\n",
       " array([255, 255, 255, ...,  66,   8, 207], dtype=uint8),\n",
       " array([255, 255, 255, ..., 165, 255, 255], dtype=uint8),\n",
       " array([255, 255, 255, ..., 162,  17, 254], dtype=uint8),\n",
       " array([255, 255, 255, ..., 255, 255, 255], dtype=uint8),\n",
       " array([255, 255, 255, ..., 182,  90, 255], dtype=uint8),\n",
       " array([255, 255, 255, ..., 255, 255, 255], dtype=uint8),\n",
       " array([255, 255, 255, ..., 182, 182,  53], dtype=uint8),\n",
       " array([255, 255, 255, ..., 255, 255, 255], dtype=uint8),\n",
       " array([255, 255, 255, ..., 255, 255, 255], dtype=uint8),\n",
       " array([255, 255, 255, ..., 255, 255, 255], dtype=uint8),\n",
       " array([255, 255, 255, ..., 255, 255, 255], dtype=uint8),\n",
       " array([255, 255, 255, ..., 255, 255, 255], dtype=uint8),\n",
       " array([255, 255, 255, ..., 255, 255, 255], dtype=uint8),\n",
       " array([255, 255, 255, ..., 255, 255, 255], dtype=uint8),\n",
       " array([255, 255, 255, ..., 255, 255, 255], dtype=uint8),\n",
       " array([255, 255, 255, ..., 255, 255, 255], dtype=uint8),\n",
       " array([255, 255, 255, ..., 255, 255, 255], dtype=uint8),\n",
       " array([255, 255, 255, ..., 255, 255, 255], dtype=uint8),\n",
       " array([255, 255, 255, ..., 255, 255, 255], dtype=uint8),\n",
       " array([255, 255, 255, ..., 255, 255, 255], dtype=uint8),\n",
       " array([255, 255, 255, ..., 255, 255, 255], dtype=uint8),\n",
       " array([255, 255, 255, ..., 255, 255, 255], dtype=uint8),\n",
       " array([255, 255, 255, ..., 255, 255, 255], dtype=uint8),\n",
       " array([255, 255, 255, ..., 255, 255, 255], dtype=uint8),\n",
       " array([255, 255, 255, ..., 255, 255, 255], dtype=uint8),\n",
       " array([255, 255, 255, ..., 255, 255, 255], dtype=uint8),\n",
       " array([255, 255, 255, ..., 255, 255, 255], dtype=uint8),\n",
       " array([255, 255, 255, ..., 255, 255, 255], dtype=uint8),\n",
       " array([255, 255, 255, ..., 255, 255, 255], dtype=uint8),\n",
       " array([255, 255, 255, ..., 255, 255, 255], dtype=uint8),\n",
       " array([255, 255, 255, ..., 255, 255, 255], dtype=uint8),\n",
       " array([255, 255, 255, ..., 255, 255, 255], dtype=uint8),\n",
       " array([255, 255, 255, ...,  28, 255, 255], dtype=uint8),\n",
       " array([255, 255, 255, ..., 255, 255, 255], dtype=uint8),\n",
       " array([255, 255, 255, ..., 182, 103, 111], dtype=uint8),\n",
       " array([255, 255, 255, ..., 255, 255, 255], dtype=uint8),\n",
       " array([255, 255, 255, ..., 255, 255, 255], dtype=uint8),\n",
       " array([255, 255, 255, ..., 255, 255, 255], dtype=uint8),\n",
       " array([252, 255, 253, ..., 255, 255, 255], dtype=uint8),\n",
       " array([255, 255, 255, ..., 255, 255, 255], dtype=uint8),\n",
       " array([255, 255, 255, ..., 255, 255, 255], dtype=uint8),\n",
       " array([255, 255, 255, ..., 255, 255, 255], dtype=uint8),\n",
       " array([250, 252, 252, ..., 255, 255, 255], dtype=uint8),\n",
       " array([255, 255, 255, ...,  71,  49, 255], dtype=uint8),\n",
       " array([255, 255, 255, ..., 255, 255, 255], dtype=uint8),\n",
       " array([255, 255, 255, ..., 255, 255, 255], dtype=uint8),\n",
       " array([255, 255, 255, ..., 255, 255, 255], dtype=uint8),\n",
       " array([255, 255, 255, ..., 255, 255, 255], dtype=uint8),\n",
       " array([255, 255, 255, ..., 255, 255, 255], dtype=uint8),\n",
       " array([255, 255, 255, ..., 184, 142, 255], dtype=uint8),\n",
       " array([255, 255, 255, ..., 255, 255, 255], dtype=uint8),\n",
       " array([255, 255, 255, ..., 255, 255, 255], dtype=uint8),\n",
       " array([255, 255, 255, ..., 255, 255, 255], dtype=uint8),\n",
       " array([255, 255, 255, ..., 255, 255, 255], dtype=uint8),\n",
       " array([255, 255, 255, ..., 255, 255, 255], dtype=uint8),\n",
       " array([255, 255, 255, ..., 255, 255, 255], dtype=uint8),\n",
       " array([255, 255, 255, ..., 255, 255, 255], dtype=uint8),\n",
       " array([255, 255, 255, ..., 255, 255, 251], dtype=uint8),\n",
       " array([255, 255, 255, ..., 255, 255, 255], dtype=uint8),\n",
       " array([255, 255, 255, ..., 255, 255, 255], dtype=uint8),\n",
       " array([255, 255, 255, ..., 255, 255, 255], dtype=uint8),\n",
       " array([255, 255, 255, ..., 255, 255, 255], dtype=uint8),\n",
       " array([255, 255, 255, ..., 255, 255, 255], dtype=uint8),\n",
       " array([255, 255, 255, ..., 255, 255, 255], dtype=uint8),\n",
       " array([255, 255, 255, ..., 255, 255, 255], dtype=uint8),\n",
       " array([255, 255, 255, ..., 255, 255, 255], dtype=uint8),\n",
       " array([255, 255, 255, ..., 255, 255, 255], dtype=uint8),\n",
       " array([255, 255, 255, ..., 182, 229, 255], dtype=uint8),\n",
       " array([64, 63, 63, ..., 63, 63, 63], dtype=uint8),\n",
       " array([255, 255, 255, ..., 255, 255, 255], dtype=uint8),\n",
       " array([255, 255, 255, ..., 255, 255, 255], dtype=uint8),\n",
       " array([255, 255, 255, ..., 255, 255, 255], dtype=uint8),\n",
       " array([255, 255, 255, ..., 255, 255, 255], dtype=uint8),\n",
       " array([255, 255, 255, ..., 255, 255, 255], dtype=uint8),\n",
       " array([255, 253, 253, ..., 255, 255, 255], dtype=uint8),\n",
       " array([255, 255, 255, ..., 255, 255, 255], dtype=uint8),\n",
       " array([255, 255, 255, ..., 255, 255, 255], dtype=uint8),\n",
       " array([255, 255, 255, ..., 255, 255, 255], dtype=uint8),\n",
       " array([255, 255, 255, ..., 255, 255, 255], dtype=uint8),\n",
       " array([255, 255, 255, ..., 255, 255, 255], dtype=uint8),\n",
       " array([255, 255, 255, ..., 255, 255, 255], dtype=uint8),\n",
       " array([255, 255, 255, ..., 255, 255, 255], dtype=uint8),\n",
       " array([255, 255, 255, ..., 255, 255, 255], dtype=uint8),\n",
       " array([255, 255, 255, ..., 255, 255, 255], dtype=uint8),\n",
       " array([255, 255, 255, ..., 255, 255, 255], dtype=uint8),\n",
       " array([255, 255, 255, ..., 255, 255, 255], dtype=uint8),\n",
       " array([255, 255, 255, ..., 255, 255, 255], dtype=uint8),\n",
       " array([255, 254, 255, ..., 157, 255, 255], dtype=uint8),\n",
       " array([253, 250, 250, ...,  75, 255, 255], dtype=uint8),\n",
       " array([255, 255, 255, ..., 255, 255, 255], dtype=uint8),\n",
       " array([255, 255, 255, ..., 255, 255, 255], dtype=uint8),\n",
       " array([255, 255, 255, ..., 255, 255, 255], dtype=uint8),\n",
       " array([255, 255, 255, ..., 255, 255, 255], dtype=uint8),\n",
       " array([255, 255, 255, ..., 255, 255, 255], dtype=uint8),\n",
       " array([255, 255, 255, ..., 255, 255, 255], dtype=uint8),\n",
       " array([255, 255, 255, ..., 255, 255, 255], dtype=uint8),\n",
       " array([255, 255, 255, ..., 255, 255, 255], dtype=uint8),\n",
       " array([255, 255, 255, ..., 255, 255, 255], dtype=uint8),\n",
       " array([255, 255, 255, ..., 255, 255, 255], dtype=uint8),\n",
       " array([255, 255, 255, ..., 255, 255, 255], dtype=uint8),\n",
       " array([255, 255, 255, ..., 255, 255, 255], dtype=uint8),\n",
       " array([255, 255, 255, ..., 228, 255, 255], dtype=uint8),\n",
       " array([255, 255, 255, ..., 255, 255, 254], dtype=uint8),\n",
       " array([255, 255, 255, ..., 255, 255, 255], dtype=uint8)]"
      ]
     },
     "execution_count": 8,
     "metadata": {},
     "output_type": "execute_result"
    }
   ],
   "source": [
    "images"
   ]
  },
  {
   "cell_type": "code",
   "execution_count": 9,
   "metadata": {},
   "outputs": [
    {
     "name": "stdout",
     "output_type": "stream",
     "text": [
      "[0, 0, 0, 0, 0, 0, 0, 0, 0, 0, 0, 0, 0, 0, 0, 0, 0, 0, 0, 0, 0, 0, 0, 0, 0, 0, 0, 0, 0, 0, 0, 0, 0, 0, 0, 0, 0, 0, 0, 0, 0, 0, 0, 0, 0, 0, 0, 0, 0, 0, 0, 0, 0, 0, 0, 0, 0, 0, 0, 0, 0, 0, 0, 0, 0, 0, 0, 0, 0, 0, 0, 0, 0, 0, 0, 0, 0, 0, 0, 0, 0, 0, 0, 0, 0, 0, 0, 0, 0, 0, 0, 0, 0, 0, 0, 0, 0, 0, 0, 0, 0, 0, 0, 0, 0, 0, 0, 0, 0, 0, 0, 0, 0, 0, 0, 0, 0, 0, 0, 0, 0, 0, 0, 0, 0, 0, 0, 0, 0, 0, 0, 0, 0, 0, 0, 0, 0, 0, 0, 0, 0, 0, 0, 0, 0, 0, 0, 0, 0, 0, 0, 0, 0, 0, 0, 0, 0, 0, 0, 0, 1, 1, 1, 1, 1, 1, 1, 1, 1, 1, 1, 1, 1, 1, 1, 1, 1, 1, 1, 1, 1, 1, 1, 1, 1, 1, 1, 1, 1, 1, 1, 1, 1, 1, 1, 1, 1, 1, 1, 1, 1, 1, 1, 1, 1, 1, 1, 1, 1, 1, 1, 1, 1, 1, 1, 1, 1, 1, 1, 1, 1, 1, 1, 1, 1, 1, 1, 1, 1, 1, 1, 1, 1, 1, 1, 1, 1, 1, 1, 1, 1, 1, 1, 1, 1, 1, 1, 1, 1, 1, 1, 1, 1, 1, 1, 1, 1, 1, 1, 1, 1, 1, 1, 1, 1, 1, 1, 1, 1]\n"
     ]
    }
   ],
   "source": [
    "print(classes)"
   ]
  },
  {
   "cell_type": "code",
   "execution_count": 10,
   "metadata": {},
   "outputs": [
    {
     "data": {
      "text/plain": [
       "(list, list)"
      ]
     },
     "execution_count": 10,
     "metadata": {},
     "output_type": "execute_result"
    }
   ],
   "source": [
    "type(images), type(classes)"
   ]
  },
  {
   "cell_type": "code",
   "execution_count": 11,
   "metadata": {},
   "outputs": [],
   "source": [
    "X = np.asarray(images)\n",
    "y = np.asarray(classes)"
   ]
  },
  {
   "cell_type": "code",
   "execution_count": 12,
   "metadata": {},
   "outputs": [
    {
     "data": {
      "text/plain": [
       "(numpy.ndarray, numpy.ndarray)"
      ]
     },
     "execution_count": 12,
     "metadata": {},
     "output_type": "execute_result"
    }
   ],
   "source": [
    "type(X), type(y)"
   ]
  },
  {
   "cell_type": "code",
   "execution_count": 13,
   "metadata": {},
   "outputs": [
    {
     "data": {
      "text/plain": [
       "(269, 16384)"
      ]
     },
     "execution_count": 13,
     "metadata": {},
     "output_type": "execute_result"
    }
   ],
   "source": [
    "X.shape"
   ]
  },
  {
   "cell_type": "code",
   "execution_count": 14,
   "metadata": {},
   "outputs": [
    {
     "data": {
      "text/plain": [
       "(269,)"
      ]
     },
     "execution_count": 14,
     "metadata": {},
     "output_type": "execute_result"
    }
   ],
   "source": [
    "y.shape"
   ]
  },
  {
   "cell_type": "code",
   "execution_count": 15,
   "metadata": {},
   "outputs": [
    {
     "data": {
      "text/plain": [
       "array([0, 0, 0, 0, 0, 0, 0, 0, 0, 0, 0, 0, 0, 0, 0, 0, 0, 0, 0, 0, 0, 0,\n",
       "       0, 0, 0, 0, 0, 0, 0, 0, 0, 0, 0, 0, 0, 0, 0, 0, 0, 0, 0, 0, 0, 0,\n",
       "       0, 0, 0, 0, 0, 0, 0, 0, 0, 0, 0, 0, 0, 0, 0, 0, 0, 0, 0, 0, 0, 0,\n",
       "       0, 0, 0, 0, 0, 0, 0, 0, 0, 0, 0, 0, 0, 0, 0, 0, 0, 0, 0, 0, 0, 0,\n",
       "       0, 0, 0, 0, 0, 0, 0, 0, 0, 0, 0, 0, 0, 0, 0, 0, 0, 0, 0, 0, 0, 0,\n",
       "       0, 0, 0, 0, 0, 0, 0, 0, 0, 0, 0, 0, 0, 0, 0, 0, 0, 0, 0, 0, 0, 0,\n",
       "       0, 0, 0, 0, 0, 0, 0, 0, 0, 0, 0, 0, 0, 0, 0, 0, 0, 0, 0, 0, 0, 0,\n",
       "       0, 0, 0, 0, 0, 0, 1, 1, 1, 1, 1, 1, 1, 1, 1, 1, 1, 1, 1, 1, 1, 1,\n",
       "       1, 1, 1, 1, 1, 1, 1, 1, 1, 1, 1, 1, 1, 1, 1, 1, 1, 1, 1, 1, 1, 1,\n",
       "       1, 1, 1, 1, 1, 1, 1, 1, 1, 1, 1, 1, 1, 1, 1, 1, 1, 1, 1, 1, 1, 1,\n",
       "       1, 1, 1, 1, 1, 1, 1, 1, 1, 1, 1, 1, 1, 1, 1, 1, 1, 1, 1, 1, 1, 1,\n",
       "       1, 1, 1, 1, 1, 1, 1, 1, 1, 1, 1, 1, 1, 1, 1, 1, 1, 1, 1, 1, 1, 1,\n",
       "       1, 1, 1, 1, 1])"
      ]
     },
     "execution_count": 15,
     "metadata": {},
     "output_type": "execute_result"
    }
   ],
   "source": [
    "y"
   ]
  },
  {
   "cell_type": "code",
   "execution_count": 16,
   "metadata": {},
   "outputs": [
    {
     "data": {
      "text/plain": [
       "(128, 128)"
      ]
     },
     "execution_count": 16,
     "metadata": {},
     "output_type": "execute_result"
    }
   ],
   "source": [
    "X[0].reshape(width, height).shape"
   ]
  },
  {
   "cell_type": "code",
   "execution_count": 17,
   "metadata": {},
   "outputs": [
    {
     "data": {
      "text/plain": [
       "'\\n#To Display image\\nif X[0] is not None:\\n    # Display the image\\n    cv2.imshow(\\'image\\', X[0].reshape(width, height))\\n\\n    # Wait for a key press and close the window\\n    cv2.waitKey(0)\\n    cv2.destroyAllWindows()\\nelse:\\n    print(\"Error: Unable to read the image.\")\\n'"
      ]
     },
     "execution_count": 17,
     "metadata": {},
     "output_type": "execute_result"
    }
   ],
   "source": [
    "cv2.imshow('image', X[0].reshape(width, height))\n",
    "cv2.waitKey(0)\n",
    "cv2.destroyAllWindows()\n",
    "'''\n",
    "#To Display image\n",
    "if X[0] is not None:\n",
    "    # Display the image\n",
    "    cv2.imshow('image', X[0].reshape(width, height))\n",
    "\n",
    "    # Wait for a key press and close the window\n",
    "    cv2.waitKey(0)\n",
    "    cv2.destroyAllWindows()\n",
    "else:\n",
    "    print(\"Error: Unable to read the image.\")\n",
    "'''\n"
   ]
  },
  {
   "cell_type": "code",
   "execution_count": 18,
   "metadata": {},
   "outputs": [],
   "source": [
    "cv2.imshow('image', X[200].reshape(width, height))\n",
    "cv2.waitKey(0)\n",
    "cv2.destroyAllWindows()"
   ]
  },
  {
   "cell_type": "code",
   "execution_count": 19,
   "metadata": {},
   "outputs": [
    {
     "data": {
      "text/plain": [
       "<Axes: ylabel='count'>"
      ]
     },
     "execution_count": 19,
     "metadata": {},
     "output_type": "execute_result"
    },
    {
     "data": {
      "image/png": "[encoded data removed]",
      "text/plain": [
       "<Figure size 640x480 with 1 Axes>"
      ]
     },
     "metadata": {},
     "output_type": "display_data"
    }
   ],
   "source": [
    "sns.countplot(y)"
   ]
  },
  {
   "cell_type": "code",
   "execution_count": 20,
   "metadata": {},
   "outputs": [
    {
     "data": {
      "text/plain": [
       "(array([0, 1]), array([160, 109], dtype=int64))"
      ]
     },
     "execution_count": 20,
     "metadata": {},
     "output_type": "execute_result"
    }
   ],
   "source": [
    "np.unique(y, return_counts=True)"
   ]
  },
  {
   "cell_type": "markdown",
   "metadata": {},
   "source": [
    "##Normalizing the data"
   ]
  },
  {
   "cell_type": "code",
   "execution_count": 21,
   "metadata": {},
   "outputs": [
    {
     "data": {
      "text/plain": [
       "(255, 0)"
      ]
     },
     "execution_count": 21,
     "metadata": {},
     "output_type": "execute_result"
    }
   ],
   "source": [
    "X[0].max(), X[0].min()"
   ]
  },
  {
   "cell_type": "code",
   "execution_count": 22,
   "metadata": {},
   "outputs": [],
   "source": [
    "from sklearn.preprocessing import MinMaxScaler\n",
    "scaler = MinMaxScaler()\n",
    "X = scaler.fit_transform(X)"
   ]
  },
  {
   "cell_type": "code",
   "execution_count": 23,
   "metadata": {},
   "outputs": [
    {
     "data": {
      "text/plain": [
       "(1.0000000000000002, 0.0)"
      ]
     },
     "execution_count": 23,
     "metadata": {},
     "output_type": "execute_result"
    }
   ],
   "source": [
    "X[0].max(), X[0].min()"
   ]
  },
  {
   "cell_type": "code",
   "execution_count": 24,
   "metadata": {},
   "outputs": [
    {
     "data": {
      "text/plain": [
       "array([0.9947644 , 0.99479167, 0.99479167, ..., 0.99559471, 0.99595142,\n",
       "       0.9950495 ])"
      ]
     },
     "execution_count": 24,
     "metadata": {},
     "output_type": "execute_result"
    }
   ],
   "source": [
    "X[1]"
   ]
  },
  {
   "cell_type": "markdown",
   "metadata": {},
   "source": [
    "##Train and test set"
   ]
  },
  {
   "cell_type": "code",
   "execution_count": 25,
   "metadata": {},
   "outputs": [],
   "source": [
    "from sklearn.model_selection import train_test_split"
   ]
  },
  {
   "cell_type": "code",
   "execution_count": 26,
   "metadata": {},
   "outputs": [],
   "source": [
    "X_train, X_test, y_train, y_test = train_test_split(X, y, test_size = 0.2, random_state = 1)"
   ]
  },
  {
   "cell_type": "code",
   "execution_count": 27,
   "metadata": {},
   "outputs": [
    {
     "data": {
      "text/plain": [
       "((215, 16384), (215,))"
      ]
     },
     "execution_count": 27,
     "metadata": {},
     "output_type": "execute_result"
    }
   ],
   "source": [
    "X_train.shape, y_train.shape"
   ]
  },
  {
   "cell_type": "code",
   "execution_count": 28,
   "metadata": {},
   "outputs": [
    {
     "data": {
      "text/plain": [
       "((54, 16384), (54,))"
      ]
     },
     "execution_count": 28,
     "metadata": {},
     "output_type": "execute_result"
    }
   ],
   "source": [
    "X_test.shape, y_test.shape"
   ]
  },
  {
   "cell_type": "markdown",
   "metadata": {},
   "source": [
    "##Building and training the neural network"
   ]
  },
  {
   "cell_type": "code",
   "execution_count": 29,
   "metadata": {},
   "outputs": [
    {
     "data": {
      "text/plain": [
       "8193.0"
      ]
     },
     "execution_count": 29,
     "metadata": {},
     "output_type": "execute_result"
    }
   ],
   "source": [
    "(16384 + 2) / 2"
   ]
  },
  {
   "cell_type": "code",
   "execution_count": 30,
   "metadata": {},
   "outputs": [
    {
     "name": "stdout",
     "output_type": "stream",
     "text": [
      "WARNING:tensorflow:From c:\\Users\\User\\AppData\\Local\\Programs\\Python\\Python310\\lib\\site-packages\\keras\\src\\backend.py:873: The name tf.get_default_graph is deprecated. Please use tf.compat.v1.get_default_graph instead.\n",
      "\n"
     ]
    }
   ],
   "source": [
    "# 16384 -> 8193 -> 8193 -> 1\n",
    "network1 = tf.keras.models.Sequential()\n",
    "network1.add(tf.keras.layers.Dense(input_shape=(16384,), units=8193, activation='relu'))\n",
    "network1.add(tf.keras.layers.Dense(units=8193, activation = 'relu'))\n",
    "network1.add(tf.keras.layers.Dense(units = 1, activation = 'sigmoid'))"
   ]
  },
  {
   "cell_type": "code",
   "execution_count": 31,
   "metadata": {},
   "outputs": [
    {
     "name": "stdout",
     "output_type": "stream",
     "text": [
      "Model: \"sequential\"\n",
      "_________________________________________________________________\n",
      " Layer (type)                Output Shape              Param #   \n",
      "=================================================================\n",
      " dense (Dense)               (None, 8193)              134242305 \n",
      "                                                                 \n",
      " dense_1 (Dense)             (None, 8193)              67133442  \n",
      "                                                                 \n",
      " dense_2 (Dense)             (None, 1)                 8194      \n",
      "                                                                 \n",
      "=================================================================\n",
      "Total params: 201383941 (768.22 MB)\n",
      "Trainable params: 201383941 (768.22 MB)\n",
      "Non-trainable params: 0 (0.00 Byte)\n",
      "_________________________________________________________________\n"
     ]
    }
   ],
   "source": [
    "network1.summary()"
   ]
  },
  {
   "cell_type": "code",
   "execution_count": 32,
   "metadata": {},
   "outputs": [
    {
     "name": "stdout",
     "output_type": "stream",
     "text": [
      "WARNING:tensorflow:From c:\\Users\\User\\AppData\\Local\\Programs\\Python\\Python310\\lib\\site-packages\\keras\\src\\optimizers\\__init__.py:309: The name tf.train.Optimizer is deprecated. Please use tf.compat.v1.train.Optimizer instead.\n",
      "\n"
     ]
    }
   ],
   "source": [
    "# https://keras.io/api/optimizers/\n",
    "# https://keras.io/api/losses/\n",
    "network1.compile(optimizer='Adam', loss='binary_crossentropy', metrics = ['accuracy'])"
   ]
  },
  {
   "cell_type": "code",
   "execution_count": 33,
   "metadata": {},
   "outputs": [
    {
     "name": "stdout",
     "output_type": "stream",
     "text": [
      "Epoch 1/50\n",
      "WARNING:tensorflow:From c:\\Users\\User\\AppData\\Local\\Programs\\Python\\Python310\\lib\\site-packages\\keras\\src\\utils\\tf_utils.py:492: The name tf.ragged.RaggedTensorValue is deprecated. Please use tf.compat.v1.ragged.RaggedTensorValue instead.\n",
      "\n",
      "WARNING:tensorflow:From c:\\Users\\User\\AppData\\Local\\Programs\\Python\\Python310\\lib\\site-packages\\keras\\src\\engine\\base_layer_utils.py:384: The name tf.executing_eagerly_outside_functions is deprecated. Please use tf.compat.v1.executing_eagerly_outside_functions instead.\n",
      "\n",
      "7/7 [==============================] - 62s 7s/step - loss: 146.2026 - accuracy: 0.4651\n",
      "Epoch 2/50\n",
      "7/7 [==============================] - 20s 3s/step - loss: 14.9712 - accuracy: 0.4372\n",
      "Epoch 3/50\n",
      "7/7 [==============================] - 19s 3s/step - loss: 5.5933 - accuracy: 0.4930\n",
      "Epoch 4/50\n",
      "7/7 [==============================] - 22s 3s/step - loss: 2.2168 - accuracy: 0.5302\n",
      "Epoch 5/50\n",
      "7/7 [==============================] - 18s 3s/step - loss: 1.2324 - accuracy: 0.5395\n",
      "Epoch 6/50\n",
      "7/7 [==============================] - 18s 3s/step - loss: 0.7822 - accuracy: 0.6093\n",
      "Epoch 7/50\n",
      "7/7 [==============================] - 18s 3s/step - loss: 0.6824 - accuracy: 0.5628\n",
      "Epoch 8/50\n",
      "7/7 [==============================] - 19s 3s/step - loss: 0.7138 - accuracy: 0.5256\n",
      "Epoch 9/50\n",
      "7/7 [==============================] - 18s 3s/step - loss: 0.7029 - accuracy: 0.5814\n",
      "Epoch 10/50\n",
      "7/7 [==============================] - 24s 3s/step - loss: 0.7655 - accuracy: 0.5163\n",
      "Epoch 11/50\n",
      "7/7 [==============================] - 30s 4s/step - loss: 0.9193 - accuracy: 0.5209\n",
      "Epoch 12/50\n",
      "7/7 [==============================] - 21s 3s/step - loss: 0.8682 - accuracy: 0.5302\n",
      "Epoch 13/50\n",
      "7/7 [==============================] - 20s 3s/step - loss: 0.7104 - accuracy: 0.5860\n",
      "Epoch 14/50\n",
      "7/7 [==============================] - 20s 3s/step - loss: 0.6510 - accuracy: 0.6372\n",
      "Epoch 15/50\n",
      "7/7 [==============================] - 21s 3s/step - loss: 0.6411 - accuracy: 0.6419\n",
      "Epoch 16/50\n",
      "7/7 [==============================] - 20s 3s/step - loss: 0.6239 - accuracy: 0.6558\n",
      "Epoch 17/50\n",
      "7/7 [==============================] - 20s 3s/step - loss: 0.6031 - accuracy: 0.6465\n",
      "Epoch 18/50\n",
      "7/7 [==============================] - 21s 3s/step - loss: 0.6033 - accuracy: 0.7023\n",
      "Epoch 19/50\n",
      "7/7 [==============================] - 19s 3s/step - loss: 0.5715 - accuracy: 0.7023\n",
      "Epoch 20/50\n",
      "7/7 [==============================] - 20s 3s/step - loss: 0.5687 - accuracy: 0.7070\n",
      "Epoch 21/50\n",
      "7/7 [==============================] - 19s 3s/step - loss: 0.5520 - accuracy: 0.7349\n",
      "Epoch 22/50\n",
      "7/7 [==============================] - 19s 3s/step - loss: 0.5222 - accuracy: 0.7395\n",
      "Epoch 23/50\n",
      "7/7 [==============================] - 20s 3s/step - loss: 0.4850 - accuracy: 0.7953\n",
      "Epoch 24/50\n",
      "7/7 [==============================] - 22s 3s/step - loss: 0.4692 - accuracy: 0.7674\n",
      "Epoch 25/50\n",
      "7/7 [==============================] - 21s 3s/step - loss: 0.4386 - accuracy: 0.8000\n",
      "Epoch 26/50\n",
      "7/7 [==============================] - 19s 3s/step - loss: 0.4206 - accuracy: 0.8233\n",
      "Epoch 27/50\n",
      "7/7 [==============================] - 20s 3s/step - loss: 0.4370 - accuracy: 0.7488\n",
      "Epoch 28/50\n",
      "7/7 [==============================] - 19s 3s/step - loss: 0.3587 - accuracy: 0.8419\n",
      "Epoch 29/50\n",
      "7/7 [==============================] - 19s 3s/step - loss: 0.3234 - accuracy: 0.8605\n",
      "Epoch 30/50\n",
      "7/7 [==============================] - 19s 3s/step - loss: 0.3518 - accuracy: 0.8512\n",
      "Epoch 31/50\n",
      "7/7 [==============================] - 19s 3s/step - loss: 0.5730 - accuracy: 0.7070\n",
      "Epoch 32/50\n",
      "7/7 [==============================] - 19s 3s/step - loss: 0.5328 - accuracy: 0.7488\n",
      "Epoch 33/50\n",
      "7/7 [==============================] - 19s 3s/step - loss: 0.3019 - accuracy: 0.8837\n",
      "Epoch 34/50\n",
      "7/7 [==============================] - 20s 3s/step - loss: 0.3001 - accuracy: 0.8605\n",
      "Epoch 35/50\n",
      "7/7 [==============================] - 20s 3s/step - loss: 0.3067 - accuracy: 0.8651\n",
      "Epoch 36/50\n",
      "7/7 [==============================] - 20s 3s/step - loss: 0.3055 - accuracy: 0.8465\n",
      "Epoch 37/50\n",
      "7/7 [==============================] - 20s 3s/step - loss: 0.2338 - accuracy: 0.9070\n",
      "Epoch 38/50\n",
      "7/7 [==============================] - 20s 3s/step - loss: 0.2900 - accuracy: 0.8512\n",
      "Epoch 39/50\n",
      "7/7 [==============================] - 19s 3s/step - loss: 0.3306 - accuracy: 0.8326\n",
      "Epoch 40/50\n",
      "7/7 [==============================] - 21s 3s/step - loss: 0.2024 - accuracy: 0.9070\n",
      "Epoch 41/50\n",
      "7/7 [==============================] - 20s 3s/step - loss: 0.1487 - accuracy: 0.9488\n",
      "Epoch 42/50\n",
      "7/7 [==============================] - 19s 3s/step - loss: 0.1006 - accuracy: 0.9860\n",
      "Epoch 43/50\n",
      "7/7 [==============================] - 19s 3s/step - loss: 0.1242 - accuracy: 0.9535\n",
      "Epoch 44/50\n",
      "7/7 [==============================] - 20s 3s/step - loss: 0.1058 - accuracy: 0.9767\n",
      "Epoch 45/50\n",
      "7/7 [==============================] - 19s 3s/step - loss: 0.0789 - accuracy: 0.9814\n",
      "Epoch 46/50\n",
      "7/7 [==============================] - 19s 3s/step - loss: 0.0564 - accuracy: 1.0000\n",
      "Epoch 47/50\n",
      "7/7 [==============================] - 19s 3s/step - loss: 0.0480 - accuracy: 0.9953\n",
      "Epoch 48/50\n",
      "7/7 [==============================] - 21s 3s/step - loss: 0.0375 - accuracy: 0.9953\n",
      "Epoch 49/50\n",
      "7/7 [==============================] - 19s 3s/step - loss: 0.0252 - accuracy: 1.0000\n",
      "Epoch 50/50\n",
      "7/7 [==============================] - 19s 3s/step - loss: 0.0218 - accuracy: 1.0000\n"
     ]
    }
   ],
   "source": [
    "history = network1.fit(X_train, y_train, epochs=50)"
   ]
  },
  {
   "cell_type": "markdown",
   "metadata": {},
   "source": [
    "##Evaluating the neural network"
   ]
  },
  {
   "cell_type": "code",
   "execution_count": 34,
   "metadata": {},
   "outputs": [
    {
     "data": {
      "text/plain": [
       "dict_keys(['loss', 'accuracy'])"
      ]
     },
     "execution_count": 34,
     "metadata": {},
     "output_type": "execute_result"
    }
   ],
   "source": [
    "history.history.keys()"
   ]
  },
  {
   "cell_type": "code",
   "execution_count": 35,
   "metadata": {},
   "outputs": [
    {
     "data": {
      "text/plain": [
       "[<matplotlib.lines.Line2D at 0x19074a7cee0>]"
      ]
     },
     "execution_count": 35,
     "metadata": {},
     "output_type": "execute_result"
    },
    {
     "data": {
      "image/png": "[encoded data removed]",
      "text/plain": [
       "<Figure size 640x480 with 1 Axes>"
      ]
     },
     "metadata": {},
     "output_type": "display_data"
    }
   ],
   "source": [
    "plt.plot(history.history['loss'])"
   ]
  },
  {
   "cell_type": "code",
   "execution_count": 36,
   "metadata": {},
   "outputs": [
    {
     "data": {
      "text/plain": [
       "[<matplotlib.lines.Line2D at 0x19074adf2e0>]"
      ]
     },
     "execution_count": 36,
     "metadata": {},
     "output_type": "execute_result"
    },
    {
     "data": {
      "image/png": "[encoded data removed]",
      "text/plain": [
       "<Figure size 640x480 with 1 Axes>"
      ]
     },
     "metadata": {},
     "output_type": "display_data"
    }
   ],
   "source": [
    "plt.plot(history.history['accuracy'])"
   ]
  },
  {
   "cell_type": "code",
   "execution_count": 37,
   "metadata": {},
   "outputs": [
    {
     "data": {
      "text/plain": [
       "(54, 16384)"
      ]
     },
     "execution_count": 37,
     "metadata": {},
     "output_type": "execute_result"
    }
   ],
   "source": [
    "X_test.shape"
   ]
  },
  {
   "cell_type": "code",
   "execution_count": 38,
   "metadata": {},
   "outputs": [
    {
     "name": "stdout",
     "output_type": "stream",
     "text": [
      "2/2 [==============================] - 1s 160ms/step\n"
     ]
    },
    {
     "data": {
      "text/plain": [
       "array([[0.01494502],\n",
       "       [0.9969049 ],\n",
       "       [0.01805776],\n",
       "       [0.10871814],\n",
       "       [0.70099765],\n",
       "       [0.02629646],\n",
       "       [0.9960234 ],\n",
       "       [0.86044914],\n",
       "       [0.4218869 ],\n",
       "       [0.8384532 ],\n",
       "       [0.08881059],\n",
       "       [0.9999077 ],\n",
       "       [0.7313265 ],\n",
       "       [0.71205467],\n",
       "       [0.13087134],\n",
       "       [0.0384824 ],\n",
       "       [0.20594177],\n",
       "       [0.6744136 ],\n",
       "       [0.06501373],\n",
       "       [0.01344637],\n",
       "       [0.00981413],\n",
       "       [0.7828664 ],\n",
       "       [0.01754104],\n",
       "       [0.1534487 ],\n",
       "       [0.08752529],\n",
       "       [0.7511176 ],\n",
       "       [0.02583438],\n",
       "       [0.02895952],\n",
       "       [0.12307085],\n",
       "       [0.9616482 ],\n",
       "       [0.26834744],\n",
       "       [0.9953348 ],\n",
       "       [0.7720715 ],\n",
       "       [0.0038812 ],\n",
       "       [0.9995646 ],\n",
       "       [0.01653315],\n",
       "       [0.5432356 ],\n",
       "       [0.02324272],\n",
       "       [0.20161088],\n",
       "       [0.00871548],\n",
       "       [0.9416371 ],\n",
       "       [0.8900513 ],\n",
       "       [0.1217185 ],\n",
       "       [0.0338623 ],\n",
       "       [0.03782207],\n",
       "       [0.36860073],\n",
       "       [0.9555318 ],\n",
       "       [0.02489454],\n",
       "       [0.1733086 ],\n",
       "       [0.9659092 ],\n",
       "       [0.00357696],\n",
       "       [0.7840395 ],\n",
       "       [0.70391077],\n",
       "       [0.49521884]], dtype=float32)"
      ]
     },
     "execution_count": 38,
     "metadata": {},
     "output_type": "execute_result"
    }
   ],
   "source": [
    "predictions = network1.predict(X_test)\n",
    "predictions"
   ]
  },
  {
   "cell_type": "code",
   "execution_count": 39,
   "metadata": {},
   "outputs": [],
   "source": [
    "# 0 False - Bart\n",
    "# 1 True  - Homer"
   ]
  },
  {
   "cell_type": "code",
   "execution_count": 40,
   "metadata": {},
   "outputs": [
    {
     "data": {
      "text/plain": [
       "array([[False],\n",
       "       [ True],\n",
       "       [False],\n",
       "       [False],\n",
       "       [ True],\n",
       "       [False],\n",
       "       [ True],\n",
       "       [ True],\n",
       "       [False],\n",
       "       [ True],\n",
       "       [False],\n",
       "       [ True],\n",
       "       [ True],\n",
       "       [ True],\n",
       "       [False],\n",
       "       [False],\n",
       "       [False],\n",
       "       [ True],\n",
       "       [False],\n",
       "       [False],\n",
       "       [False],\n",
       "       [ True],\n",
       "       [False],\n",
       "       [False],\n",
       "       [False],\n",
       "       [ True],\n",
       "       [False],\n",
       "       [False],\n",
       "       [False],\n",
       "       [ True],\n",
       "       [False],\n",
       "       [ True],\n",
       "       [ True],\n",
       "       [False],\n",
       "       [ True],\n",
       "       [False],\n",
       "       [ True],\n",
       "       [False],\n",
       "       [False],\n",
       "       [False],\n",
       "       [ True],\n",
       "       [ True],\n",
       "       [False],\n",
       "       [False],\n",
       "       [False],\n",
       "       [False],\n",
       "       [ True],\n",
       "       [False],\n",
       "       [False],\n",
       "       [ True],\n",
       "       [False],\n",
       "       [ True],\n",
       "       [ True],\n",
       "       [False]])"
      ]
     },
     "execution_count": 40,
     "metadata": {},
     "output_type": "execute_result"
    }
   ],
   "source": [
    "predictions = (predictions > 0.5)\n",
    "predictions"
   ]
  },
  {
   "cell_type": "code",
   "execution_count": 41,
   "metadata": {},
   "outputs": [
    {
     "data": {
      "text/plain": [
       "array([0, 1, 0, 0, 0, 1, 0, 0, 0, 0, 0, 1, 1, 0, 1, 1, 1, 1, 0, 0, 0, 1,\n",
       "       0, 0, 0, 1, 0, 0, 1, 1, 1, 1, 1, 1, 1, 1, 0, 0, 0, 0, 1, 1, 0, 0,\n",
       "       0, 1, 1, 0, 0, 1, 0, 1, 1, 1])"
      ]
     },
     "execution_count": 41,
     "metadata": {},
     "output_type": "execute_result"
    }
   ],
   "source": [
    "y_test"
   ]
  },
  {
   "cell_type": "code",
   "execution_count": 42,
   "metadata": {},
   "outputs": [
    {
     "data": {
      "text/plain": [
       "0.7037037037037037"
      ]
     },
     "execution_count": 42,
     "metadata": {},
     "output_type": "execute_result"
    }
   ],
   "source": [
    "from sklearn.metrics import accuracy_score\n",
    "accuracy_score(y_test, predictions)"
   ]
  },
  {
   "cell_type": "code",
   "execution_count": 43,
   "metadata": {},
   "outputs": [
    {
     "data": {
      "text/plain": [
       "array([[22,  6],\n",
       "       [10, 16]], dtype=int64)"
      ]
     },
     "execution_count": 43,
     "metadata": {},
     "output_type": "execute_result"
    }
   ],
   "source": [
    "from sklearn.metrics import confusion_matrix\n",
    "cm = confusion_matrix(y_test, predictions)\n",
    "cm"
   ]
  },
  {
   "cell_type": "code",
   "execution_count": 44,
   "metadata": {},
   "outputs": [
    {
     "data": {
      "text/plain": [
       "<Axes: >"
      ]
     },
     "execution_count": 44,
     "metadata": {},
     "output_type": "execute_result"
    },
    {
     "data": {
      "image/png": "[encoded data removed]",
      "text/plain": [
       "<Figure size 640x480 with 2 Axes>"
      ]
     },
     "metadata": {},
     "output_type": "display_data"
    }
   ],
   "source": [
    "sns.heatmap(cm, annot=True)"
   ]
  },
  {
   "cell_type": "code",
   "execution_count": 45,
   "metadata": {},
   "outputs": [
    {
     "name": "stdout",
     "output_type": "stream",
     "text": [
      "              precision    recall  f1-score   support\n",
      "\n",
      "           0       0.69      0.79      0.73        28\n",
      "           1       0.73      0.62      0.67        26\n",
      "\n",
      "    accuracy                           0.70        54\n",
      "   macro avg       0.71      0.70      0.70        54\n",
      "weighted avg       0.71      0.70      0.70        54\n",
      "\n"
     ]
    }
   ],
   "source": [
    "from sklearn.metrics import classification_report\n",
    "print(classification_report(y_test, predictions))"
   ]
  },
  {
   "cell_type": "markdown",
   "metadata": {},
   "source": [
    "##Saving and loading the network"
   ]
  },
  {
   "cell_type": "code",
   "execution_count": 46,
   "metadata": {},
   "outputs": [],
   "source": [
    "model_json = network1.to_json()\n",
    "with open('network1.json', 'w') as json_file:\n",
    "  json_file.write(model_json)"
   ]
  },
  {
   "cell_type": "code",
   "execution_count": 47,
   "metadata": {},
   "outputs": [
    {
     "name": "stderr",
     "output_type": "stream",
     "text": [
      "C:\\Users\\User\\AppData\\Local\\Temp\\ipykernel_23608\\3936942524.py:2: UserWarning: You are saving your model as an HDF5 file via `model.save()`. This file format is considered legacy. We recommend using instead the native Keras format, e.g. `model.save('my_model.keras')`.\n",
      "  network1_saved = save_model(network1, 'weights1.hdf5')\n"
     ]
    }
   ],
   "source": [
    "from keras.models import save_model\n",
    "network1_saved = save_model(network1, 'weights1.hdf5')"
   ]
  },
  {
   "cell_type": "code",
   "execution_count": 48,
   "metadata": {},
   "outputs": [
    {
     "data": {
      "text/plain": [
       "'{\"class_name\": \"Sequential\", \"config\": {\"name\": \"sequential\", \"layers\": [{\"module\": \"keras.layers\", \"class_name\": \"InputLayer\", \"config\": {\"batch_input_shape\": [null, 16384], \"dtype\": \"float32\", \"sparse\": false, \"ragged\": false, \"name\": \"dense_input\"}, \"registered_name\": null}, {\"module\": \"keras.layers\", \"class_name\": \"Dense\", \"config\": {\"name\": \"dense\", \"trainable\": true, \"dtype\": \"float32\", \"batch_input_shape\": [null, 16384], \"units\": 8193, \"activation\": \"relu\", \"use_bias\": true, \"kernel_initializer\": {\"module\": \"keras.initializers\", \"class_name\": \"GlorotUniform\", \"config\": {\"seed\": null}, \"registered_name\": null}, \"bias_initializer\": {\"module\": \"keras.initializers\", \"class_name\": \"Zeros\", \"config\": {}, \"registered_name\": null}, \"kernel_regularizer\": null, \"bias_regularizer\": null, \"activity_regularizer\": null, \"kernel_constraint\": null, \"bias_constraint\": null}, \"registered_name\": null, \"build_config\": {\"input_shape\": [null, 16384]}}, {\"module\": \"keras.layers\", \"class_name\": \"Dense\", \"config\": {\"name\": \"dense_1\", \"trainable\": true, \"dtype\": \"float32\", \"units\": 8193, \"activation\": \"relu\", \"use_bias\": true, \"kernel_initializer\": {\"module\": \"keras.initializers\", \"class_name\": \"GlorotUniform\", \"config\": {\"seed\": null}, \"registered_name\": null}, \"bias_initializer\": {\"module\": \"keras.initializers\", \"class_name\": \"Zeros\", \"config\": {}, \"registered_name\": null}, \"kernel_regularizer\": null, \"bias_regularizer\": null, \"activity_regularizer\": null, \"kernel_constraint\": null, \"bias_constraint\": null}, \"registered_name\": null, \"build_config\": {\"input_shape\": [null, 8193]}}, {\"module\": \"keras.layers\", \"class_name\": \"Dense\", \"config\": {\"name\": \"dense_2\", \"trainable\": true, \"dtype\": \"float32\", \"units\": 1, \"activation\": \"sigmoid\", \"use_bias\": true, \"kernel_initializer\": {\"module\": \"keras.initializers\", \"class_name\": \"GlorotUniform\", \"config\": {\"seed\": null}, \"registered_name\": null}, \"bias_initializer\": {\"module\": \"keras.initializers\", \"class_name\": \"Zeros\", \"config\": {}, \"registered_name\": null}, \"kernel_regularizer\": null, \"bias_regularizer\": null, \"activity_regularizer\": null, \"kernel_constraint\": null, \"bias_constraint\": null}, \"registered_name\": null, \"build_config\": {\"input_shape\": [null, 8193]}}]}, \"keras_version\": \"2.15.0\", \"backend\": \"tensorflow\"}'"
      ]
     },
     "execution_count": 48,
     "metadata": {},
     "output_type": "execute_result"
    }
   ],
   "source": [
    "with open('network1.json') as json_file:\n",
    "  json_saved_model = json_file.read()\n",
    "json_saved_model"
   ]
  },
  {
   "cell_type": "code",
   "execution_count": 49,
   "metadata": {},
   "outputs": [],
   "source": [
    "network1_loaded = tf.keras.models.model_from_json(json_saved_model)\n",
    "network1_loaded.load_weights('weights1.hdf5')\n",
    "network1_loaded.compile(loss = 'binary_crossentropy', optimizer = 'Adam', metrics = ['accuracy'])"
   ]
  },
  {
   "cell_type": "code",
   "execution_count": 50,
   "metadata": {},
   "outputs": [
    {
     "name": "stdout",
     "output_type": "stream",
     "text": [
      "Model: \"sequential\"\n",
      "_________________________________________________________________\n",
      " Layer (type)                Output Shape              Param #   \n",
      "=================================================================\n",
      " dense (Dense)               (None, 8193)              134242305 \n",
      "                                                                 \n",
      " dense_1 (Dense)             (None, 8193)              67133442  \n",
      "                                                                 \n",
      " dense_2 (Dense)             (None, 1)                 8194      \n",
      "                                                                 \n",
      "=================================================================\n",
      "Total params: 201383941 (768.22 MB)\n",
      "Trainable params: 201383941 (768.22 MB)\n",
      "Non-trainable params: 0 (0.00 Byte)\n",
      "_________________________________________________________________\n"
     ]
    }
   ],
   "source": [
    "network1_loaded.summary()"
   ]
  },
  {
   "cell_type": "markdown",
   "metadata": {},
   "source": [
    "##Classifying one single image"
   ]
  },
  {
   "cell_type": "code",
   "execution_count": 51,
   "metadata": {},
   "outputs": [
    {
     "data": {
      "text/plain": [
       "(16384,)"
      ]
     },
     "execution_count": 51,
     "metadata": {},
     "output_type": "execute_result"
    }
   ],
   "source": [
    "X_test[38].shape"
   ]
  },
  {
   "cell_type": "code",
   "execution_count": 52,
   "metadata": {},
   "outputs": [],
   "source": [
    "test_image = X_test[38]\n",
    "test_image = scaler.inverse_transform(test_image.reshape(1, -1))"
   ]
  },
  {
   "cell_type": "code",
   "execution_count": 53,
   "metadata": {},
   "outputs": [
    {
     "data": {
      "text/plain": [
       "array([[255., 255., 255., ..., 255., 255., 255.]])"
      ]
     },
     "execution_count": 53,
     "metadata": {},
     "output_type": "execute_result"
    }
   ],
   "source": [
    "test_image"
   ]
  },
  {
   "cell_type": "code",
   "execution_count": 54,
   "metadata": {},
   "outputs": [],
   "source": [
    "cv2.imshow('image',test_image.reshape(width, height))\n",
    "cv2.waitKey(0)\n",
    "cv2.destroyAllWindows()"
   ]
  },
  {
   "cell_type": "code",
   "execution_count": 55,
   "metadata": {},
   "outputs": [
    {
     "name": "stdout",
     "output_type": "stream",
     "text": [
      "1/1 [==============================] - 0s 354ms/step\n"
     ]
    },
    {
     "data": {
      "text/plain": [
       "0.0"
      ]
     },
     "execution_count": 55,
     "metadata": {},
     "output_type": "execute_result"
    }
   ],
   "source": [
    "network1_loaded.predict(test_image)[0][0]"
   ]
  },
  {
   "cell_type": "code",
   "execution_count": 56,
   "metadata": {},
   "outputs": [
    {
     "name": "stdout",
     "output_type": "stream",
     "text": [
      "1/1 [==============================] - 0s 137ms/step\n",
      "Bart\n"
     ]
    }
   ],
   "source": [
    "if network1_loaded.predict(test_image)[0][0] < 0.5:\n",
    "  print('Bart')\n",
    "else:\n",
    "  print('Homer')"
   ]
  }
 ],
 "metadata": {
  "kernelspec": {
   "display_name": "Python 3",
   "language": "python",
   "name": "python3"
  },
  "language_info": {
   "codemirror_mode": {
    "name": "ipython",
    "version": 3
   },
   "file_extension": ".py",
   "mimetype": "text/x-python",
   "name": "python",
   "nbconvert_exporter": "python",
   "pygments_lexer": "ipython3",
   "version": "3.10.0"
  }
 },
 "nbformat": 4,
 "nbformat_minor": 2
}
